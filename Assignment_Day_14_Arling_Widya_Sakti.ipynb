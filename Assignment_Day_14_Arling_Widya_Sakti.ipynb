{
  "nbformat": 4,
  "nbformat_minor": 0,
  "metadata": {
    "colab": {
      "name": "Assignment Day 14 - Arling Widya Sakti",
      "provenance": []
    },
    "kernelspec": {
      "name": "python3",
      "display_name": "Python 3"
    },
    "language_info": {
      "name": "python"
    }
  },
  "cells": [
    {
      "cell_type": "markdown",
      "source": [
        "Assignment Instruction :\n",
        "Causal Analysis I & II \n",
        "1. Jelaskan mengapa proses matching perlu dilakukan ketika ingin mengukur dampak dari suatu treatment pada propensity score modeling?\n",
        "\n",
        "Jawab :\n",
        "perlu karena untuk melakukan estmasi standar pada eror, analisa yang mungkin terjadi dan pemeriksaan ganda.\n"
      ],
      "metadata": {
        "id": "-nCHo2L1B0vr"
      }
    },
    {
      "cell_type": "markdown",
      "source": [
        "2. Sebelum adanya Double ML, peneliti machine learning menggunakan metode Double Selection untuk menguji efek dari treatment. Namun pada akhirnya Double Machine Learning digunakan karena lebih baik dibandingkan dengan Double Selection. Jelaskan mengapa Double ML lebih baik digunakan ketimbang Double Selection? Masalah apa yang ada pada Double Selection yang dapat diselesaikan dengan Double ML?\n",
        "\n",
        "Jawab ?\n",
        "Double ML lebih baik karena bisa mengasumsikan semua kondisi khas untuk identifiability dalam kesimpulan klausal yaitu tidak ada pembaur tersembunyi,positif dan konsistensi tujuannya mendapatkan penaksir akarn-konsisten dan interval kepercayaaan dari parameter (rendah) yang diinginkan.\n"
      ],
      "metadata": {
        "id": "Xo3A5uufDOWf"
      }
    },
    {
      "cell_type": "markdown",
      "source": [
        "3. ATE, CATE, dan LATE.\n",
        "Jawab \n",
        "ATE = perbedaan dalam nilai yang diharapkan (mean) dari lama pengangguran kelompok perlakuan dan kontrol, Menentukan apakah perkiraan ATE dapat dibedakan dari nol (baik positif atau negatif) memerlukan inferensi statistik.\n",
        "CATE = jadi melihat pengukuran kondisi contoh berdasarkan Gender, tingkat pendidikan\n",
        "LATE = bagaimana mengukur eksperimen dari orang-orang yang ada intensi tidak menjalankan prosedur yang ada, contoh eksperimen akademin"
      ],
      "metadata": {
        "id": "M7R4CODvMBQ2"
      }
    },
    {
      "cell_type": "markdown",
      "source": [
        "4. Kita dapat mengekstrak knowledge dari model dengan menggunakan interpretable machine learning. Namun kita juga dapat menggunakan metode seperti double ML untuk mendapatkan pola sebab-akibat berdasarkan data generation process. Mana metode yang lebih baik untuk menjelaskan dampak dari akibat? Kapan metode interpretable machine learning dapat digunakan untuk analisis kausal?\n",
        "\n",
        "Jawab = \n",
        "- Metode analisa regresi, salah satu jenis metode yang dapat digunakan untuk melihat hubungan sebab-akibat antar variabel penelitian. Karena tujuannya untuk melihat hubungan sebab-akibat.\n",
        "\n",
        "- Saat menentukan prediksi keluaran atau mengungkap tren. "
      ],
      "metadata": {
        "id": "TN1Qhl8AGDhp"
      }
    }
  ]
}