{
  "nbformat": 4,
  "nbformat_minor": 0,
  "metadata": {
    "colab": {
      "name": "M Agung Maulidia P_Arling widiya Sakti - Day 19 & 20 Case Study - Uplift Modeling - Topi 2",
      "provenance": []
    },
    "kernelspec": {
      "name": "python3",
      "display_name": "Python 3"
    },
    "language_info": {
      "name": "python"
    }
  },
  "cells": [
    {
      "cell_type": "markdown",
      "source": [
        "# **Install and Load Packages**"
      ],
      "metadata": {
        "id": "WZ2Mz02oQpI7"
      }
    },
    {
      "cell_type": "code",
      "execution_count": null,
      "metadata": {
        "colab": {
          "base_uri": "https://localhost:8080/"
        },
        "id": "IDOA_imVPg4g",
        "outputId": "dbd78398-b563-4b97-da79-952d0b3daf17"
      },
      "outputs": [
        {
          "output_type": "stream",
          "name": "stdout",
          "text": [
            "Looking in indexes: https://pypi.org/simple, https://us-python.pkg.dev/colab-wheels/public/simple/\n",
            "Requirement already satisfied: causalml in /usr/local/lib/python3.7/dist-packages (0.12.3)\n",
            "Requirement already satisfied: pydotplus in /usr/local/lib/python3.7/dist-packages (from causalml) (2.0.2)\n",
            "Requirement already satisfied: seaborn in /usr/local/lib/python3.7/dist-packages (from causalml) (0.11.2)\n",
            "Requirement already satisfied: pyro-ppl in /usr/local/lib/python3.7/dist-packages (from causalml) (1.8.1)\n",
            "Requirement already satisfied: torch in /usr/local/lib/python3.7/dist-packages (from causalml) (1.11.0+cu113)\n",
            "Requirement already satisfied: xgboost in /usr/local/lib/python3.7/dist-packages (from causalml) (0.90)\n",
            "Requirement already satisfied: matplotlib in /usr/local/lib/python3.7/dist-packages (from causalml) (3.2.2)\n",
            "Requirement already satisfied: tqdm in /usr/local/lib/python3.7/dist-packages (from causalml) (4.64.0)\n",
            "Requirement already satisfied: pygam in /usr/local/lib/python3.7/dist-packages (from causalml) (0.8.0)\n",
            "Requirement already satisfied: setuptools>=41.0.0 in /usr/local/lib/python3.7/dist-packages (from causalml) (57.4.0)\n",
            "Requirement already satisfied: shap in /usr/local/lib/python3.7/dist-packages (from causalml) (0.40.0)\n",
            "Requirement already satisfied: Cython>=0.28.0 in /usr/local/lib/python3.7/dist-packages (from causalml) (0.29.30)\n",
            "Requirement already satisfied: lightgbm in /usr/local/lib/python3.7/dist-packages (from causalml) (2.2.3)\n",
            "Requirement already satisfied: dill in /usr/local/lib/python3.7/dist-packages (from causalml) (0.3.5.1)\n",
            "Requirement already satisfied: scikit-learn>=0.22.0 in /usr/local/lib/python3.7/dist-packages (from causalml) (1.0.2)\n",
            "Requirement already satisfied: pandas>=0.24.1 in /usr/local/lib/python3.7/dist-packages (from causalml) (1.3.5)\n",
            "Requirement already satisfied: statsmodels>=0.9.0 in /usr/local/lib/python3.7/dist-packages (from causalml) (0.10.2)\n",
            "Requirement already satisfied: graphviz in /usr/local/lib/python3.7/dist-packages (from causalml) (0.10.1)\n",
            "Requirement already satisfied: numpy>=1.18.5 in /usr/local/lib/python3.7/dist-packages (from causalml) (1.21.6)\n",
            "Requirement already satisfied: packaging in /usr/local/lib/python3.7/dist-packages (from causalml) (21.3)\n",
            "Requirement already satisfied: scipy>=1.4.1 in /usr/local/lib/python3.7/dist-packages (from causalml) (1.4.1)\n",
            "Requirement already satisfied: pip>=10.0 in /usr/local/lib/python3.7/dist-packages (from causalml) (21.1.3)\n",
            "Requirement already satisfied: pytz>=2017.3 in /usr/local/lib/python3.7/dist-packages (from pandas>=0.24.1->causalml) (2022.1)\n",
            "Requirement already satisfied: python-dateutil>=2.7.3 in /usr/local/lib/python3.7/dist-packages (from pandas>=0.24.1->causalml) (2.8.2)\n",
            "Requirement already satisfied: six>=1.5 in /usr/local/lib/python3.7/dist-packages (from python-dateutil>=2.7.3->pandas>=0.24.1->causalml) (1.15.0)\n",
            "Requirement already satisfied: threadpoolctl>=2.0.0 in /usr/local/lib/python3.7/dist-packages (from scikit-learn>=0.22.0->causalml) (3.1.0)\n",
            "Requirement already satisfied: joblib>=0.11 in /usr/local/lib/python3.7/dist-packages (from scikit-learn>=0.22.0->causalml) (1.1.0)\n",
            "Requirement already satisfied: patsy>=0.4.0 in /usr/local/lib/python3.7/dist-packages (from statsmodels>=0.9.0->causalml) (0.5.2)\n",
            "Requirement already satisfied: kiwisolver>=1.0.1 in /usr/local/lib/python3.7/dist-packages (from matplotlib->causalml) (1.4.2)\n",
            "Requirement already satisfied: pyparsing!=2.0.4,!=2.1.2,!=2.1.6,>=2.0.1 in /usr/local/lib/python3.7/dist-packages (from matplotlib->causalml) (3.0.9)\n",
            "Requirement already satisfied: cycler>=0.10 in /usr/local/lib/python3.7/dist-packages (from matplotlib->causalml) (0.11.0)\n",
            "Requirement already satisfied: typing-extensions in /usr/local/lib/python3.7/dist-packages (from kiwisolver>=1.0.1->matplotlib->causalml) (4.2.0)\n",
            "Requirement already satisfied: future in /usr/local/lib/python3.7/dist-packages (from pygam->causalml) (0.16.0)\n",
            "Requirement already satisfied: progressbar2 in /usr/local/lib/python3.7/dist-packages (from pygam->causalml) (3.38.0)\n",
            "Requirement already satisfied: python-utils>=2.3.0 in /usr/local/lib/python3.7/dist-packages (from progressbar2->pygam->causalml) (3.2.3)\n",
            "Requirement already satisfied: opt-einsum>=2.3.2 in /usr/local/lib/python3.7/dist-packages (from pyro-ppl->causalml) (3.3.0)\n",
            "Requirement already satisfied: pyro-api>=0.1.1 in /usr/local/lib/python3.7/dist-packages (from pyro-ppl->causalml) (0.1.2)\n",
            "Requirement already satisfied: slicer==0.0.7 in /usr/local/lib/python3.7/dist-packages (from shap->causalml) (0.0.7)\n",
            "Requirement already satisfied: cloudpickle in /usr/local/lib/python3.7/dist-packages (from shap->causalml) (1.3.0)\n",
            "Requirement already satisfied: numba in /usr/local/lib/python3.7/dist-packages (from shap->causalml) (0.51.2)\n",
            "Requirement already satisfied: llvmlite<0.35,>=0.34.0.dev0 in /usr/local/lib/python3.7/dist-packages (from numba->shap->causalml) (0.34.0)\n",
            "Looking in indexes: https://pypi.org/simple, https://us-python.pkg.dev/colab-wheels/public/simple/\n",
            "Requirement already satisfied: scikit-plot in /usr/local/lib/python3.7/dist-packages (0.3.7)\n",
            "Requirement already satisfied: joblib>=0.10 in /usr/local/lib/python3.7/dist-packages (from scikit-plot) (1.1.0)\n",
            "Requirement already satisfied: scikit-learn>=0.18 in /usr/local/lib/python3.7/dist-packages (from scikit-plot) (1.0.2)\n",
            "Requirement already satisfied: scipy>=0.9 in /usr/local/lib/python3.7/dist-packages (from scikit-plot) (1.4.1)\n",
            "Requirement already satisfied: matplotlib>=1.4.0 in /usr/local/lib/python3.7/dist-packages (from scikit-plot) (3.2.2)\n",
            "Requirement already satisfied: pyparsing!=2.0.4,!=2.1.2,!=2.1.6,>=2.0.1 in /usr/local/lib/python3.7/dist-packages (from matplotlib>=1.4.0->scikit-plot) (3.0.9)\n",
            "Requirement already satisfied: numpy>=1.11 in /usr/local/lib/python3.7/dist-packages (from matplotlib>=1.4.0->scikit-plot) (1.21.6)\n",
            "Requirement already satisfied: cycler>=0.10 in /usr/local/lib/python3.7/dist-packages (from matplotlib>=1.4.0->scikit-plot) (0.11.0)\n",
            "Requirement already satisfied: kiwisolver>=1.0.1 in /usr/local/lib/python3.7/dist-packages (from matplotlib>=1.4.0->scikit-plot) (1.4.2)\n",
            "Requirement already satisfied: python-dateutil>=2.1 in /usr/local/lib/python3.7/dist-packages (from matplotlib>=1.4.0->scikit-plot) (2.8.2)\n",
            "Requirement already satisfied: typing-extensions in /usr/local/lib/python3.7/dist-packages (from kiwisolver>=1.0.1->matplotlib>=1.4.0->scikit-plot) (4.2.0)\n",
            "Requirement already satisfied: six>=1.5 in /usr/local/lib/python3.7/dist-packages (from python-dateutil>=2.1->matplotlib>=1.4.0->scikit-plot) (1.15.0)\n",
            "Requirement already satisfied: threadpoolctl>=2.0.0 in /usr/local/lib/python3.7/dist-packages (from scikit-learn>=0.18->scikit-plot) (3.1.0)\n"
          ]
        }
      ],
      "source": [
        "!pip install causalml\n",
        "!pip install scikit-plot"
      ]
    },
    {
      "cell_type": "code",
      "source": [
        "import pandas as pd\n",
        "import matplotlib.pyplot as plt\n",
        "palette = {0: 'tab:blue',1:'tab:orange'}\n",
        "import numpy as np\n",
        "import seaborn as sns\n",
        "import plotly.express as px\n",
        "\n",
        "from sklearn.linear_model import LogisticRegression\n",
        "from sklearn.model_selection import train_test_split\n",
        "from sklearn.metrics import roc_curve, roc_auc_score, classification_report\n",
        "\n",
        "import scikitplot as skplt\n",
        "\n",
        "from causalml.dataset import make_uplift_classification\n",
        "from causalml.inference.tree import UpliftRandomForestClassifier\n",
        "import causalml.metrics as metrics\n",
        "\n",
        "plt.rcParams[\"figure.figsize\"] = (18, 9)\n",
        "plt.rcParams[\"font.size\"] = 25\n",
        "sns.set()"
      ],
      "metadata": {
        "id": "h8cFX5_MQwlm"
      },
      "execution_count": null,
      "outputs": []
    },
    {
      "cell_type": "markdown",
      "source": [
        "# **Load Dataset**"
      ],
      "metadata": {
        "id": "bTSBL4KAQzxT"
      }
    },
    {
      "cell_type": "code",
      "source": [
        "df = pd.read_csv(\"https://raw.githubusercontent.com/hadimaster65555/dataset_for_teaching/main/dataset/employee_turnover/turnover.csv\", encoding = \"ISO-8859-1\")"
      ],
      "metadata": {
        "id": "Cfcg3E3yQzi6"
      },
      "execution_count": null,
      "outputs": []
    },
    {
      "cell_type": "markdown",
      "source": [
        "Data Inspection"
      ],
      "metadata": {
        "id": "Hh3bzl6tRFmG"
      }
    },
    {
      "cell_type": "markdown",
      "source": [
        "Check the first 5 rows"
      ],
      "metadata": {
        "id": "k6Rj7siERrbk"
      }
    },
    {
      "cell_type": "code",
      "source": [
        "df.sample(10)"
      ],
      "metadata": {
        "colab": {
          "base_uri": "https://localhost:8080/",
          "height": 363
        },
        "id": "rMITpRiRRExi",
        "outputId": "6ecc05bc-f12c-4a50-f9ca-d372b495f6ec"
      },
      "execution_count": null,
      "outputs": [
        {
          "output_type": "execute_result",
          "data": {
            "text/plain": [
              "          stag  event gender        age     industry profession      traffic  \\\n",
              "921  16.065708      0      f  50.000000     Building         HR  rabrecNErab   \n",
              "5     8.969199      1      f  42.000000  manufacture         HR        empjs   \n",
              "207  25.987680      1      f  23.000000           IT         HR        youjs   \n",
              "329   6.176591      1      f  38.000000    transport         HR        youjs   \n",
              "880   9.691992      0      f  35.000000   RealEstate         HR  rabrecNErab   \n",
              "453  23.983573      1      f  29.000000       Mining         HR  rabrecNErab   \n",
              "711  49.872690      1      f  30.400333        State    Finanñe      referal   \n",
              "714  43.860370      0      f  29.000000       Retail         HR        youjs   \n",
              "415  36.599589      0      m  33.000000       Retail         HR        empjs   \n",
              "519  51.121150      0      f  28.000000       Retail         HR        youjs   \n",
              "\n",
              "       coach head_gender greywage  way  extraversion  independ  selfcontrol  \\\n",
              "921       no           m    white  bus           6.2       6.2          6.4   \n",
              "5        yes           m    white  bus           6.2       6.2          4.1   \n",
              "207  my head           f    white  bus           1.4       2.6          9.5   \n",
              "329       no           m     grey  bus           6.2       6.2          8.0   \n",
              "880       no           m    white  car           7.8       3.4          5.7   \n",
              "453       no           m    white  bus           4.6       5.5          5.7   \n",
              "711       no           m     grey  bus          10.0       5.5          4.1   \n",
              "714       no           f    white  car           8.6       6.2          4.9   \n",
              "415       no           f    white  car           5.4       7.6          5.7   \n",
              "519       no           f    white  car           5.4       5.5          6.4   \n",
              "\n",
              "     anxiety  novator  \n",
              "921      3.3      6.7  \n",
              "5        5.6      6.7  \n",
              "207      8.7      2.1  \n",
              "329      2.5      3.7  \n",
              "880      4.0      6.0  \n",
              "453      4.8      7.5  \n",
              "711      4.0      7.5  \n",
              "714      4.8      9.0  \n",
              "415      7.1      6.0  \n",
              "519      2.5      4.4  "
            ],
            "text/html": [
              "\n",
              "  <div id=\"df-4d2b4509-fae0-4378-86ce-4931890dfa8c\">\n",
              "    <div class=\"colab-df-container\">\n",
              "      <div>\n",
              "<style scoped>\n",
              "    .dataframe tbody tr th:only-of-type {\n",
              "        vertical-align: middle;\n",
              "    }\n",
              "\n",
              "    .dataframe tbody tr th {\n",
              "        vertical-align: top;\n",
              "    }\n",
              "\n",
              "    .dataframe thead th {\n",
              "        text-align: right;\n",
              "    }\n",
              "</style>\n",
              "<table border=\"1\" class=\"dataframe\">\n",
              "  <thead>\n",
              "    <tr style=\"text-align: right;\">\n",
              "      <th></th>\n",
              "      <th>stag</th>\n",
              "      <th>event</th>\n",
              "      <th>gender</th>\n",
              "      <th>age</th>\n",
              "      <th>industry</th>\n",
              "      <th>profession</th>\n",
              "      <th>traffic</th>\n",
              "      <th>coach</th>\n",
              "      <th>head_gender</th>\n",
              "      <th>greywage</th>\n",
              "      <th>way</th>\n",
              "      <th>extraversion</th>\n",
              "      <th>independ</th>\n",
              "      <th>selfcontrol</th>\n",
              "      <th>anxiety</th>\n",
              "      <th>novator</th>\n",
              "    </tr>\n",
              "  </thead>\n",
              "  <tbody>\n",
              "    <tr>\n",
              "      <th>921</th>\n",
              "      <td>16.065708</td>\n",
              "      <td>0</td>\n",
              "      <td>f</td>\n",
              "      <td>50.000000</td>\n",
              "      <td>Building</td>\n",
              "      <td>HR</td>\n",
              "      <td>rabrecNErab</td>\n",
              "      <td>no</td>\n",
              "      <td>m</td>\n",
              "      <td>white</td>\n",
              "      <td>bus</td>\n",
              "      <td>6.2</td>\n",
              "      <td>6.2</td>\n",
              "      <td>6.4</td>\n",
              "      <td>3.3</td>\n",
              "      <td>6.7</td>\n",
              "    </tr>\n",
              "    <tr>\n",
              "      <th>5</th>\n",
              "      <td>8.969199</td>\n",
              "      <td>1</td>\n",
              "      <td>f</td>\n",
              "      <td>42.000000</td>\n",
              "      <td>manufacture</td>\n",
              "      <td>HR</td>\n",
              "      <td>empjs</td>\n",
              "      <td>yes</td>\n",
              "      <td>m</td>\n",
              "      <td>white</td>\n",
              "      <td>bus</td>\n",
              "      <td>6.2</td>\n",
              "      <td>6.2</td>\n",
              "      <td>4.1</td>\n",
              "      <td>5.6</td>\n",
              "      <td>6.7</td>\n",
              "    </tr>\n",
              "    <tr>\n",
              "      <th>207</th>\n",
              "      <td>25.987680</td>\n",
              "      <td>1</td>\n",
              "      <td>f</td>\n",
              "      <td>23.000000</td>\n",
              "      <td>IT</td>\n",
              "      <td>HR</td>\n",
              "      <td>youjs</td>\n",
              "      <td>my head</td>\n",
              "      <td>f</td>\n",
              "      <td>white</td>\n",
              "      <td>bus</td>\n",
              "      <td>1.4</td>\n",
              "      <td>2.6</td>\n",
              "      <td>9.5</td>\n",
              "      <td>8.7</td>\n",
              "      <td>2.1</td>\n",
              "    </tr>\n",
              "    <tr>\n",
              "      <th>329</th>\n",
              "      <td>6.176591</td>\n",
              "      <td>1</td>\n",
              "      <td>f</td>\n",
              "      <td>38.000000</td>\n",
              "      <td>transport</td>\n",
              "      <td>HR</td>\n",
              "      <td>youjs</td>\n",
              "      <td>no</td>\n",
              "      <td>m</td>\n",
              "      <td>grey</td>\n",
              "      <td>bus</td>\n",
              "      <td>6.2</td>\n",
              "      <td>6.2</td>\n",
              "      <td>8.0</td>\n",
              "      <td>2.5</td>\n",
              "      <td>3.7</td>\n",
              "    </tr>\n",
              "    <tr>\n",
              "      <th>880</th>\n",
              "      <td>9.691992</td>\n",
              "      <td>0</td>\n",
              "      <td>f</td>\n",
              "      <td>35.000000</td>\n",
              "      <td>RealEstate</td>\n",
              "      <td>HR</td>\n",
              "      <td>rabrecNErab</td>\n",
              "      <td>no</td>\n",
              "      <td>m</td>\n",
              "      <td>white</td>\n",
              "      <td>car</td>\n",
              "      <td>7.8</td>\n",
              "      <td>3.4</td>\n",
              "      <td>5.7</td>\n",
              "      <td>4.0</td>\n",
              "      <td>6.0</td>\n",
              "    </tr>\n",
              "    <tr>\n",
              "      <th>453</th>\n",
              "      <td>23.983573</td>\n",
              "      <td>1</td>\n",
              "      <td>f</td>\n",
              "      <td>29.000000</td>\n",
              "      <td>Mining</td>\n",
              "      <td>HR</td>\n",
              "      <td>rabrecNErab</td>\n",
              "      <td>no</td>\n",
              "      <td>m</td>\n",
              "      <td>white</td>\n",
              "      <td>bus</td>\n",
              "      <td>4.6</td>\n",
              "      <td>5.5</td>\n",
              "      <td>5.7</td>\n",
              "      <td>4.8</td>\n",
              "      <td>7.5</td>\n",
              "    </tr>\n",
              "    <tr>\n",
              "      <th>711</th>\n",
              "      <td>49.872690</td>\n",
              "      <td>1</td>\n",
              "      <td>f</td>\n",
              "      <td>30.400333</td>\n",
              "      <td>State</td>\n",
              "      <td>Finanñe</td>\n",
              "      <td>referal</td>\n",
              "      <td>no</td>\n",
              "      <td>m</td>\n",
              "      <td>grey</td>\n",
              "      <td>bus</td>\n",
              "      <td>10.0</td>\n",
              "      <td>5.5</td>\n",
              "      <td>4.1</td>\n",
              "      <td>4.0</td>\n",
              "      <td>7.5</td>\n",
              "    </tr>\n",
              "    <tr>\n",
              "      <th>714</th>\n",
              "      <td>43.860370</td>\n",
              "      <td>0</td>\n",
              "      <td>f</td>\n",
              "      <td>29.000000</td>\n",
              "      <td>Retail</td>\n",
              "      <td>HR</td>\n",
              "      <td>youjs</td>\n",
              "      <td>no</td>\n",
              "      <td>f</td>\n",
              "      <td>white</td>\n",
              "      <td>car</td>\n",
              "      <td>8.6</td>\n",
              "      <td>6.2</td>\n",
              "      <td>4.9</td>\n",
              "      <td>4.8</td>\n",
              "      <td>9.0</td>\n",
              "    </tr>\n",
              "    <tr>\n",
              "      <th>415</th>\n",
              "      <td>36.599589</td>\n",
              "      <td>0</td>\n",
              "      <td>m</td>\n",
              "      <td>33.000000</td>\n",
              "      <td>Retail</td>\n",
              "      <td>HR</td>\n",
              "      <td>empjs</td>\n",
              "      <td>no</td>\n",
              "      <td>f</td>\n",
              "      <td>white</td>\n",
              "      <td>car</td>\n",
              "      <td>5.4</td>\n",
              "      <td>7.6</td>\n",
              "      <td>5.7</td>\n",
              "      <td>7.1</td>\n",
              "      <td>6.0</td>\n",
              "    </tr>\n",
              "    <tr>\n",
              "      <th>519</th>\n",
              "      <td>51.121150</td>\n",
              "      <td>0</td>\n",
              "      <td>f</td>\n",
              "      <td>28.000000</td>\n",
              "      <td>Retail</td>\n",
              "      <td>HR</td>\n",
              "      <td>youjs</td>\n",
              "      <td>no</td>\n",
              "      <td>f</td>\n",
              "      <td>white</td>\n",
              "      <td>car</td>\n",
              "      <td>5.4</td>\n",
              "      <td>5.5</td>\n",
              "      <td>6.4</td>\n",
              "      <td>2.5</td>\n",
              "      <td>4.4</td>\n",
              "    </tr>\n",
              "  </tbody>\n",
              "</table>\n",
              "</div>\n",
              "      <button class=\"colab-df-convert\" onclick=\"convertToInteractive('df-4d2b4509-fae0-4378-86ce-4931890dfa8c')\"\n",
              "              title=\"Convert this dataframe to an interactive table.\"\n",
              "              style=\"display:none;\">\n",
              "        \n",
              "  <svg xmlns=\"http://www.w3.org/2000/svg\" height=\"24px\"viewBox=\"0 0 24 24\"\n",
              "       width=\"24px\">\n",
              "    <path d=\"M0 0h24v24H0V0z\" fill=\"none\"/>\n",
              "    <path d=\"M18.56 5.44l.94 2.06.94-2.06 2.06-.94-2.06-.94-.94-2.06-.94 2.06-2.06.94zm-11 1L8.5 8.5l.94-2.06 2.06-.94-2.06-.94L8.5 2.5l-.94 2.06-2.06.94zm10 10l.94 2.06.94-2.06 2.06-.94-2.06-.94-.94-2.06-.94 2.06-2.06.94z\"/><path d=\"M17.41 7.96l-1.37-1.37c-.4-.4-.92-.59-1.43-.59-.52 0-1.04.2-1.43.59L10.3 9.45l-7.72 7.72c-.78.78-.78 2.05 0 2.83L4 21.41c.39.39.9.59 1.41.59.51 0 1.02-.2 1.41-.59l7.78-7.78 2.81-2.81c.8-.78.8-2.07 0-2.86zM5.41 20L4 18.59l7.72-7.72 1.47 1.35L5.41 20z\"/>\n",
              "  </svg>\n",
              "      </button>\n",
              "      \n",
              "  <style>\n",
              "    .colab-df-container {\n",
              "      display:flex;\n",
              "      flex-wrap:wrap;\n",
              "      gap: 12px;\n",
              "    }\n",
              "\n",
              "    .colab-df-convert {\n",
              "      background-color: #E8F0FE;\n",
              "      border: none;\n",
              "      border-radius: 50%;\n",
              "      cursor: pointer;\n",
              "      display: none;\n",
              "      fill: #1967D2;\n",
              "      height: 32px;\n",
              "      padding: 0 0 0 0;\n",
              "      width: 32px;\n",
              "    }\n",
              "\n",
              "    .colab-df-convert:hover {\n",
              "      background-color: #E2EBFA;\n",
              "      box-shadow: 0px 1px 2px rgba(60, 64, 67, 0.3), 0px 1px 3px 1px rgba(60, 64, 67, 0.15);\n",
              "      fill: #174EA6;\n",
              "    }\n",
              "\n",
              "    [theme=dark] .colab-df-convert {\n",
              "      background-color: #3B4455;\n",
              "      fill: #D2E3FC;\n",
              "    }\n",
              "\n",
              "    [theme=dark] .colab-df-convert:hover {\n",
              "      background-color: #434B5C;\n",
              "      box-shadow: 0px 1px 3px 1px rgba(0, 0, 0, 0.15);\n",
              "      filter: drop-shadow(0px 1px 2px rgba(0, 0, 0, 0.3));\n",
              "      fill: #FFFFFF;\n",
              "    }\n",
              "  </style>\n",
              "\n",
              "      <script>\n",
              "        const buttonEl =\n",
              "          document.querySelector('#df-4d2b4509-fae0-4378-86ce-4931890dfa8c button.colab-df-convert');\n",
              "        buttonEl.style.display =\n",
              "          google.colab.kernel.accessAllowed ? 'block' : 'none';\n",
              "\n",
              "        async function convertToInteractive(key) {\n",
              "          const element = document.querySelector('#df-4d2b4509-fae0-4378-86ce-4931890dfa8c');\n",
              "          const dataTable =\n",
              "            await google.colab.kernel.invokeFunction('convertToInteractive',\n",
              "                                                     [key], {});\n",
              "          if (!dataTable) return;\n",
              "\n",
              "          const docLinkHtml = 'Like what you see? Visit the ' +\n",
              "            '<a target=\"_blank\" href=https://colab.research.google.com/notebooks/data_table.ipynb>data table notebook</a>'\n",
              "            + ' to learn more about interactive tables.';\n",
              "          element.innerHTML = '';\n",
              "          dataTable['output_type'] = 'display_data';\n",
              "          await google.colab.output.renderOutput(dataTable, element);\n",
              "          const docLink = document.createElement('div');\n",
              "          docLink.innerHTML = docLinkHtml;\n",
              "          element.appendChild(docLink);\n",
              "        }\n",
              "      </script>\n",
              "    </div>\n",
              "  </div>\n",
              "  "
            ]
          },
          "metadata": {},
          "execution_count": 111
        }
      ]
    },
    {
      "cell_type": "markdown",
      "source": [
        "**Data Inspection**"
      ],
      "metadata": {
        "id": "MzgRFbf86qcD"
      }
    },
    {
      "cell_type": "markdown",
      "source": [
        "Check data structure"
      ],
      "metadata": {
        "id": "z7UOeNTCR2BS"
      }
    },
    {
      "cell_type": "code",
      "source": [
        "df.info()"
      ],
      "metadata": {
        "colab": {
          "base_uri": "https://localhost:8080/"
        },
        "id": "bjWvvlSaR2uE",
        "outputId": "9f65ca5a-f09e-4968-ca22-86f935100f9a"
      },
      "execution_count": null,
      "outputs": [
        {
          "output_type": "stream",
          "name": "stdout",
          "text": [
            "<class 'pandas.core.frame.DataFrame'>\n",
            "RangeIndex: 1129 entries, 0 to 1128\n",
            "Data columns (total 16 columns):\n",
            " #   Column        Non-Null Count  Dtype  \n",
            "---  ------        --------------  -----  \n",
            " 0   stag          1129 non-null   float64\n",
            " 1   event         1129 non-null   int64  \n",
            " 2   gender        1129 non-null   object \n",
            " 3   age           1129 non-null   float64\n",
            " 4   industry      1129 non-null   object \n",
            " 5   profession    1129 non-null   object \n",
            " 6   traffic       1129 non-null   object \n",
            " 7   coach         1129 non-null   object \n",
            " 8   head_gender   1129 non-null   object \n",
            " 9   greywage      1129 non-null   object \n",
            " 10  way           1129 non-null   object \n",
            " 11  extraversion  1129 non-null   float64\n",
            " 12  independ      1129 non-null   float64\n",
            " 13  selfcontrol   1129 non-null   float64\n",
            " 14  anxiety       1129 non-null   float64\n",
            " 15  novator       1129 non-null   float64\n",
            "dtypes: float64(7), int64(1), object(8)\n",
            "memory usage: 141.2+ KB\n"
          ]
        }
      ]
    },
    {
      "cell_type": "code",
      "source": [
        "# check data dimension\n",
        "df.shape"
      ],
      "metadata": {
        "colab": {
          "base_uri": "https://localhost:8080/"
        },
        "id": "dEgytdG87Arb",
        "outputId": "35f66f6d-1945-417f-a03d-bcde8719ae4e"
      },
      "execution_count": null,
      "outputs": [
        {
          "output_type": "execute_result",
          "data": {
            "text/plain": [
              "(1129, 16)"
            ]
          },
          "metadata": {},
          "execution_count": 113
        }
      ]
    },
    {
      "cell_type": "code",
      "source": [
        "# check null values inside dataset\n",
        "df.isna().sum()"
      ],
      "metadata": {
        "colab": {
          "base_uri": "https://localhost:8080/"
        },
        "id": "sIVJNxzw7FL_",
        "outputId": "77e5a5c9-5001-4ea2-eaab-ef6412b676bc"
      },
      "execution_count": null,
      "outputs": [
        {
          "output_type": "execute_result",
          "data": {
            "text/plain": [
              "stag            0\n",
              "event           0\n",
              "gender          0\n",
              "age             0\n",
              "industry        0\n",
              "profession      0\n",
              "traffic         0\n",
              "coach           0\n",
              "head_gender     0\n",
              "greywage        0\n",
              "way             0\n",
              "extraversion    0\n",
              "independ        0\n",
              "selfcontrol     0\n",
              "anxiety         0\n",
              "novator         0\n",
              "dtype: int64"
            ]
          },
          "metadata": {},
          "execution_count": 114
        }
      ]
    },
    {
      "cell_type": "code",
      "source": [
        "# removes row with na values\n",
        "df = df.dropna()"
      ],
      "metadata": {
        "id": "J3ZmEtko7NV_"
      },
      "execution_count": null,
      "outputs": []
    },
    {
      "cell_type": "code",
      "source": [
        "# check dimension and null values inside dataset\n",
        "print(\"Dimension of data: {}\".format(df.shape))\n",
        "print(\"Number of null values:\")\n",
        "df.isna().sum()"
      ],
      "metadata": {
        "colab": {
          "base_uri": "https://localhost:8080/"
        },
        "id": "SnLRmWT07Rqk",
        "outputId": "78c93d2d-4fc5-44b1-ffe9-e8b391d41d69"
      },
      "execution_count": null,
      "outputs": [
        {
          "output_type": "stream",
          "name": "stdout",
          "text": [
            "Dimension of data: (1129, 16)\n",
            "Number of null values:\n"
          ]
        },
        {
          "output_type": "execute_result",
          "data": {
            "text/plain": [
              "stag            0\n",
              "event           0\n",
              "gender          0\n",
              "age             0\n",
              "industry        0\n",
              "profession      0\n",
              "traffic         0\n",
              "coach           0\n",
              "head_gender     0\n",
              "greywage        0\n",
              "way             0\n",
              "extraversion    0\n",
              "independ        0\n",
              "selfcontrol     0\n",
              "anxiety         0\n",
              "novator         0\n",
              "dtype: int64"
            ]
          },
          "metadata": {},
          "execution_count": 116
        }
      ]
    },
    {
      "cell_type": "markdown",
      "source": [
        "# Simple EDA"
      ],
      "metadata": {
        "id": "du2uoThl7cUi"
      }
    },
    {
      "cell_type": "code",
      "source": [
        "# check variable treatment distribution\n",
        "sns.countplot(data = df, x = 'coach');"
      ],
      "metadata": {
        "colab": {
          "base_uri": "https://localhost:8080/",
          "height": 592
        },
        "id": "0b8whkRkR9S_",
        "outputId": "83d5391b-6865-46b6-db8d-adabcce95b85"
      },
      "execution_count": null,
      "outputs": [
        {
          "output_type": "display_data",
          "data": {
            "text/plain": [
              "<Figure size 1296x648 with 1 Axes>"
            ],
            "image/png": "[encoded data removed]"
          },
          "metadata": {}
        }
      ]
    },
    {
      "cell_type": "markdown",
      "source": [
        "Terlihat bahwa untuk distribusi tratment data yang tidak diberikan 'coach' dengan yang diberikan 'coach'  dan 'my head' memiliki perbedaan yang signifikan. Karena my head termasuk data kriteria yang diberikan pelatihan, olehkarena itu untuk data my_head dirubah menjadi YES karena pada kasus kali ini adalah tujuannya untuk menentukan seberapa loyal seorang karyawan terhadap treatment yang telah diberikan pelatihan."
      ],
      "metadata": {
        "id": "b9UYZWHV7zmt"
      }
    },
    {
      "cell_type": "code",
      "source": [
        "check_myhead = df[df['coach'] == 'my head']\n",
        "check_myhead['coach']"
      ],
      "metadata": {
        "colab": {
          "base_uri": "https://localhost:8080/"
        },
        "id": "u_pWDqdwTXCV",
        "outputId": "6b3c08cf-8844-4672-9547-92d0054cbc6f"
      },
      "execution_count": null,
      "outputs": [
        {
          "output_type": "execute_result",
          "data": {
            "text/plain": [
              "12      my head\n",
              "14      my head\n",
              "26      my head\n",
              "28      my head\n",
              "29      my head\n",
              "         ...   \n",
              "1097    my head\n",
              "1101    my head\n",
              "1103    my head\n",
              "1124    my head\n",
              "1125    my head\n",
              "Name: coach, Length: 314, dtype: object"
            ]
          },
          "metadata": {},
          "execution_count": 118
        }
      ]
    },
    {
      "cell_type": "code",
      "source": [
        "# Change ? with NO column collision\n",
        "\n",
        "df.loc[df['coach'] == 'my head' , 'coach'] = 'yes'"
      ],
      "metadata": {
        "id": "s0t9J3K1kKvv"
      },
      "execution_count": null,
      "outputs": []
    },
    {
      "cell_type": "code",
      "source": [
        "df['coach'].head()"
      ],
      "metadata": {
        "colab": {
          "base_uri": "https://localhost:8080/"
        },
        "id": "CgNtHJQPkgR4",
        "outputId": "7c1d4ced-60b0-4c55-af77-a92f64e102c2"
      },
      "execution_count": null,
      "outputs": [
        {
          "output_type": "execute_result",
          "data": {
            "text/plain": [
              "0     no\n",
              "1     no\n",
              "2     no\n",
              "3     no\n",
              "4    yes\n",
              "Name: coach, dtype: object"
            ]
          },
          "metadata": {},
          "execution_count": 120
        }
      ]
    },
    {
      "cell_type": "code",
      "source": [
        "df.sample(20)"
      ],
      "metadata": {
        "colab": {
          "base_uri": "https://localhost:8080/",
          "height": 677
        },
        "id": "nwAizOZFkk24",
        "outputId": "f6dc8218-16ce-46de-c614-51ef9c78ae05"
      },
      "execution_count": null,
      "outputs": [
        {
          "output_type": "execute_result",
          "data": {
            "text/plain": [
              "            stag  event gender   age         industry           profession  \\\n",
              "305    23.983573      1      f  23.0      Agriculture              Consult   \n",
              "164     4.533881      1      f  31.0           Retail                Sales   \n",
              "1050   19.055441      0      f  26.0               IT                   HR   \n",
              "190    26.217659      1      f  36.0              etc                   HR   \n",
              "123     3.975359      1      f  29.0           Retail                  etc   \n",
              "453    23.983573      1      f  29.0           Mining                   HR   \n",
              "918   105.823409      0      f  32.0               IT                   HR   \n",
              "80     59.203285      1      f  25.0            Banks                   HR   \n",
              "131    49.379877      1      f  22.0              etc            Marketing   \n",
              "1054   51.843943      0      f  34.0               IT  BusinessDevelopment   \n",
              "759    50.891170      1      m  34.0               IT                   IT   \n",
              "970    21.158111      0      m  49.0           Retail              Finanñe   \n",
              "346     2.201232      1      m  23.0            State                  etc   \n",
              "307    17.806982      0      m  23.0          Telecom             Engineer   \n",
              "875    60.780287      0      f  33.0  PowerGeneration                   HR   \n",
              "946     7.852156      0      f  41.0           Retail                   HR   \n",
              "117    27.367556      1      m  30.0           Retail                Sales   \n",
              "883    34.562628      1      m  31.0           Retail  BusinessDevelopment   \n",
              "525     3.121150      1      f  41.0          Consult                   HR   \n",
              "723     7.030801      1      f  39.0            State                   HR   \n",
              "\n",
              "          traffic coach head_gender greywage   way  extraversion  independ  \\\n",
              "305       referal   yes           m    white   bus           4.6       6.9   \n",
              "164            KA    no           f     grey   bus           5.4       5.5   \n",
              "1050        youjs   yes           m     grey   bus           3.8       3.4   \n",
              "190         empjs    no           m    white  foot           2.2       6.9   \n",
              "123         empjs    no           m    white   bus           6.2       6.2   \n",
              "453   rabrecNErab    no           m    white   bus           4.6       5.5   \n",
              "918       referal    no           f    white   bus           4.6       7.6   \n",
              "80       recNErab    no           f    white   bus           4.6       4.1   \n",
              "131   rabrecNErab    no           f     grey   car           5.4       6.9   \n",
              "1054      friends   yes           m    white   car           4.6       4.1   \n",
              "759       referal    no           f    white   car           3.8       3.4   \n",
              "970   rabrecNErab    no           m    white   bus           7.0       4.8   \n",
              "346   rabrecNErab   yes           m    white   bus           6.2       2.6   \n",
              "307         empjs    no           m     grey   bus           3.8       9.1   \n",
              "875         empjs   yes           f    white   car           3.8       3.4   \n",
              "946   rabrecNErab    no           m    white   bus           1.4       4.8   \n",
              "117         youjs    no           m    white   car           7.0       4.8   \n",
              "883            KA   yes           m    white   car           9.4       4.8   \n",
              "525         youjs    no           f    white   bus           1.4       4.8   \n",
              "723       friends    no           f    white   car           7.0       4.1   \n",
              "\n",
              "      selfcontrol  anxiety  novator  \n",
              "305           7.2      2.5      2.9  \n",
              "164           7.2      4.8      1.3  \n",
              "1050          8.7      7.1      6.0  \n",
              "190           8.0      6.3      3.7  \n",
              "123           5.7      6.3      2.9  \n",
              "453           5.7      4.8      7.5  \n",
              "918           4.1      4.8      6.0  \n",
              "80            8.7      5.6      2.1  \n",
              "131           6.4      4.0      4.4  \n",
              "1054          4.9      9.4      6.7  \n",
              "759           5.7      7.9      6.7  \n",
              "970           4.9      7.1      6.0  \n",
              "346           7.2      6.3      7.5  \n",
              "307           8.7      4.8      5.2  \n",
              "875           5.7      8.7      7.5  \n",
              "946           8.7      5.6      2.1  \n",
              "117           1.8      8.7      6.7  \n",
              "883           4.1      7.1      5.2  \n",
              "525           8.7      5.6      2.1  \n",
              "723           2.6      7.9      7.5  "
            ],
            "text/html": [
              "\n",
              "  <div id=\"df-dc6ec54a-250c-4e80-82b6-8dbf2c9907dd\">\n",
              "    <div class=\"colab-df-container\">\n",
              "      <div>\n",
              "<style scoped>\n",
              "    .dataframe tbody tr th:only-of-type {\n",
              "        vertical-align: middle;\n",
              "    }\n",
              "\n",
              "    .dataframe tbody tr th {\n",
              "        vertical-align: top;\n",
              "    }\n",
              "\n",
              "    .dataframe thead th {\n",
              "        text-align: right;\n",
              "    }\n",
              "</style>\n",
              "<table border=\"1\" class=\"dataframe\">\n",
              "  <thead>\n",
              "    <tr style=\"text-align: right;\">\n",
              "      <th></th>\n",
              "      <th>stag</th>\n",
              "      <th>event</th>\n",
              "      <th>gender</th>\n",
              "      <th>age</th>\n",
              "      <th>industry</th>\n",
              "      <th>profession</th>\n",
              "      <th>traffic</th>\n",
              "      <th>coach</th>\n",
              "      <th>head_gender</th>\n",
              "      <th>greywage</th>\n",
              "      <th>way</th>\n",
              "      <th>extraversion</th>\n",
              "      <th>independ</th>\n",
              "      <th>selfcontrol</th>\n",
              "      <th>anxiety</th>\n",
              "      <th>novator</th>\n",
              "    </tr>\n",
              "  </thead>\n",
              "  <tbody>\n",
              "    <tr>\n",
              "      <th>305</th>\n",
              "      <td>23.983573</td>\n",
              "      <td>1</td>\n",
              "      <td>f</td>\n",
              "      <td>23.0</td>\n",
              "      <td>Agriculture</td>\n",
              "      <td>Consult</td>\n",
              "      <td>referal</td>\n",
              "      <td>yes</td>\n",
              "      <td>m</td>\n",
              "      <td>white</td>\n",
              "      <td>bus</td>\n",
              "      <td>4.6</td>\n",
              "      <td>6.9</td>\n",
              "      <td>7.2</td>\n",
              "      <td>2.5</td>\n",
              "      <td>2.9</td>\n",
              "    </tr>\n",
              "    <tr>\n",
              "      <th>164</th>\n",
              "      <td>4.533881</td>\n",
              "      <td>1</td>\n",
              "      <td>f</td>\n",
              "      <td>31.0</td>\n",
              "      <td>Retail</td>\n",
              "      <td>Sales</td>\n",
              "      <td>KA</td>\n",
              "      <td>no</td>\n",
              "      <td>f</td>\n",
              "      <td>grey</td>\n",
              "      <td>bus</td>\n",
              "      <td>5.4</td>\n",
              "      <td>5.5</td>\n",
              "      <td>7.2</td>\n",
              "      <td>4.8</td>\n",
              "      <td>1.3</td>\n",
              "    </tr>\n",
              "    <tr>\n",
              "      <th>1050</th>\n",
              "      <td>19.055441</td>\n",
              "      <td>0</td>\n",
              "      <td>f</td>\n",
              "      <td>26.0</td>\n",
              "      <td>IT</td>\n",
              "      <td>HR</td>\n",
              "      <td>youjs</td>\n",
              "      <td>yes</td>\n",
              "      <td>m</td>\n",
              "      <td>grey</td>\n",
              "      <td>bus</td>\n",
              "      <td>3.8</td>\n",
              "      <td>3.4</td>\n",
              "      <td>8.7</td>\n",
              "      <td>7.1</td>\n",
              "      <td>6.0</td>\n",
              "    </tr>\n",
              "    <tr>\n",
              "      <th>190</th>\n",
              "      <td>26.217659</td>\n",
              "      <td>1</td>\n",
              "      <td>f</td>\n",
              "      <td>36.0</td>\n",
              "      <td>etc</td>\n",
              "      <td>HR</td>\n",
              "      <td>empjs</td>\n",
              "      <td>no</td>\n",
              "      <td>m</td>\n",
              "      <td>white</td>\n",
              "      <td>foot</td>\n",
              "      <td>2.2</td>\n",
              "      <td>6.9</td>\n",
              "      <td>8.0</td>\n",
              "      <td>6.3</td>\n",
              "      <td>3.7</td>\n",
              "    </tr>\n",
              "    <tr>\n",
              "      <th>123</th>\n",
              "      <td>3.975359</td>\n",
              "      <td>1</td>\n",
              "      <td>f</td>\n",
              "      <td>29.0</td>\n",
              "      <td>Retail</td>\n",
              "      <td>etc</td>\n",
              "      <td>empjs</td>\n",
              "      <td>no</td>\n",
              "      <td>m</td>\n",
              "      <td>white</td>\n",
              "      <td>bus</td>\n",
              "      <td>6.2</td>\n",
              "      <td>6.2</td>\n",
              "      <td>5.7</td>\n",
              "      <td>6.3</td>\n",
              "      <td>2.9</td>\n",
              "    </tr>\n",
              "    <tr>\n",
              "      <th>453</th>\n",
              "      <td>23.983573</td>\n",
              "      <td>1</td>\n",
              "      <td>f</td>\n",
              "      <td>29.0</td>\n",
              "      <td>Mining</td>\n",
              "      <td>HR</td>\n",
              "      <td>rabrecNErab</td>\n",
              "      <td>no</td>\n",
              "      <td>m</td>\n",
              "      <td>white</td>\n",
              "      <td>bus</td>\n",
              "      <td>4.6</td>\n",
              "      <td>5.5</td>\n",
              "      <td>5.7</td>\n",
              "      <td>4.8</td>\n",
              "      <td>7.5</td>\n",
              "    </tr>\n",
              "    <tr>\n",
              "      <th>918</th>\n",
              "      <td>105.823409</td>\n",
              "      <td>0</td>\n",
              "      <td>f</td>\n",
              "      <td>32.0</td>\n",
              "      <td>IT</td>\n",
              "      <td>HR</td>\n",
              "      <td>referal</td>\n",
              "      <td>no</td>\n",
              "      <td>f</td>\n",
              "      <td>white</td>\n",
              "      <td>bus</td>\n",
              "      <td>4.6</td>\n",
              "      <td>7.6</td>\n",
              "      <td>4.1</td>\n",
              "      <td>4.8</td>\n",
              "      <td>6.0</td>\n",
              "    </tr>\n",
              "    <tr>\n",
              "      <th>80</th>\n",
              "      <td>59.203285</td>\n",
              "      <td>1</td>\n",
              "      <td>f</td>\n",
              "      <td>25.0</td>\n",
              "      <td>Banks</td>\n",
              "      <td>HR</td>\n",
              "      <td>recNErab</td>\n",
              "      <td>no</td>\n",
              "      <td>f</td>\n",
              "      <td>white</td>\n",
              "      <td>bus</td>\n",
              "      <td>4.6</td>\n",
              "      <td>4.1</td>\n",
              "      <td>8.7</td>\n",
              "      <td>5.6</td>\n",
              "      <td>2.1</td>\n",
              "    </tr>\n",
              "    <tr>\n",
              "      <th>131</th>\n",
              "      <td>49.379877</td>\n",
              "      <td>1</td>\n",
              "      <td>f</td>\n",
              "      <td>22.0</td>\n",
              "      <td>etc</td>\n",
              "      <td>Marketing</td>\n",
              "      <td>rabrecNErab</td>\n",
              "      <td>no</td>\n",
              "      <td>f</td>\n",
              "      <td>grey</td>\n",
              "      <td>car</td>\n",
              "      <td>5.4</td>\n",
              "      <td>6.9</td>\n",
              "      <td>6.4</td>\n",
              "      <td>4.0</td>\n",
              "      <td>4.4</td>\n",
              "    </tr>\n",
              "    <tr>\n",
              "      <th>1054</th>\n",
              "      <td>51.843943</td>\n",
              "      <td>0</td>\n",
              "      <td>f</td>\n",
              "      <td>34.0</td>\n",
              "      <td>IT</td>\n",
              "      <td>BusinessDevelopment</td>\n",
              "      <td>friends</td>\n",
              "      <td>yes</td>\n",
              "      <td>m</td>\n",
              "      <td>white</td>\n",
              "      <td>car</td>\n",
              "      <td>4.6</td>\n",
              "      <td>4.1</td>\n",
              "      <td>4.9</td>\n",
              "      <td>9.4</td>\n",
              "      <td>6.7</td>\n",
              "    </tr>\n",
              "    <tr>\n",
              "      <th>759</th>\n",
              "      <td>50.891170</td>\n",
              "      <td>1</td>\n",
              "      <td>m</td>\n",
              "      <td>34.0</td>\n",
              "      <td>IT</td>\n",
              "      <td>IT</td>\n",
              "      <td>referal</td>\n",
              "      <td>no</td>\n",
              "      <td>f</td>\n",
              "      <td>white</td>\n",
              "      <td>car</td>\n",
              "      <td>3.8</td>\n",
              "      <td>3.4</td>\n",
              "      <td>5.7</td>\n",
              "      <td>7.9</td>\n",
              "      <td>6.7</td>\n",
              "    </tr>\n",
              "    <tr>\n",
              "      <th>970</th>\n",
              "      <td>21.158111</td>\n",
              "      <td>0</td>\n",
              "      <td>m</td>\n",
              "      <td>49.0</td>\n",
              "      <td>Retail</td>\n",
              "      <td>Finanñe</td>\n",
              "      <td>rabrecNErab</td>\n",
              "      <td>no</td>\n",
              "      <td>m</td>\n",
              "      <td>white</td>\n",
              "      <td>bus</td>\n",
              "      <td>7.0</td>\n",
              "      <td>4.8</td>\n",
              "      <td>4.9</td>\n",
              "      <td>7.1</td>\n",
              "      <td>6.0</td>\n",
              "    </tr>\n",
              "    <tr>\n",
              "      <th>346</th>\n",
              "      <td>2.201232</td>\n",
              "      <td>1</td>\n",
              "      <td>m</td>\n",
              "      <td>23.0</td>\n",
              "      <td>State</td>\n",
              "      <td>etc</td>\n",
              "      <td>rabrecNErab</td>\n",
              "      <td>yes</td>\n",
              "      <td>m</td>\n",
              "      <td>white</td>\n",
              "      <td>bus</td>\n",
              "      <td>6.2</td>\n",
              "      <td>2.6</td>\n",
              "      <td>7.2</td>\n",
              "      <td>6.3</td>\n",
              "      <td>7.5</td>\n",
              "    </tr>\n",
              "    <tr>\n",
              "      <th>307</th>\n",
              "      <td>17.806982</td>\n",
              "      <td>0</td>\n",
              "      <td>m</td>\n",
              "      <td>23.0</td>\n",
              "      <td>Telecom</td>\n",
              "      <td>Engineer</td>\n",
              "      <td>empjs</td>\n",
              "      <td>no</td>\n",
              "      <td>m</td>\n",
              "      <td>grey</td>\n",
              "      <td>bus</td>\n",
              "      <td>3.8</td>\n",
              "      <td>9.1</td>\n",
              "      <td>8.7</td>\n",
              "      <td>4.8</td>\n",
              "      <td>5.2</td>\n",
              "    </tr>\n",
              "    <tr>\n",
              "      <th>875</th>\n",
              "      <td>60.780287</td>\n",
              "      <td>0</td>\n",
              "      <td>f</td>\n",
              "      <td>33.0</td>\n",
              "      <td>PowerGeneration</td>\n",
              "      <td>HR</td>\n",
              "      <td>empjs</td>\n",
              "      <td>yes</td>\n",
              "      <td>f</td>\n",
              "      <td>white</td>\n",
              "      <td>car</td>\n",
              "      <td>3.8</td>\n",
              "      <td>3.4</td>\n",
              "      <td>5.7</td>\n",
              "      <td>8.7</td>\n",
              "      <td>7.5</td>\n",
              "    </tr>\n",
              "    <tr>\n",
              "      <th>946</th>\n",
              "      <td>7.852156</td>\n",
              "      <td>0</td>\n",
              "      <td>f</td>\n",
              "      <td>41.0</td>\n",
              "      <td>Retail</td>\n",
              "      <td>HR</td>\n",
              "      <td>rabrecNErab</td>\n",
              "      <td>no</td>\n",
              "      <td>m</td>\n",
              "      <td>white</td>\n",
              "      <td>bus</td>\n",
              "      <td>1.4</td>\n",
              "      <td>4.8</td>\n",
              "      <td>8.7</td>\n",
              "      <td>5.6</td>\n",
              "      <td>2.1</td>\n",
              "    </tr>\n",
              "    <tr>\n",
              "      <th>117</th>\n",
              "      <td>27.367556</td>\n",
              "      <td>1</td>\n",
              "      <td>m</td>\n",
              "      <td>30.0</td>\n",
              "      <td>Retail</td>\n",
              "      <td>Sales</td>\n",
              "      <td>youjs</td>\n",
              "      <td>no</td>\n",
              "      <td>m</td>\n",
              "      <td>white</td>\n",
              "      <td>car</td>\n",
              "      <td>7.0</td>\n",
              "      <td>4.8</td>\n",
              "      <td>1.8</td>\n",
              "      <td>8.7</td>\n",
              "      <td>6.7</td>\n",
              "    </tr>\n",
              "    <tr>\n",
              "      <th>883</th>\n",
              "      <td>34.562628</td>\n",
              "      <td>1</td>\n",
              "      <td>m</td>\n",
              "      <td>31.0</td>\n",
              "      <td>Retail</td>\n",
              "      <td>BusinessDevelopment</td>\n",
              "      <td>KA</td>\n",
              "      <td>yes</td>\n",
              "      <td>m</td>\n",
              "      <td>white</td>\n",
              "      <td>car</td>\n",
              "      <td>9.4</td>\n",
              "      <td>4.8</td>\n",
              "      <td>4.1</td>\n",
              "      <td>7.1</td>\n",
              "      <td>5.2</td>\n",
              "    </tr>\n",
              "    <tr>\n",
              "      <th>525</th>\n",
              "      <td>3.121150</td>\n",
              "      <td>1</td>\n",
              "      <td>f</td>\n",
              "      <td>41.0</td>\n",
              "      <td>Consult</td>\n",
              "      <td>HR</td>\n",
              "      <td>youjs</td>\n",
              "      <td>no</td>\n",
              "      <td>f</td>\n",
              "      <td>white</td>\n",
              "      <td>bus</td>\n",
              "      <td>1.4</td>\n",
              "      <td>4.8</td>\n",
              "      <td>8.7</td>\n",
              "      <td>5.6</td>\n",
              "      <td>2.1</td>\n",
              "    </tr>\n",
              "    <tr>\n",
              "      <th>723</th>\n",
              "      <td>7.030801</td>\n",
              "      <td>1</td>\n",
              "      <td>f</td>\n",
              "      <td>39.0</td>\n",
              "      <td>State</td>\n",
              "      <td>HR</td>\n",
              "      <td>friends</td>\n",
              "      <td>no</td>\n",
              "      <td>f</td>\n",
              "      <td>white</td>\n",
              "      <td>car</td>\n",
              "      <td>7.0</td>\n",
              "      <td>4.1</td>\n",
              "      <td>2.6</td>\n",
              "      <td>7.9</td>\n",
              "      <td>7.5</td>\n",
              "    </tr>\n",
              "  </tbody>\n",
              "</table>\n",
              "</div>\n",
              "      <button class=\"colab-df-convert\" onclick=\"convertToInteractive('df-dc6ec54a-250c-4e80-82b6-8dbf2c9907dd')\"\n",
              "              title=\"Convert this dataframe to an interactive table.\"\n",
              "              style=\"display:none;\">\n",
              "        \n",
              "  <svg xmlns=\"http://www.w3.org/2000/svg\" height=\"24px\"viewBox=\"0 0 24 24\"\n",
              "       width=\"24px\">\n",
              "    <path d=\"M0 0h24v24H0V0z\" fill=\"none\"/>\n",
              "    <path d=\"M18.56 5.44l.94 2.06.94-2.06 2.06-.94-2.06-.94-.94-2.06-.94 2.06-2.06.94zm-11 1L8.5 8.5l.94-2.06 2.06-.94-2.06-.94L8.5 2.5l-.94 2.06-2.06.94zm10 10l.94 2.06.94-2.06 2.06-.94-2.06-.94-.94-2.06-.94 2.06-2.06.94z\"/><path d=\"M17.41 7.96l-1.37-1.37c-.4-.4-.92-.59-1.43-.59-.52 0-1.04.2-1.43.59L10.3 9.45l-7.72 7.72c-.78.78-.78 2.05 0 2.83L4 21.41c.39.39.9.59 1.41.59.51 0 1.02-.2 1.41-.59l7.78-7.78 2.81-2.81c.8-.78.8-2.07 0-2.86zM5.41 20L4 18.59l7.72-7.72 1.47 1.35L5.41 20z\"/>\n",
              "  </svg>\n",
              "      </button>\n",
              "      \n",
              "  <style>\n",
              "    .colab-df-container {\n",
              "      display:flex;\n",
              "      flex-wrap:wrap;\n",
              "      gap: 12px;\n",
              "    }\n",
              "\n",
              "    .colab-df-convert {\n",
              "      background-color: #E8F0FE;\n",
              "      border: none;\n",
              "      border-radius: 50%;\n",
              "      cursor: pointer;\n",
              "      display: none;\n",
              "      fill: #1967D2;\n",
              "      height: 32px;\n",
              "      padding: 0 0 0 0;\n",
              "      width: 32px;\n",
              "    }\n",
              "\n",
              "    .colab-df-convert:hover {\n",
              "      background-color: #E2EBFA;\n",
              "      box-shadow: 0px 1px 2px rgba(60, 64, 67, 0.3), 0px 1px 3px 1px rgba(60, 64, 67, 0.15);\n",
              "      fill: #174EA6;\n",
              "    }\n",
              "\n",
              "    [theme=dark] .colab-df-convert {\n",
              "      background-color: #3B4455;\n",
              "      fill: #D2E3FC;\n",
              "    }\n",
              "\n",
              "    [theme=dark] .colab-df-convert:hover {\n",
              "      background-color: #434B5C;\n",
              "      box-shadow: 0px 1px 3px 1px rgba(0, 0, 0, 0.15);\n",
              "      filter: drop-shadow(0px 1px 2px rgba(0, 0, 0, 0.3));\n",
              "      fill: #FFFFFF;\n",
              "    }\n",
              "  </style>\n",
              "\n",
              "      <script>\n",
              "        const buttonEl =\n",
              "          document.querySelector('#df-dc6ec54a-250c-4e80-82b6-8dbf2c9907dd button.colab-df-convert');\n",
              "        buttonEl.style.display =\n",
              "          google.colab.kernel.accessAllowed ? 'block' : 'none';\n",
              "\n",
              "        async function convertToInteractive(key) {\n",
              "          const element = document.querySelector('#df-dc6ec54a-250c-4e80-82b6-8dbf2c9907dd');\n",
              "          const dataTable =\n",
              "            await google.colab.kernel.invokeFunction('convertToInteractive',\n",
              "                                                     [key], {});\n",
              "          if (!dataTable) return;\n",
              "\n",
              "          const docLinkHtml = 'Like what you see? Visit the ' +\n",
              "            '<a target=\"_blank\" href=https://colab.research.google.com/notebooks/data_table.ipynb>data table notebook</a>'\n",
              "            + ' to learn more about interactive tables.';\n",
              "          element.innerHTML = '';\n",
              "          dataTable['output_type'] = 'display_data';\n",
              "          await google.colab.output.renderOutput(dataTable, element);\n",
              "          const docLink = document.createElement('div');\n",
              "          docLink.innerHTML = docLinkHtml;\n",
              "          element.appendChild(docLink);\n",
              "        }\n",
              "      </script>\n",
              "    </div>\n",
              "  </div>\n",
              "  "
            ]
          },
          "metadata": {},
          "execution_count": 121
        }
      ]
    },
    {
      "cell_type": "code",
      "source": [
        "# conversion label\n",
        "#coach_label = np.array(df.coach == 'yes').astype(int)"
      ],
      "metadata": {
        "id": "FZiJ-wo3Vc-z"
      },
      "execution_count": null,
      "outputs": []
    },
    {
      "cell_type": "markdown",
      "source": [
        ""
      ],
      "metadata": {
        "id": "N2c-CQloVcs3"
      }
    },
    {
      "cell_type": "code",
      "source": [
        "# Check replacement\n",
        "df['coach'].head(11)"
      ],
      "metadata": {
        "colab": {
          "base_uri": "https://localhost:8080/"
        },
        "id": "gm-lH55NTtP9",
        "outputId": "23f2e768-ee03-404a-b403-884c71faf884"
      },
      "execution_count": null,
      "outputs": [
        {
          "output_type": "execute_result",
          "data": {
            "text/plain": [
              "0      no\n",
              "1      no\n",
              "2      no\n",
              "3      no\n",
              "4     yes\n",
              "5     yes\n",
              "6     yes\n",
              "7      no\n",
              "8      no\n",
              "9     yes\n",
              "10     no\n",
              "Name: coach, dtype: object"
            ]
          },
          "metadata": {},
          "execution_count": 123
        }
      ]
    },
    {
      "cell_type": "code",
      "source": [
        "# check jumlah data No dan yes dalam variable coach\n",
        "df.coach.value_counts()"
      ],
      "metadata": {
        "colab": {
          "base_uri": "https://localhost:8080/"
        },
        "id": "caY2EFlkVgWn",
        "outputId": "05a812db-6717-40c2-c4b1-ee02f42afb00"
      },
      "execution_count": null,
      "outputs": [
        {
          "output_type": "execute_result",
          "data": {
            "text/plain": [
              "no     683\n",
              "yes    446\n",
              "Name: coach, dtype: int64"
            ]
          },
          "metadata": {},
          "execution_count": 124
        }
      ]
    },
    {
      "cell_type": "code",
      "source": [
        "sns.countplot(data = df, x = 'coach');"
      ],
      "metadata": {
        "colab": {
          "base_uri": "https://localhost:8080/",
          "height": 651
        },
        "id": "DKU1xTQbUHsA",
        "outputId": "7e919f48-ea73-4bbe-d0d0-edb0043ee058"
      },
      "execution_count": null,
      "outputs": [
        {
          "output_type": "display_data",
          "data": {
            "text/plain": [
              "<Figure size 360x720 with 1 Axes>"
            ],
            "image/png": "[encoded data removed]"
          },
          "metadata": {}
        }
      ]
    },
    {
      "cell_type": "markdown",
      "source": [
        "Terlihat pada hasil output visualisasi diatas bahwa banyak karyawan yang tidak diberikan pelatihan dari pada yan diberikan pelatihan"
      ],
      "metadata": {
        "id": "ieaO88P2xOUE"
      }
    },
    {
      "cell_type": "code",
      "source": [
        "# checking unique on qs_columns\n",
        "qs_columns = ['coach']\n",
        "\n",
        "for col in qs_columns:\n",
        "  print('='*10)\n",
        "  print(f'Columns: {col}')\n",
        "  print(df[col].unique())"
      ],
      "metadata": {
        "colab": {
          "base_uri": "https://localhost:8080/"
        },
        "id": "kdHnXrD-Xwio",
        "outputId": "660bdafb-93c7-458f-80eb-1928655acf7b"
      },
      "execution_count": null,
      "outputs": [
        {
          "output_type": "stream",
          "name": "stdout",
          "text": [
            "==========\n",
            "Columns: coach\n",
            "['no' 'yes']\n"
          ]
        }
      ]
    },
    {
      "cell_type": "code",
      "source": [
        "df.info()"
      ],
      "metadata": {
        "colab": {
          "base_uri": "https://localhost:8080/"
        },
        "id": "RGTqGddBX6lT",
        "outputId": "482677c7-d82a-4214-99fd-f2f8cfb14bf8"
      },
      "execution_count": null,
      "outputs": [
        {
          "output_type": "stream",
          "name": "stdout",
          "text": [
            "<class 'pandas.core.frame.DataFrame'>\n",
            "Int64Index: 1129 entries, 0 to 1128\n",
            "Data columns (total 16 columns):\n",
            " #   Column        Non-Null Count  Dtype  \n",
            "---  ------        --------------  -----  \n",
            " 0   stag          1129 non-null   float64\n",
            " 1   event         1129 non-null   int64  \n",
            " 2   gender        1129 non-null   object \n",
            " 3   age           1129 non-null   float64\n",
            " 4   industry      1129 non-null   object \n",
            " 5   profession    1129 non-null   object \n",
            " 6   traffic       1129 non-null   object \n",
            " 7   coach         1129 non-null   object \n",
            " 8   head_gender   1129 non-null   object \n",
            " 9   greywage      1129 non-null   object \n",
            " 10  way           1129 non-null   object \n",
            " 11  extraversion  1129 non-null   float64\n",
            " 12  independ      1129 non-null   float64\n",
            " 13  selfcontrol   1129 non-null   float64\n",
            " 14  anxiety       1129 non-null   float64\n",
            " 15  novator       1129 non-null   float64\n",
            "dtypes: float64(7), int64(1), object(8)\n",
            "memory usage: 182.2+ KB\n"
          ]
        }
      ]
    },
    {
      "cell_type": "code",
      "source": [
        "df.head(11)"
      ],
      "metadata": {
        "id": "fknqtVnPecyn"
      },
      "execution_count": null,
      "outputs": []
    },
    {
      "cell_type": "code",
      "source": [
        "df['coach'] = df['coach'].astype(str)"
      ],
      "metadata": {
        "id": "fV7kylA8d2u4"
      },
      "execution_count": null,
      "outputs": []
    },
    {
      "cell_type": "code",
      "source": [
        "coach = df['coach'].value_counts()"
      ],
      "metadata": {
        "id": "XTHo1Q2WcW5f"
      },
      "execution_count": null,
      "outputs": []
    },
    {
      "cell_type": "code",
      "source": [
        "gender = df['gender'].value_counts()\n",
        "\n",
        "fig = px.pie(gender,\n",
        "             values = gender.values,\n",
        "             names = gender.index,\n",
        "             color_discrete_sequence=px.colors.sequential.RdBu)\n",
        "fig.update_traces(textposition='inside', textinfo='percent+label',\n",
        "                  marker = dict(line = dict(color = 'white', width = 1)))\n",
        "fig.show()"
      ],
      "metadata": {
        "colab": {
          "base_uri": "https://localhost:8080/",
          "height": 542
        },
        "id": "duJ_Pjw6V3e_",
        "outputId": "bbfa403f-e10b-439e-dd23-bee07dae2a66"
      },
      "execution_count": null,
      "outputs": [
        {
          "output_type": "display_data",
          "data": {
            "text/html": [
              "<html>\n",
              "<head><meta charset=\"utf-8\" /></head>\n",
              "<body>\n",
              "    <div>            <script src=\"https://cdnjs.cloudflare.com/ajax/libs/mathjax/2.7.5/MathJax.js?config=TeX-AMS-MML_SVG\"></script><script type=\"text/javascript\">if (window.MathJax) {MathJax.Hub.Config({SVG: {font: \"STIX-Web\"}});}</script>                <script type=\"text/javascript\">window.PlotlyConfig = {MathJaxConfig: 'local'};</script>\n",
              "        <script src=\"https://cdn.plot.ly/plotly-2.8.3.min.js\"></script>                <div id=\"ab9e12ab-59dd-45e7-adf6-5920d8e7fd38\" class=\"plotly-graph-div\" style=\"height:525px; width:100%;\"></div>            <script type=\"text/javascript\">                                    window.PLOTLYENV=window.PLOTLYENV || {};                                    if (document.getElementById(\"ab9e12ab-59dd-45e7-adf6-5920d8e7fd38\")) {                    Plotly.newPlot(                        \"ab9e12ab-59dd-45e7-adf6-5920d8e7fd38\",                        [{\"domain\":{\"x\":[0.0,1.0],\"y\":[0.0,1.0]},\"hovertemplate\":\"index=%{label}<br>value=%{value}<extra></extra>\",\"labels\":[\"f\",\"m\"],\"legendgroup\":\"\",\"name\":\"\",\"showlegend\":true,\"values\":[853,276],\"type\":\"pie\",\"marker\":{\"line\":{\"color\":\"white\",\"width\":1}},\"textinfo\":\"percent+label\",\"textposition\":\"inside\"}],                        {\"template\":{\"data\":{\"bar\":[{\"error_x\":{\"color\":\"#2a3f5f\"},\"error_y\":{\"color\":\"#2a3f5f\"},\"marker\":{\"line\":{\"color\":\"#E5ECF6\",\"width\":0.5},\"pattern\":{\"fillmode\":\"overlay\",\"size\":10,\"solidity\":0.2}},\"type\":\"bar\"}],\"barpolar\":[{\"marker\":{\"line\":{\"color\":\"#E5ECF6\",\"width\":0.5},\"pattern\":{\"fillmode\":\"overlay\",\"size\":10,\"solidity\":0.2}},\"type\":\"barpolar\"}],\"carpet\":[{\"aaxis\":{\"endlinecolor\":\"#2a3f5f\",\"gridcolor\":\"white\",\"linecolor\":\"white\",\"minorgridcolor\":\"white\",\"startlinecolor\":\"#2a3f5f\"},\"baxis\":{\"endlinecolor\":\"#2a3f5f\",\"gridcolor\":\"white\",\"linecolor\":\"white\",\"minorgridcolor\":\"white\",\"startlinecolor\":\"#2a3f5f\"},\"type\":\"carpet\"}],\"choropleth\":[{\"colorbar\":{\"outlinewidth\":0,\"ticks\":\"\"},\"type\":\"choropleth\"}],\"contour\":[{\"colorbar\":{\"outlinewidth\":0,\"ticks\":\"\"},\"colorscale\":[[0.0,\"#0d0887\"],[0.1111111111111111,\"#46039f\"],[0.2222222222222222,\"#7201a8\"],[0.3333333333333333,\"#9c179e\"],[0.4444444444444444,\"#bd3786\"],[0.5555555555555556,\"#d8576b\"],[0.6666666666666666,\"#ed7953\"],[0.7777777777777778,\"#fb9f3a\"],[0.8888888888888888,\"#fdca26\"],[1.0,\"#f0f921\"]],\"type\":\"contour\"}],\"contourcarpet\":[{\"colorbar\":{\"outlinewidth\":0,\"ticks\":\"\"},\"type\":\"contourcarpet\"}],\"heatmap\":[{\"colorbar\":{\"outlinewidth\":0,\"ticks\":\"\"},\"colorscale\":[[0.0,\"#0d0887\"],[0.1111111111111111,\"#46039f\"],[0.2222222222222222,\"#7201a8\"],[0.3333333333333333,\"#9c179e\"],[0.4444444444444444,\"#bd3786\"],[0.5555555555555556,\"#d8576b\"],[0.6666666666666666,\"#ed7953\"],[0.7777777777777778,\"#fb9f3a\"],[0.8888888888888888,\"#fdca26\"],[1.0,\"#f0f921\"]],\"type\":\"heatmap\"}],\"heatmapgl\":[{\"colorbar\":{\"outlinewidth\":0,\"ticks\":\"\"},\"colorscale\":[[0.0,\"#0d0887\"],[0.1111111111111111,\"#46039f\"],[0.2222222222222222,\"#7201a8\"],[0.3333333333333333,\"#9c179e\"],[0.4444444444444444,\"#bd3786\"],[0.5555555555555556,\"#d8576b\"],[0.6666666666666666,\"#ed7953\"],[0.7777777777777778,\"#fb9f3a\"],[0.8888888888888888,\"#fdca26\"],[1.0,\"#f0f921\"]],\"type\":\"heatmapgl\"}],\"histogram\":[{\"marker\":{\"pattern\":{\"fillmode\":\"overlay\",\"size\":10,\"solidity\":0.2}},\"type\":\"histogram\"}],\"histogram2d\":[{\"colorbar\":{\"outlinewidth\":0,\"ticks\":\"\"},\"colorscale\":[[0.0,\"#0d0887\"],[0.1111111111111111,\"#46039f\"],[0.2222222222222222,\"#7201a8\"],[0.3333333333333333,\"#9c179e\"],[0.4444444444444444,\"#bd3786\"],[0.5555555555555556,\"#d8576b\"],[0.6666666666666666,\"#ed7953\"],[0.7777777777777778,\"#fb9f3a\"],[0.8888888888888888,\"#fdca26\"],[1.0,\"#f0f921\"]],\"type\":\"histogram2d\"}],\"histogram2dcontour\":[{\"colorbar\":{\"outlinewidth\":0,\"ticks\":\"\"},\"colorscale\":[[0.0,\"#0d0887\"],[0.1111111111111111,\"#46039f\"],[0.2222222222222222,\"#7201a8\"],[0.3333333333333333,\"#9c179e\"],[0.4444444444444444,\"#bd3786\"],[0.5555555555555556,\"#d8576b\"],[0.6666666666666666,\"#ed7953\"],[0.7777777777777778,\"#fb9f3a\"],[0.8888888888888888,\"#fdca26\"],[1.0,\"#f0f921\"]],\"type\":\"histogram2dcontour\"}],\"mesh3d\":[{\"colorbar\":{\"outlinewidth\":0,\"ticks\":\"\"},\"type\":\"mesh3d\"}],\"parcoords\":[{\"line\":{\"colorbar\":{\"outlinewidth\":0,\"ticks\":\"\"}},\"type\":\"parcoords\"}],\"pie\":[{\"automargin\":true,\"type\":\"pie\"}],\"scatter\":[{\"marker\":{\"colorbar\":{\"outlinewidth\":0,\"ticks\":\"\"}},\"type\":\"scatter\"}],\"scatter3d\":[{\"line\":{\"colorbar\":{\"outlinewidth\":0,\"ticks\":\"\"}},\"marker\":{\"colorbar\":{\"outlinewidth\":0,\"ticks\":\"\"}},\"type\":\"scatter3d\"}],\"scattercarpet\":[{\"marker\":{\"colorbar\":{\"outlinewidth\":0,\"ticks\":\"\"}},\"type\":\"scattercarpet\"}],\"scattergeo\":[{\"marker\":{\"colorbar\":{\"outlinewidth\":0,\"ticks\":\"\"}},\"type\":\"scattergeo\"}],\"scattergl\":[{\"marker\":{\"colorbar\":{\"outlinewidth\":0,\"ticks\":\"\"}},\"type\":\"scattergl\"}],\"scattermapbox\":[{\"marker\":{\"colorbar\":{\"outlinewidth\":0,\"ticks\":\"\"}},\"type\":\"scattermapbox\"}],\"scatterpolar\":[{\"marker\":{\"colorbar\":{\"outlinewidth\":0,\"ticks\":\"\"}},\"type\":\"scatterpolar\"}],\"scatterpolargl\":[{\"marker\":{\"colorbar\":{\"outlinewidth\":0,\"ticks\":\"\"}},\"type\":\"scatterpolargl\"}],\"scatterternary\":[{\"marker\":{\"colorbar\":{\"outlinewidth\":0,\"ticks\":\"\"}},\"type\":\"scatterternary\"}],\"surface\":[{\"colorbar\":{\"outlinewidth\":0,\"ticks\":\"\"},\"colorscale\":[[0.0,\"#0d0887\"],[0.1111111111111111,\"#46039f\"],[0.2222222222222222,\"#7201a8\"],[0.3333333333333333,\"#9c179e\"],[0.4444444444444444,\"#bd3786\"],[0.5555555555555556,\"#d8576b\"],[0.6666666666666666,\"#ed7953\"],[0.7777777777777778,\"#fb9f3a\"],[0.8888888888888888,\"#fdca26\"],[1.0,\"#f0f921\"]],\"type\":\"surface\"}],\"table\":[{\"cells\":{\"fill\":{\"color\":\"#EBF0F8\"},\"line\":{\"color\":\"white\"}},\"header\":{\"fill\":{\"color\":\"#C8D4E3\"},\"line\":{\"color\":\"white\"}},\"type\":\"table\"}]},\"layout\":{\"annotationdefaults\":{\"arrowcolor\":\"#2a3f5f\",\"arrowhead\":0,\"arrowwidth\":1},\"autotypenumbers\":\"strict\",\"coloraxis\":{\"colorbar\":{\"outlinewidth\":0,\"ticks\":\"\"}},\"colorscale\":{\"diverging\":[[0,\"#8e0152\"],[0.1,\"#c51b7d\"],[0.2,\"#de77ae\"],[0.3,\"#f1b6da\"],[0.4,\"#fde0ef\"],[0.5,\"#f7f7f7\"],[0.6,\"#e6f5d0\"],[0.7,\"#b8e186\"],[0.8,\"#7fbc41\"],[0.9,\"#4d9221\"],[1,\"#276419\"]],\"sequential\":[[0.0,\"#0d0887\"],[0.1111111111111111,\"#46039f\"],[0.2222222222222222,\"#7201a8\"],[0.3333333333333333,\"#9c179e\"],[0.4444444444444444,\"#bd3786\"],[0.5555555555555556,\"#d8576b\"],[0.6666666666666666,\"#ed7953\"],[0.7777777777777778,\"#fb9f3a\"],[0.8888888888888888,\"#fdca26\"],[1.0,\"#f0f921\"]],\"sequentialminus\":[[0.0,\"#0d0887\"],[0.1111111111111111,\"#46039f\"],[0.2222222222222222,\"#7201a8\"],[0.3333333333333333,\"#9c179e\"],[0.4444444444444444,\"#bd3786\"],[0.5555555555555556,\"#d8576b\"],[0.6666666666666666,\"#ed7953\"],[0.7777777777777778,\"#fb9f3a\"],[0.8888888888888888,\"#fdca26\"],[1.0,\"#f0f921\"]]},\"colorway\":[\"#636efa\",\"#EF553B\",\"#00cc96\",\"#ab63fa\",\"#FFA15A\",\"#19d3f3\",\"#FF6692\",\"#B6E880\",\"#FF97FF\",\"#FECB52\"],\"font\":{\"color\":\"#2a3f5f\"},\"geo\":{\"bgcolor\":\"white\",\"lakecolor\":\"white\",\"landcolor\":\"#E5ECF6\",\"showlakes\":true,\"showland\":true,\"subunitcolor\":\"white\"},\"hoverlabel\":{\"align\":\"left\"},\"hovermode\":\"closest\",\"mapbox\":{\"style\":\"light\"},\"paper_bgcolor\":\"white\",\"plot_bgcolor\":\"#E5ECF6\",\"polar\":{\"angularaxis\":{\"gridcolor\":\"white\",\"linecolor\":\"white\",\"ticks\":\"\"},\"bgcolor\":\"#E5ECF6\",\"radialaxis\":{\"gridcolor\":\"white\",\"linecolor\":\"white\",\"ticks\":\"\"}},\"scene\":{\"xaxis\":{\"backgroundcolor\":\"#E5ECF6\",\"gridcolor\":\"white\",\"gridwidth\":2,\"linecolor\":\"white\",\"showbackground\":true,\"ticks\":\"\",\"zerolinecolor\":\"white\"},\"yaxis\":{\"backgroundcolor\":\"#E5ECF6\",\"gridcolor\":\"white\",\"gridwidth\":2,\"linecolor\":\"white\",\"showbackground\":true,\"ticks\":\"\",\"zerolinecolor\":\"white\"},\"zaxis\":{\"backgroundcolor\":\"#E5ECF6\",\"gridcolor\":\"white\",\"gridwidth\":2,\"linecolor\":\"white\",\"showbackground\":true,\"ticks\":\"\",\"zerolinecolor\":\"white\"}},\"shapedefaults\":{\"line\":{\"color\":\"#2a3f5f\"}},\"ternary\":{\"aaxis\":{\"gridcolor\":\"white\",\"linecolor\":\"white\",\"ticks\":\"\"},\"baxis\":{\"gridcolor\":\"white\",\"linecolor\":\"white\",\"ticks\":\"\"},\"bgcolor\":\"#E5ECF6\",\"caxis\":{\"gridcolor\":\"white\",\"linecolor\":\"white\",\"ticks\":\"\"}},\"title\":{\"x\":0.05},\"xaxis\":{\"automargin\":true,\"gridcolor\":\"white\",\"linecolor\":\"white\",\"ticks\":\"\",\"title\":{\"standoff\":15},\"zerolinecolor\":\"white\",\"zerolinewidth\":2},\"yaxis\":{\"automargin\":true,\"gridcolor\":\"white\",\"linecolor\":\"white\",\"ticks\":\"\",\"title\":{\"standoff\":15},\"zerolinecolor\":\"white\",\"zerolinewidth\":2}}},\"legend\":{\"tracegroupgap\":0},\"margin\":{\"t\":60},\"piecolorway\":[\"rgb(103,0,31)\",\"rgb(178,24,43)\",\"rgb(214,96,77)\",\"rgb(244,165,130)\",\"rgb(253,219,199)\",\"rgb(247,247,247)\",\"rgb(209,229,240)\",\"rgb(146,197,222)\",\"rgb(67,147,195)\",\"rgb(33,102,172)\",\"rgb(5,48,97)\"]},                        {\"responsive\": true}                    ).then(function(){\n",
              "                            \n",
              "var gd = document.getElementById('ab9e12ab-59dd-45e7-adf6-5920d8e7fd38');\n",
              "var x = new MutationObserver(function (mutations, observer) {{\n",
              "        var display = window.getComputedStyle(gd).display;\n",
              "        if (!display || display === 'none') {{\n",
              "            console.log([gd, 'removed!']);\n",
              "            Plotly.purge(gd);\n",
              "            observer.disconnect();\n",
              "        }}\n",
              "}});\n",
              "\n",
              "// Listen for the removal of the full notebook cells\n",
              "var notebookContainer = gd.closest('#notebook-container');\n",
              "if (notebookContainer) {{\n",
              "    x.observe(notebookContainer, {childList: true});\n",
              "}}\n",
              "\n",
              "// Listen for the clearing of the current output cell\n",
              "var outputEl = gd.closest('.output');\n",
              "if (outputEl) {{\n",
              "    x.observe(outputEl, {childList: true});\n",
              "}}\n",
              "\n",
              "                        })                };                            </script>        </div>\n",
              "</body>\n",
              "</html>"
            ]
          },
          "metadata": {}
        }
      ]
    },
    {
      "cell_type": "markdown",
      "source": [
        "Pada hasil output visualisasi diatas terlihat untuk gender didominasi perempuan yaitu sekitar 75,6% dan laki-laki sekitar 24,45"
      ],
      "metadata": {
        "id": "czsnBVkqxG78"
      }
    },
    {
      "cell_type": "code",
      "source": [
        " # count plot on two categorical variable\n",
        "sns.countplot(x ='gender', hue = \"coach\", data = df)\n",
        " # Show the plot\n",
        "plt.show()"
      ],
      "metadata": {
        "colab": {
          "base_uri": "https://localhost:8080/",
          "height": 651
        },
        "id": "rPHdeBsMhCDp",
        "outputId": "961bf9a8-4390-41d0-ed42-1e36433d650e"
      },
      "execution_count": null,
      "outputs": [
        {
          "output_type": "display_data",
          "data": {
            "text/plain": [
              "<Figure size 360x720 with 1 Axes>"
            ],
            "image/png": "[encoded data removed]"
          },
          "metadata": {}
        }
      ]
    },
    {
      "cell_type": "code",
      "source": [
        " # count plot on two categorical variable\n",
        "sns.countplot(x ='coach', hue = \"age\", data = df)\n",
        " # Show the plot\n",
        "plt.show()"
      ],
      "metadata": {
        "colab": {
          "base_uri": "https://localhost:8080/",
          "height": 699
        },
        "id": "eWEYD6N7O2Od",
        "outputId": "1014ba9a-e771-42c4-f9a9-fc286fe40c6c"
      },
      "execution_count": null,
      "outputs": [
        {
          "output_type": "display_data",
          "data": {
            "text/plain": [
              "<Figure size 360x720 with 1 Axes>"
            ],
            "image/png": "[encoded data removed]"
          },
          "metadata": {}
        }
      ]
    },
    {
      "cell_type": "code",
      "source": [
        " # count plot on two categorical variable\n",
        "sns.countplot(x ='coach', hue = \"industry\", data = df)\n",
        " # Show the plot\n",
        "plt.show()"
      ],
      "metadata": {
        "colab": {
          "base_uri": "https://localhost:8080/",
          "height": 651
        },
        "id": "ok7ehp4mte2-",
        "outputId": "b8ffd786-6174-4270-8781-ca33593c551f"
      },
      "execution_count": null,
      "outputs": [
        {
          "output_type": "display_data",
          "data": {
            "text/plain": [
              "<Figure size 360x720 with 1 Axes>"
            ],
            "image/png": "[encoded data removed]"
          },
          "metadata": {}
        }
      ]
    },
    {
      "cell_type": "code",
      "source": [
        " # count plot on two categorical variable\n",
        "sns.countplot(x ='coach', hue = \"way\", data = df)\n",
        " # Show the plot\n",
        "plt.show()"
      ],
      "metadata": {
        "colab": {
          "base_uri": "https://localhost:8080/",
          "height": 651
        },
        "id": "paIpQxEut3t-",
        "outputId": "e7620197-273c-46c3-a0be-ba3cc3811504"
      },
      "execution_count": null,
      "outputs": [
        {
          "output_type": "display_data",
          "data": {
            "text/plain": [
              "<Figure size 360x720 with 1 Axes>"
            ],
            "image/png": "[encoded data removed]"
          },
          "metadata": {}
        }
      ]
    },
    {
      "cell_type": "code",
      "source": [
        " # count plot on two categorical variable\n",
        "sns.countplot(x ='coach', hue = \"profession\", data = df)\n",
        " # Show the plot\n",
        "plt.show()"
      ],
      "metadata": {
        "colab": {
          "base_uri": "https://localhost:8080/",
          "height": 651
        },
        "id": "a2ublAT0uDil",
        "outputId": "2958ba66-2b1d-45db-8c6c-4634016d3840"
      },
      "execution_count": null,
      "outputs": [
        {
          "output_type": "display_data",
          "data": {
            "text/plain": [
              "<Figure size 360x720 with 1 Axes>"
            ],
            "image/png": "[encoded data removed]"
          },
          "metadata": {}
        }
      ]
    },
    {
      "cell_type": "code",
      "source": [
        " # count plot on two categorical variable\n",
        "sns.countplot(x ='coach', hue = \"traffic\", data = df)\n",
        " # Show the plot\n",
        "plt.show()"
      ],
      "metadata": {
        "id": "C2pJLCxuuUKV",
        "outputId": "7af4075f-759c-4bd7-cbf0-69257f7e3ff7",
        "colab": {
          "base_uri": "https://localhost:8080/",
          "height": 651
        }
      },
      "execution_count": null,
      "outputs": [
        {
          "output_type": "display_data",
          "data": {
            "text/plain": [
              "<Figure size 360x720 with 1 Axes>"
            ],
            "image/png": "[encoded data removed]"
          },
          "metadata": {}
        }
      ]
    },
    {
      "cell_type": "markdown",
      "source": [
        "# **Train-Test Split Data**"
      ],
      "metadata": {
        "id": "viCNV7SHAaeO"
      }
    },
    {
      "cell_type": "code",
      "source": [
        "X_train, X_test = train_test_split(\n",
        "    df.drop(['extraversion', 'independ', 'selfcontrol', 'anxiety', 'novator'], axis = 1), \n",
        "    test_size = 0.5, \n",
        "    random_state = 1000)"
      ],
      "metadata": {
        "id": "UfXsh6byVlU3"
      },
      "execution_count": null,
      "outputs": []
    },
    {
      "cell_type": "code",
      "source": [
        "# treatment label\n",
        "treatment_label = np.array(df.coach == \"yes\").astype(int)\n",
        "# conversion label\n",
        "event_label = np.array(df.event == 1).astype(int)\n",
        "# Exclude treatment and conversion label\n",
        "data_for_model = df.drop(['coach', 'event', 'extraversion', 'independ', 'selfcontrol', 'anxiety', 'novator'], axis = 1)"
      ],
      "metadata": {
        "id": "YvcIRn8LAXsi"
      },
      "execution_count": null,
      "outputs": []
    },
    {
      "cell_type": "markdown",
      "source": [
        "# **Data Exploration**"
      ],
      "metadata": {
        "id": "efOxDYmnCHMu"
      }
    },
    {
      "cell_type": "code",
      "source": [
        "X_train.head()"
      ],
      "metadata": {
        "id": "dSVG2JQgCTU9",
        "outputId": "f67d601c-8fb6-4066-eb0f-7747c236c523",
        "colab": {
          "base_uri": "https://localhost:8080/"
        }
      },
      "execution_count": null,
      "outputs": [
        {
          "output_type": "execute_result",
          "data": {
            "text/plain": [
              "           stag  event gender   age     industry  profession      traffic  \\\n",
              "1052  29.700205      0      m  47.0           IT     Consult  rabrecNErab   \n",
              "396    9.100616      1      f  26.0        State          HR      referal   \n",
              "670   55.950719      0      f  40.0          etc          HR        youjs   \n",
              "521   15.112936      0      f  45.0        State          HR  rabrecNErab   \n",
              "971   19.942505      1      f  23.0  manufacture  Commercial        youjs   \n",
              "\n",
              "     coach head_gender greywage   way  \n",
              "1052    no           m    white   bus  \n",
              "396     no           m    white   car  \n",
              "670     no           f    white  foot  \n",
              "521     no           f    white   bus  \n",
              "971    yes           f    white   bus  "
            ],
            "text/html": [
              "\n",
              "  <div id=\"df-06b05136-4481-46aa-840b-f96e81ac03b6\">\n",
              "    <div class=\"colab-df-container\">\n",
              "      <div>\n",
              "<style scoped>\n",
              "    .dataframe tbody tr th:only-of-type {\n",
              "        vertical-align: middle;\n",
              "    }\n",
              "\n",
              "    .dataframe tbody tr th {\n",
              "        vertical-align: top;\n",
              "    }\n",
              "\n",
              "    .dataframe thead th {\n",
              "        text-align: right;\n",
              "    }\n",
              "</style>\n",
              "<table border=\"1\" class=\"dataframe\">\n",
              "  <thead>\n",
              "    <tr style=\"text-align: right;\">\n",
              "      <th></th>\n",
              "      <th>stag</th>\n",
              "      <th>event</th>\n",
              "      <th>gender</th>\n",
              "      <th>age</th>\n",
              "      <th>industry</th>\n",
              "      <th>profession</th>\n",
              "      <th>traffic</th>\n",
              "      <th>coach</th>\n",
              "      <th>head_gender</th>\n",
              "      <th>greywage</th>\n",
              "      <th>way</th>\n",
              "    </tr>\n",
              "  </thead>\n",
              "  <tbody>\n",
              "    <tr>\n",
              "      <th>1052</th>\n",
              "      <td>29.700205</td>\n",
              "      <td>0</td>\n",
              "      <td>m</td>\n",
              "      <td>47.0</td>\n",
              "      <td>IT</td>\n",
              "      <td>Consult</td>\n",
              "      <td>rabrecNErab</td>\n",
              "      <td>no</td>\n",
              "      <td>m</td>\n",
              "      <td>white</td>\n",
              "      <td>bus</td>\n",
              "    </tr>\n",
              "    <tr>\n",
              "      <th>396</th>\n",
              "      <td>9.100616</td>\n",
              "      <td>1</td>\n",
              "      <td>f</td>\n",
              "      <td>26.0</td>\n",
              "      <td>State</td>\n",
              "      <td>HR</td>\n",
              "      <td>referal</td>\n",
              "      <td>no</td>\n",
              "      <td>m</td>\n",
              "      <td>white</td>\n",
              "      <td>car</td>\n",
              "    </tr>\n",
              "    <tr>\n",
              "      <th>670</th>\n",
              "      <td>55.950719</td>\n",
              "      <td>0</td>\n",
              "      <td>f</td>\n",
              "      <td>40.0</td>\n",
              "      <td>etc</td>\n",
              "      <td>HR</td>\n",
              "      <td>youjs</td>\n",
              "      <td>no</td>\n",
              "      <td>f</td>\n",
              "      <td>white</td>\n",
              "      <td>foot</td>\n",
              "    </tr>\n",
              "    <tr>\n",
              "      <th>521</th>\n",
              "      <td>15.112936</td>\n",
              "      <td>0</td>\n",
              "      <td>f</td>\n",
              "      <td>45.0</td>\n",
              "      <td>State</td>\n",
              "      <td>HR</td>\n",
              "      <td>rabrecNErab</td>\n",
              "      <td>no</td>\n",
              "      <td>f</td>\n",
              "      <td>white</td>\n",
              "      <td>bus</td>\n",
              "    </tr>\n",
              "    <tr>\n",
              "      <th>971</th>\n",
              "      <td>19.942505</td>\n",
              "      <td>1</td>\n",
              "      <td>f</td>\n",
              "      <td>23.0</td>\n",
              "      <td>manufacture</td>\n",
              "      <td>Commercial</td>\n",
              "      <td>youjs</td>\n",
              "      <td>yes</td>\n",
              "      <td>f</td>\n",
              "      <td>white</td>\n",
              "      <td>bus</td>\n",
              "    </tr>\n",
              "  </tbody>\n",
              "</table>\n",
              "</div>\n",
              "      <button class=\"colab-df-convert\" onclick=\"convertToInteractive('df-06b05136-4481-46aa-840b-f96e81ac03b6')\"\n",
              "              title=\"Convert this dataframe to an interactive table.\"\n",
              "              style=\"display:none;\">\n",
              "        \n",
              "  <svg xmlns=\"http://www.w3.org/2000/svg\" height=\"24px\"viewBox=\"0 0 24 24\"\n",
              "       width=\"24px\">\n",
              "    <path d=\"M0 0h24v24H0V0z\" fill=\"none\"/>\n",
              "    <path d=\"M18.56 5.44l.94 2.06.94-2.06 2.06-.94-2.06-.94-.94-2.06-.94 2.06-2.06.94zm-11 1L8.5 8.5l.94-2.06 2.06-.94-2.06-.94L8.5 2.5l-.94 2.06-2.06.94zm10 10l.94 2.06.94-2.06 2.06-.94-2.06-.94-.94-2.06-.94 2.06-2.06.94z\"/><path d=\"M17.41 7.96l-1.37-1.37c-.4-.4-.92-.59-1.43-.59-.52 0-1.04.2-1.43.59L10.3 9.45l-7.72 7.72c-.78.78-.78 2.05 0 2.83L4 21.41c.39.39.9.59 1.41.59.51 0 1.02-.2 1.41-.59l7.78-7.78 2.81-2.81c.8-.78.8-2.07 0-2.86zM5.41 20L4 18.59l7.72-7.72 1.47 1.35L5.41 20z\"/>\n",
              "  </svg>\n",
              "      </button>\n",
              "      \n",
              "  <style>\n",
              "    .colab-df-container {\n",
              "      display:flex;\n",
              "      flex-wrap:wrap;\n",
              "      gap: 12px;\n",
              "    }\n",
              "\n",
              "    .colab-df-convert {\n",
              "      background-color: #E8F0FE;\n",
              "      border: none;\n",
              "      border-radius: 50%;\n",
              "      cursor: pointer;\n",
              "      display: none;\n",
              "      fill: #1967D2;\n",
              "      height: 32px;\n",
              "      padding: 0 0 0 0;\n",
              "      width: 32px;\n",
              "    }\n",
              "\n",
              "    .colab-df-convert:hover {\n",
              "      background-color: #E2EBFA;\n",
              "      box-shadow: 0px 1px 2px rgba(60, 64, 67, 0.3), 0px 1px 3px 1px rgba(60, 64, 67, 0.15);\n",
              "      fill: #174EA6;\n",
              "    }\n",
              "\n",
              "    [theme=dark] .colab-df-convert {\n",
              "      background-color: #3B4455;\n",
              "      fill: #D2E3FC;\n",
              "    }\n",
              "\n",
              "    [theme=dark] .colab-df-convert:hover {\n",
              "      background-color: #434B5C;\n",
              "      box-shadow: 0px 1px 3px 1px rgba(0, 0, 0, 0.15);\n",
              "      filter: drop-shadow(0px 1px 2px rgba(0, 0, 0, 0.3));\n",
              "      fill: #FFFFFF;\n",
              "    }\n",
              "  </style>\n",
              "\n",
              "      <script>\n",
              "        const buttonEl =\n",
              "          document.querySelector('#df-06b05136-4481-46aa-840b-f96e81ac03b6 button.colab-df-convert');\n",
              "        buttonEl.style.display =\n",
              "          google.colab.kernel.accessAllowed ? 'block' : 'none';\n",
              "\n",
              "        async function convertToInteractive(key) {\n",
              "          const element = document.querySelector('#df-06b05136-4481-46aa-840b-f96e81ac03b6');\n",
              "          const dataTable =\n",
              "            await google.colab.kernel.invokeFunction('convertToInteractive',\n",
              "                                                     [key], {});\n",
              "          if (!dataTable) return;\n",
              "\n",
              "          const docLinkHtml = 'Like what you see? Visit the ' +\n",
              "            '<a target=\"_blank\" href=https://colab.research.google.com/notebooks/data_table.ipynb>data table notebook</a>'\n",
              "            + ' to learn more about interactive tables.';\n",
              "          element.innerHTML = '';\n",
              "          dataTable['output_type'] = 'display_data';\n",
              "          await google.colab.output.renderOutput(dataTable, element);\n",
              "          const docLink = document.createElement('div');\n",
              "          docLink.innerHTML = docLinkHtml;\n",
              "          element.appendChild(docLink);\n",
              "        }\n",
              "      </script>\n",
              "    </div>\n",
              "  </div>\n",
              "  "
            ]
          },
          "metadata": {},
          "execution_count": 134
        }
      ]
    },
    {
      "cell_type": "code",
      "source": [
        "X_train.coach.value_counts()"
      ],
      "metadata": {
        "id": "2UUp9n3fCXRA",
        "outputId": "14bcada5-7fee-4b6f-e5fa-0d9d35cc441f",
        "colab": {
          "base_uri": "https://localhost:8080/"
        }
      },
      "execution_count": null,
      "outputs": [
        {
          "output_type": "execute_result",
          "data": {
            "text/plain": [
              "no     338\n",
              "yes    226\n",
              "Name: coach, dtype: int64"
            ]
          },
          "metadata": {},
          "execution_count": 135
        }
      ]
    },
    {
      "cell_type": "markdown",
      "source": [
        "Do one-hot encoding for each categorical variable"
      ],
      "metadata": {
        "id": "DyDv8N2CCeYY"
      }
    },
    {
      "cell_type": "code",
      "source": [
        "X_train['way'].value_counts()"
      ],
      "metadata": {
        "id": "wwF6v6-cDQxh",
        "outputId": "15459a2b-3ef8-4472-be8c-fad3c104f68d",
        "colab": {
          "base_uri": "https://localhost:8080/"
        }
      },
      "execution_count": null,
      "outputs": [
        {
          "output_type": "execute_result",
          "data": {
            "text/plain": [
              "bus     351\n",
              "car     154\n",
              "foot     59\n",
              "Name: way, dtype: int64"
            ]
          },
          "metadata": {},
          "execution_count": 136
        }
      ]
    },
    {
      "cell_type": "code",
      "source": [
        "X_train['greywage'].value_counts()"
      ],
      "metadata": {
        "id": "p3oNBzJiDMQl",
        "outputId": "534e18aa-4444-4ad3-861a-7e219e54e6ff",
        "colab": {
          "base_uri": "https://localhost:8080/"
        }
      },
      "execution_count": null,
      "outputs": [
        {
          "output_type": "execute_result",
          "data": {
            "text/plain": [
              "white    503\n",
              "grey      61\n",
              "Name: greywage, dtype: int64"
            ]
          },
          "metadata": {},
          "execution_count": 137
        }
      ]
    },
    {
      "cell_type": "code",
      "source": [
        "X_train['head_gender'].value_counts()"
      ],
      "metadata": {
        "id": "9qR0nlQnDGrh",
        "outputId": "a796fc1e-712c-4001-c860-04b9c478b4b6",
        "colab": {
          "base_uri": "https://localhost:8080/"
        }
      },
      "execution_count": null,
      "outputs": [
        {
          "output_type": "execute_result",
          "data": {
            "text/plain": [
              "m    282\n",
              "f    282\n",
              "Name: head_gender, dtype: int64"
            ]
          },
          "metadata": {},
          "execution_count": 138
        }
      ]
    },
    {
      "cell_type": "code",
      "source": [
        "X_train['traffic'].value_counts()"
      ],
      "metadata": {
        "id": "j1O6MqkEC528",
        "outputId": "4cc72d4f-d335-4898-9009-53a4be39f2be",
        "colab": {
          "base_uri": "https://localhost:8080/"
        }
      },
      "execution_count": null,
      "outputs": [
        {
          "output_type": "execute_result",
          "data": {
            "text/plain": [
              "youjs          157\n",
              "empjs          127\n",
              "rabrecNErab    108\n",
              "friends         53\n",
              "referal         47\n",
              "KA              39\n",
              "advert          18\n",
              "recNErab        15\n",
              "Name: traffic, dtype: int64"
            ]
          },
          "metadata": {},
          "execution_count": 139
        }
      ]
    },
    {
      "cell_type": "code",
      "source": [
        "X_train['profession'].value_counts()"
      ],
      "metadata": {
        "id": "w_8BbHOOCzFB",
        "outputId": "b0300abc-03bc-4500-e1cb-ba3ffdfad894",
        "colab": {
          "base_uri": "https://localhost:8080/"
        }
      },
      "execution_count": null,
      "outputs": [
        {
          "output_type": "execute_result",
          "data": {
            "text/plain": [
              "HR                     377\n",
              "IT                      37\n",
              "Sales                   33\n",
              "Marketing               18\n",
              "etc                     15\n",
              "Consult                 14\n",
              "BusinessDevelopment     13\n",
              "manage                  12\n",
              "Commercial               8\n",
              "Finanñe                  8\n",
              "Engineer                 8\n",
              "Accounting               8\n",
              "PR                       5\n",
              "Teaching                 4\n",
              "Law                      4\n",
              "Name: profession, dtype: int64"
            ]
          },
          "metadata": {},
          "execution_count": 140
        }
      ]
    },
    {
      "cell_type": "code",
      "source": [
        "X_train['industry'].value_counts()"
      ],
      "metadata": {
        "id": "Jg59iPpDCrBO",
        "outputId": "7818860e-d65c-4b48-ec78-71737c0c41d3",
        "colab": {
          "base_uri": "https://localhost:8080/"
        }
      },
      "execution_count": null,
      "outputs": [
        {
          "output_type": "execute_result",
          "data": {
            "text/plain": [
              "Retail             139\n",
              "manufacture         74\n",
              "IT                  68\n",
              "Banks               54\n",
              "etc                 50\n",
              "Consult             34\n",
              "State               28\n",
              "Building            21\n",
              "Telecom             20\n",
              "transport           20\n",
              "PowerGeneration     17\n",
              "Pharma              10\n",
              "Agriculture          9\n",
              "RealEstate           8\n",
              "Mining               7\n",
              " HoReCa              5\n",
              "Name: industry, dtype: int64"
            ]
          },
          "metadata": {},
          "execution_count": 141
        }
      ]
    },
    {
      "cell_type": "code",
      "source": [
        "# column to encome\n",
        "categorical_columns = ['gender',\t'industry', 'profession',\t'traffic',\t'head_gender', 'greywage', 'way']\n",
        "\n",
        "# Encode categorical variables on X train data\n",
        "dummies = pd.get_dummies(X_train[categorical_columns], drop_first=True)\n",
        "X_train = pd.concat([X_train.drop(categorical_columns, axis=1), dummies], axis=1)\n",
        "\n",
        "# Encode categorical variables on X test data\n",
        "dummies = pd.get_dummies(X_test[categorical_columns], drop_first=True)\n",
        "X_test = pd.concat([X_test.drop(categorical_columns, axis=1), dummies], axis=1)"
      ],
      "metadata": {
        "id": "XtwdXxLoCohB"
      },
      "execution_count": null,
      "outputs": []
    },
    {
      "cell_type": "markdown",
      "source": [
        "Check stag by experiment group"
      ],
      "metadata": {
        "id": "rVCSnfzSEKFl"
      }
    },
    {
      "cell_type": "code",
      "source": [
        "is_treat = X_train[X_train.coach == \"yes\"]\n",
        "not_treat = X_train[X_train.coach != \"yes\"]"
      ],
      "metadata": {
        "id": "4YYFX5S5EJ2b"
      },
      "execution_count": null,
      "outputs": []
    },
    {
      "cell_type": "code",
      "source": [
        "bins = 25\n",
        "sns.distplot(is_treat.stag, hist=True, kde=True, bins=bins, kde_kws={'linewidth': 4}, label='treatment')\n",
        "sns.distplot(not_treat.stag, hist=True, kde=True, bins=bins, kde_kws={'linewidth': 4}, label='control')\n",
        "plt.legend(frameon=False, loc=0, ncol=1, prop={'size': 20});"
      ],
      "metadata": {
        "colab": {
          "base_uri": "https://localhost:8080/"
        },
        "id": "I-aM1s-KchGu",
        "outputId": "5a4147d2-73c8-42d4-c435-5740fdaae910"
      },
      "execution_count": null,
      "outputs": [
        {
          "output_type": "display_data",
          "data": {
            "text/plain": [
              "<Figure size 1296x648 with 1 Axes>"
            ],
            "image/png": "[encoded data removed]"
          },
          "metadata": {}
        }
      ]
    },
    {
      "cell_type": "markdown",
      "source": [
        "Check extraversion distribution by experiment group"
      ],
      "metadata": {
        "id": "J9jkyuTpGLUL"
      }
    },
    {
      "cell_type": "markdown",
      "source": [
        "# **Uplift-Tree (Uplift Random Forest)**"
      ],
      "metadata": {
        "id": "B2_PJr6ylXG9"
      }
    },
    {
      "cell_type": "markdown",
      "source": [
        "**Modeling**"
      ],
      "metadata": {
        "id": "OcGFW243la1v"
      }
    },
    {
      "cell_type": "code",
      "source": [
        "x_col = X_train.drop(['coach', 'event'], axis = 1).columns.tolist()\n",
        "print(x_col)"
      ],
      "metadata": {
        "colab": {
          "base_uri": "https://localhost:8080/"
        },
        "id": "FPbBsnRylWxe",
        "outputId": "24ec517f-0890-4f6e-b962-3ac7d7ed3c26"
      },
      "execution_count": null,
      "outputs": [
        {
          "output_type": "stream",
          "name": "stdout",
          "text": [
            "['stag', 'age', 'gender_m', 'industry_Agriculture', 'industry_Banks', 'industry_Building', 'industry_Consult', 'industry_IT', 'industry_Mining', 'industry_Pharma', 'industry_PowerGeneration', 'industry_RealEstate', 'industry_Retail', 'industry_State', 'industry_Telecom', 'industry_etc', 'industry_manufacture', 'industry_transport', 'profession_BusinessDevelopment', 'profession_Commercial', 'profession_Consult', 'profession_Engineer', 'profession_Finanñe', 'profession_HR', 'profession_IT', 'profession_Law', 'profession_Marketing', 'profession_PR', 'profession_Sales', 'profession_Teaching', 'profession_etc', 'profession_manage', 'traffic_advert', 'traffic_empjs', 'traffic_friends', 'traffic_rabrecNErab', 'traffic_recNErab', 'traffic_referal', 'traffic_youjs', 'head_gender_m', 'greywage_white', 'way_car', 'way_foot']\n"
          ]
        }
      ]
    },
    {
      "cell_type": "markdown",
      "source": [
        "Define uplift random forest classifier"
      ],
      "metadata": {
        "id": "ZptV9C2_lmZO"
      }
    },
    {
      "cell_type": "code",
      "source": [
        "uplift_model = UpliftRandomForestClassifier(control_name='no', random_state=1000)"
      ],
      "metadata": {
        "id": "OOcFDf1slpwU"
      },
      "execution_count": null,
      "outputs": []
    },
    {
      "cell_type": "markdown",
      "source": [
        "Fit model to data"
      ],
      "metadata": {
        "id": "6iWp-jmYlxzY"
      }
    },
    {
      "cell_type": "code",
      "source": [
        "uplift_model.fit(\n",
        "    X_train[x_col].values,\n",
        "    treatment = X_train['coach'].values,\n",
        "    y = X_train['event'].values\n",
        ")"
      ],
      "metadata": {
        "id": "-aPPGchzl1bQ"
      },
      "execution_count": null,
      "outputs": []
    },
    {
      "cell_type": "markdown",
      "source": [
        "Do prediction with trained model"
      ],
      "metadata": {
        "id": "KEl4PaIkl7mM"
      }
    },
    {
      "cell_type": "code",
      "source": [
        "y_pred = uplift_model.predict(X_test[x_col].values, full_output=True)"
      ],
      "metadata": {
        "id": "kK8gE92Nl9RF"
      },
      "execution_count": null,
      "outputs": []
    },
    {
      "cell_type": "markdown",
      "source": [
        "Check the first 5 rows"
      ],
      "metadata": {
        "id": "7sBpBQ2pmApc"
      }
    },
    {
      "cell_type": "code",
      "source": [
        "y_pred.head()"
      ],
      "metadata": {
        "colab": {
          "base_uri": "https://localhost:8080/"
        },
        "id": "MsOQkxzfmCJR",
        "outputId": "e3cb6db9-336a-40e5-f8d6-8d0d608471d9"
      },
      "execution_count": null,
      "outputs": [
        {
          "output_type": "execute_result",
          "data": {
            "text/plain": [
              "         no       yes  recommended_treatment  delta_yes  max_delta\n",
              "0  0.554651  0.475637                      0  -0.079015  -0.079015\n",
              "1  0.559173  0.488099                      0  -0.071075  -0.071075\n",
              "2  0.539457  0.507804                      0  -0.031653  -0.031653\n",
              "3  0.515015  0.585603                      1   0.070588   0.070588\n",
              "4  0.540795  0.575348                      1   0.034553   0.034553"
            ],
            "text/html": [
              "\n",
              "  <div id=\"df-1fca4f8e-be37-4d2c-83f0-4bd7592d25ef\">\n",
              "    <div class=\"colab-df-container\">\n",
              "      <div>\n",
              "<style scoped>\n",
              "    .dataframe tbody tr th:only-of-type {\n",
              "        vertical-align: middle;\n",
              "    }\n",
              "\n",
              "    .dataframe tbody tr th {\n",
              "        vertical-align: top;\n",
              "    }\n",
              "\n",
              "    .dataframe thead th {\n",
              "        text-align: right;\n",
              "    }\n",
              "</style>\n",
              "<table border=\"1\" class=\"dataframe\">\n",
              "  <thead>\n",
              "    <tr style=\"text-align: right;\">\n",
              "      <th></th>\n",
              "      <th>no</th>\n",
              "      <th>yes</th>\n",
              "      <th>recommended_treatment</th>\n",
              "      <th>delta_yes</th>\n",
              "      <th>max_delta</th>\n",
              "    </tr>\n",
              "  </thead>\n",
              "  <tbody>\n",
              "    <tr>\n",
              "      <th>0</th>\n",
              "      <td>0.554651</td>\n",
              "      <td>0.475637</td>\n",
              "      <td>0</td>\n",
              "      <td>-0.079015</td>\n",
              "      <td>-0.079015</td>\n",
              "    </tr>\n",
              "    <tr>\n",
              "      <th>1</th>\n",
              "      <td>0.559173</td>\n",
              "      <td>0.488099</td>\n",
              "      <td>0</td>\n",
              "      <td>-0.071075</td>\n",
              "      <td>-0.071075</td>\n",
              "    </tr>\n",
              "    <tr>\n",
              "      <th>2</th>\n",
              "      <td>0.539457</td>\n",
              "      <td>0.507804</td>\n",
              "      <td>0</td>\n",
              "      <td>-0.031653</td>\n",
              "      <td>-0.031653</td>\n",
              "    </tr>\n",
              "    <tr>\n",
              "      <th>3</th>\n",
              "      <td>0.515015</td>\n",
              "      <td>0.585603</td>\n",
              "      <td>1</td>\n",
              "      <td>0.070588</td>\n",
              "      <td>0.070588</td>\n",
              "    </tr>\n",
              "    <tr>\n",
              "      <th>4</th>\n",
              "      <td>0.540795</td>\n",
              "      <td>0.575348</td>\n",
              "      <td>1</td>\n",
              "      <td>0.034553</td>\n",
              "      <td>0.034553</td>\n",
              "    </tr>\n",
              "  </tbody>\n",
              "</table>\n",
              "</div>\n",
              "      <button class=\"colab-df-convert\" onclick=\"convertToInteractive('df-1fca4f8e-be37-4d2c-83f0-4bd7592d25ef')\"\n",
              "              title=\"Convert this dataframe to an interactive table.\"\n",
              "              style=\"display:none;\">\n",
              "        \n",
              "  <svg xmlns=\"http://www.w3.org/2000/svg\" height=\"24px\"viewBox=\"0 0 24 24\"\n",
              "       width=\"24px\">\n",
              "    <path d=\"M0 0h24v24H0V0z\" fill=\"none\"/>\n",
              "    <path d=\"M18.56 5.44l.94 2.06.94-2.06 2.06-.94-2.06-.94-.94-2.06-.94 2.06-2.06.94zm-11 1L8.5 8.5l.94-2.06 2.06-.94-2.06-.94L8.5 2.5l-.94 2.06-2.06.94zm10 10l.94 2.06.94-2.06 2.06-.94-2.06-.94-.94-2.06-.94 2.06-2.06.94z\"/><path d=\"M17.41 7.96l-1.37-1.37c-.4-.4-.92-.59-1.43-.59-.52 0-1.04.2-1.43.59L10.3 9.45l-7.72 7.72c-.78.78-.78 2.05 0 2.83L4 21.41c.39.39.9.59 1.41.59.51 0 1.02-.2 1.41-.59l7.78-7.78 2.81-2.81c.8-.78.8-2.07 0-2.86zM5.41 20L4 18.59l7.72-7.72 1.47 1.35L5.41 20z\"/>\n",
              "  </svg>\n",
              "      </button>\n",
              "      \n",
              "  <style>\n",
              "    .colab-df-container {\n",
              "      display:flex;\n",
              "      flex-wrap:wrap;\n",
              "      gap: 12px;\n",
              "    }\n",
              "\n",
              "    .colab-df-convert {\n",
              "      background-color: #E8F0FE;\n",
              "      border: none;\n",
              "      border-radius: 50%;\n",
              "      cursor: pointer;\n",
              "      display: none;\n",
              "      fill: #1967D2;\n",
              "      height: 32px;\n",
              "      padding: 0 0 0 0;\n",
              "      width: 32px;\n",
              "    }\n",
              "\n",
              "    .colab-df-convert:hover {\n",
              "      background-color: #E2EBFA;\n",
              "      box-shadow: 0px 1px 2px rgba(60, 64, 67, 0.3), 0px 1px 3px 1px rgba(60, 64, 67, 0.15);\n",
              "      fill: #174EA6;\n",
              "    }\n",
              "\n",
              "    [theme=dark] .colab-df-convert {\n",
              "      background-color: #3B4455;\n",
              "      fill: #D2E3FC;\n",
              "    }\n",
              "\n",
              "    [theme=dark] .colab-df-convert:hover {\n",
              "      background-color: #434B5C;\n",
              "      box-shadow: 0px 1px 3px 1px rgba(0, 0, 0, 0.15);\n",
              "      filter: drop-shadow(0px 1px 2px rgba(0, 0, 0, 0.3));\n",
              "      fill: #FFFFFF;\n",
              "    }\n",
              "  </style>\n",
              "\n",
              "      <script>\n",
              "        const buttonEl =\n",
              "          document.querySelector('#df-1fca4f8e-be37-4d2c-83f0-4bd7592d25ef button.colab-df-convert');\n",
              "        buttonEl.style.display =\n",
              "          google.colab.kernel.accessAllowed ? 'block' : 'none';\n",
              "\n",
              "        async function convertToInteractive(key) {\n",
              "          const element = document.querySelector('#df-1fca4f8e-be37-4d2c-83f0-4bd7592d25ef');\n",
              "          const dataTable =\n",
              "            await google.colab.kernel.invokeFunction('convertToInteractive',\n",
              "                                                     [key], {});\n",
              "          if (!dataTable) return;\n",
              "\n",
              "          const docLinkHtml = 'Like what you see? Visit the ' +\n",
              "            '<a target=\"_blank\" href=https://colab.research.google.com/notebooks/data_table.ipynb>data table notebook</a>'\n",
              "            + ' to learn more about interactive tables.';\n",
              "          element.innerHTML = '';\n",
              "          dataTable['output_type'] = 'display_data';\n",
              "          await google.colab.output.renderOutput(dataTable, element);\n",
              "          const docLink = document.createElement('div');\n",
              "          docLink.innerHTML = docLinkHtml;\n",
              "          element.appendChild(docLink);\n",
              "        }\n",
              "      </script>\n",
              "    </div>\n",
              "  </div>\n",
              "  "
            ]
          },
          "metadata": {},
          "execution_count": 149
        }
      ]
    },
    {
      "cell_type": "markdown",
      "source": [
        "Check uplift distribution"
      ],
      "metadata": {
        "id": "lmYg_ZktmKH5"
      }
    },
    {
      "cell_type": "code",
      "source": [
        "sns.displot(data = y_pred, x = \"delta_yes\")\n",
        "plt.vlines([0], 0, 200, linestyles = \"dashed\", colors = \"red\")\n",
        "plt.xlabel('Uplift score')\n",
        "plt.ylabel('Number of observations in validation set');"
      ],
      "metadata": {
        "colab": {
          "base_uri": "https://localhost:8080/"
        },
        "id": "ru_MOLfYmL0I",
        "outputId": "ad538804-bcd9-48d0-eb14-0ad77f40745a"
      },
      "execution_count": null,
      "outputs": [
        {
          "output_type": "display_data",
          "data": {
            "text/plain": [
              "<Figure size 360x360 with 1 Axes>"
            ],
            "image/png": "[encoded data removed]"
          },
          "metadata": {}
        }
      ]
    },
    {
      "cell_type": "markdown",
      "source": [
        "Again, create prediction with full_output = False"
      ],
      "metadata": {
        "id": "Cm18yqcxms4r"
      }
    },
    {
      "cell_type": "code",
      "source": [
        "y_pred = uplift_model.predict(X_test[x_col].values, full_output=False)"
      ],
      "metadata": {
        "id": "RhY-orcmmvF3"
      },
      "execution_count": null,
      "outputs": []
    },
    {
      "cell_type": "markdown",
      "source": [
        "Save our uplift prediction to result variable"
      ],
      "metadata": {
        "id": "B0ifAGkqmyaI"
      }
    },
    {
      "cell_type": "code",
      "source": [
        "result = pd.DataFrame(y_pred, columns=[uplift_model.classes_[1]])"
      ],
      "metadata": {
        "id": "kBIKMlhQmz8R"
      },
      "execution_count": null,
      "outputs": []
    },
    {
      "cell_type": "code",
      "source": [
        "result.head()"
      ],
      "metadata": {
        "colab": {
          "base_uri": "https://localhost:8080/"
        },
        "id": "awnN0gFGm2RG",
        "outputId": "6608cebd-b02a-4187-8198-8e991c970759"
      },
      "execution_count": null,
      "outputs": [
        {
          "output_type": "execute_result",
          "data": {
            "text/plain": [
              "        yes\n",
              "0 -0.079015\n",
              "1 -0.071075\n",
              "2 -0.031653\n",
              "3  0.070588\n",
              "4  0.034553"
            ],
            "text/html": [
              "\n",
              "  <div id=\"df-4f2fea28-45c1-48f2-a0fe-0d5ba298202b\">\n",
              "    <div class=\"colab-df-container\">\n",
              "      <div>\n",
              "<style scoped>\n",
              "    .dataframe tbody tr th:only-of-type {\n",
              "        vertical-align: middle;\n",
              "    }\n",
              "\n",
              "    .dataframe tbody tr th {\n",
              "        vertical-align: top;\n",
              "    }\n",
              "\n",
              "    .dataframe thead th {\n",
              "        text-align: right;\n",
              "    }\n",
              "</style>\n",
              "<table border=\"1\" class=\"dataframe\">\n",
              "  <thead>\n",
              "    <tr style=\"text-align: right;\">\n",
              "      <th></th>\n",
              "      <th>yes</th>\n",
              "    </tr>\n",
              "  </thead>\n",
              "  <tbody>\n",
              "    <tr>\n",
              "      <th>0</th>\n",
              "      <td>-0.079015</td>\n",
              "    </tr>\n",
              "    <tr>\n",
              "      <th>1</th>\n",
              "      <td>-0.071075</td>\n",
              "    </tr>\n",
              "    <tr>\n",
              "      <th>2</th>\n",
              "      <td>-0.031653</td>\n",
              "    </tr>\n",
              "    <tr>\n",
              "      <th>3</th>\n",
              "      <td>0.070588</td>\n",
              "    </tr>\n",
              "    <tr>\n",
              "      <th>4</th>\n",
              "      <td>0.034553</td>\n",
              "    </tr>\n",
              "  </tbody>\n",
              "</table>\n",
              "</div>\n",
              "      <button class=\"colab-df-convert\" onclick=\"convertToInteractive('df-4f2fea28-45c1-48f2-a0fe-0d5ba298202b')\"\n",
              "              title=\"Convert this dataframe to an interactive table.\"\n",
              "              style=\"display:none;\">\n",
              "        \n",
              "  <svg xmlns=\"http://www.w3.org/2000/svg\" height=\"24px\"viewBox=\"0 0 24 24\"\n",
              "       width=\"24px\">\n",
              "    <path d=\"M0 0h24v24H0V0z\" fill=\"none\"/>\n",
              "    <path d=\"M18.56 5.44l.94 2.06.94-2.06 2.06-.94-2.06-.94-.94-2.06-.94 2.06-2.06.94zm-11 1L8.5 8.5l.94-2.06 2.06-.94-2.06-.94L8.5 2.5l-.94 2.06-2.06.94zm10 10l.94 2.06.94-2.06 2.06-.94-2.06-.94-.94-2.06-.94 2.06-2.06.94z\"/><path d=\"M17.41 7.96l-1.37-1.37c-.4-.4-.92-.59-1.43-.59-.52 0-1.04.2-1.43.59L10.3 9.45l-7.72 7.72c-.78.78-.78 2.05 0 2.83L4 21.41c.39.39.9.59 1.41.59.51 0 1.02-.2 1.41-.59l7.78-7.78 2.81-2.81c.8-.78.8-2.07 0-2.86zM5.41 20L4 18.59l7.72-7.72 1.47 1.35L5.41 20z\"/>\n",
              "  </svg>\n",
              "      </button>\n",
              "      \n",
              "  <style>\n",
              "    .colab-df-container {\n",
              "      display:flex;\n",
              "      flex-wrap:wrap;\n",
              "      gap: 12px;\n",
              "    }\n",
              "\n",
              "    .colab-df-convert {\n",
              "      background-color: #E8F0FE;\n",
              "      border: none;\n",
              "      border-radius: 50%;\n",
              "      cursor: pointer;\n",
              "      display: none;\n",
              "      fill: #1967D2;\n",
              "      height: 32px;\n",
              "      padding: 0 0 0 0;\n",
              "      width: 32px;\n",
              "    }\n",
              "\n",
              "    .colab-df-convert:hover {\n",
              "      background-color: #E2EBFA;\n",
              "      box-shadow: 0px 1px 2px rgba(60, 64, 67, 0.3), 0px 1px 3px 1px rgba(60, 64, 67, 0.15);\n",
              "      fill: #174EA6;\n",
              "    }\n",
              "\n",
              "    [theme=dark] .colab-df-convert {\n",
              "      background-color: #3B4455;\n",
              "      fill: #D2E3FC;\n",
              "    }\n",
              "\n",
              "    [theme=dark] .colab-df-convert:hover {\n",
              "      background-color: #434B5C;\n",
              "      box-shadow: 0px 1px 3px 1px rgba(0, 0, 0, 0.15);\n",
              "      filter: drop-shadow(0px 1px 2px rgba(0, 0, 0, 0.3));\n",
              "      fill: #FFFFFF;\n",
              "    }\n",
              "  </style>\n",
              "\n",
              "      <script>\n",
              "        const buttonEl =\n",
              "          document.querySelector('#df-4f2fea28-45c1-48f2-a0fe-0d5ba298202b button.colab-df-convert');\n",
              "        buttonEl.style.display =\n",
              "          google.colab.kernel.accessAllowed ? 'block' : 'none';\n",
              "\n",
              "        async function convertToInteractive(key) {\n",
              "          const element = document.querySelector('#df-4f2fea28-45c1-48f2-a0fe-0d5ba298202b');\n",
              "          const dataTable =\n",
              "            await google.colab.kernel.invokeFunction('convertToInteractive',\n",
              "                                                     [key], {});\n",
              "          if (!dataTable) return;\n",
              "\n",
              "          const docLinkHtml = 'Like what you see? Visit the ' +\n",
              "            '<a target=\"_blank\" href=https://colab.research.google.com/notebooks/data_table.ipynb>data table notebook</a>'\n",
              "            + ' to learn more about interactive tables.';\n",
              "          element.innerHTML = '';\n",
              "          dataTable['output_type'] = 'display_data';\n",
              "          await google.colab.output.renderOutput(dataTable, element);\n",
              "          const docLink = document.createElement('div');\n",
              "          docLink.innerHTML = docLinkHtml;\n",
              "          element.appendChild(docLink);\n",
              "        }\n",
              "      </script>\n",
              "    </div>\n",
              "  </div>\n",
              "  "
            ]
          },
          "metadata": {},
          "execution_count": 153
        }
      ]
    },
    {
      "cell_type": "code",
      "source": [
        "# If all deltas are negative, assing to control; otherwise assign to the treatment\n",
        "# with the highest delta\n",
        "best_treatment = np.where(\n",
        "    (result < 0).all(axis=1),\n",
        "    'no',\n",
        "    result.idxmax(axis=1)\n",
        ")\n",
        "\n",
        "# Create indicator variables for whether a unit happened to have the\n",
        "# recommended treatment or was in the control group\n",
        "actual_is_best = np.where(X_test['coach'] == best_treatment, 1, 0)\n",
        "actual_is_control = np.where(X_test['coach'] == 'no', 1, 0)"
      ],
      "metadata": {
        "id": "3Qr9QsOOnACE"
      },
      "execution_count": null,
      "outputs": []
    },
    {
      "cell_type": "code",
      "source": [
        "synthetic = (actual_is_best == 1) | (actual_is_control == 1)"
      ],
      "metadata": {
        "id": "Qpq8qoy8nLOS"
      },
      "execution_count": null,
      "outputs": []
    },
    {
      "cell_type": "code",
      "source": [
        "np.unique(synthetic, return_counts = True)"
      ],
      "metadata": {
        "colab": {
          "base_uri": "https://localhost:8080/"
        },
        "id": "avl3vQM0nNMO",
        "outputId": "2c1ceb98-b2cd-4367-8d39-f2dd074e3501"
      },
      "execution_count": null,
      "outputs": [
        {
          "output_type": "execute_result",
          "data": {
            "text/plain": [
              "(array([False,  True]), array([118, 447]))"
            ]
          },
          "metadata": {},
          "execution_count": 156
        }
      ]
    },
    {
      "cell_type": "markdown",
      "source": [
        "Exclude user where synthetic = False"
      ],
      "metadata": {
        "id": "E52moTSUnRBo"
      }
    },
    {
      "cell_type": "code",
      "source": [
        "synth = result[synthetic]"
      ],
      "metadata": {
        "id": "vwW9bXsAnTut"
      },
      "execution_count": null,
      "outputs": []
    },
    {
      "cell_type": "markdown",
      "source": [
        "Calculate number of user who visit treated or not treated"
      ],
      "metadata": {
        "id": "vjuDRQiUnXF_"
      }
    },
    {
      "cell_type": "code",
      "source": [
        "auuc_metrics = (synth.assign(\n",
        "    is_treated = 1 - actual_is_control[synthetic],\n",
        "    event = X_test.loc[synthetic, 'event'].values,\n",
        "    uplift_tree = synth.max(axis=1)\n",
        ").drop(columns=list(['yes'])))"
      ],
      "metadata": {
        "id": "z5deSnTonYkV"
      },
      "execution_count": null,
      "outputs": []
    },
    {
      "cell_type": "markdown",
      "source": [
        "Check the first 5 row"
      ],
      "metadata": {
        "id": "Ft38S9iZndoQ"
      }
    },
    {
      "cell_type": "code",
      "source": [
        "auuc_metrics.head()"
      ],
      "metadata": {
        "colab": {
          "base_uri": "https://localhost:8080/"
        },
        "id": "CXe61N3qndZq",
        "outputId": "db3d550d-94b2-42ee-95bf-2ffa03f4e227"
      },
      "execution_count": null,
      "outputs": [
        {
          "output_type": "execute_result",
          "data": {
            "text/plain": [
              "   is_treated  event  uplift_tree\n",
              "0           0      0    -0.079015\n",
              "1           0      0    -0.071075\n",
              "2           0      1    -0.031653\n",
              "3           0      0     0.070588\n",
              "4           1      0     0.034553"
            ],
            "text/html": [
              "\n",
              "  <div id=\"df-e9f1c53e-3197-47d4-b751-942ac25bbeeb\">\n",
              "    <div class=\"colab-df-container\">\n",
              "      <div>\n",
              "<style scoped>\n",
              "    .dataframe tbody tr th:only-of-type {\n",
              "        vertical-align: middle;\n",
              "    }\n",
              "\n",
              "    .dataframe tbody tr th {\n",
              "        vertical-align: top;\n",
              "    }\n",
              "\n",
              "    .dataframe thead th {\n",
              "        text-align: right;\n",
              "    }\n",
              "</style>\n",
              "<table border=\"1\" class=\"dataframe\">\n",
              "  <thead>\n",
              "    <tr style=\"text-align: right;\">\n",
              "      <th></th>\n",
              "      <th>is_treated</th>\n",
              "      <th>event</th>\n",
              "      <th>uplift_tree</th>\n",
              "    </tr>\n",
              "  </thead>\n",
              "  <tbody>\n",
              "    <tr>\n",
              "      <th>0</th>\n",
              "      <td>0</td>\n",
              "      <td>0</td>\n",
              "      <td>-0.079015</td>\n",
              "    </tr>\n",
              "    <tr>\n",
              "      <th>1</th>\n",
              "      <td>0</td>\n",
              "      <td>0</td>\n",
              "      <td>-0.071075</td>\n",
              "    </tr>\n",
              "    <tr>\n",
              "      <th>2</th>\n",
              "      <td>0</td>\n",
              "      <td>1</td>\n",
              "      <td>-0.031653</td>\n",
              "    </tr>\n",
              "    <tr>\n",
              "      <th>3</th>\n",
              "      <td>0</td>\n",
              "      <td>0</td>\n",
              "      <td>0.070588</td>\n",
              "    </tr>\n",
              "    <tr>\n",
              "      <th>4</th>\n",
              "      <td>1</td>\n",
              "      <td>0</td>\n",
              "      <td>0.034553</td>\n",
              "    </tr>\n",
              "  </tbody>\n",
              "</table>\n",
              "</div>\n",
              "      <button class=\"colab-df-convert\" onclick=\"convertToInteractive('df-e9f1c53e-3197-47d4-b751-942ac25bbeeb')\"\n",
              "              title=\"Convert this dataframe to an interactive table.\"\n",
              "              style=\"display:none;\">\n",
              "        \n",
              "  <svg xmlns=\"http://www.w3.org/2000/svg\" height=\"24px\"viewBox=\"0 0 24 24\"\n",
              "       width=\"24px\">\n",
              "    <path d=\"M0 0h24v24H0V0z\" fill=\"none\"/>\n",
              "    <path d=\"M18.56 5.44l.94 2.06.94-2.06 2.06-.94-2.06-.94-.94-2.06-.94 2.06-2.06.94zm-11 1L8.5 8.5l.94-2.06 2.06-.94-2.06-.94L8.5 2.5l-.94 2.06-2.06.94zm10 10l.94 2.06.94-2.06 2.06-.94-2.06-.94-.94-2.06-.94 2.06-2.06.94z\"/><path d=\"M17.41 7.96l-1.37-1.37c-.4-.4-.92-.59-1.43-.59-.52 0-1.04.2-1.43.59L10.3 9.45l-7.72 7.72c-.78.78-.78 2.05 0 2.83L4 21.41c.39.39.9.59 1.41.59.51 0 1.02-.2 1.41-.59l7.78-7.78 2.81-2.81c.8-.78.8-2.07 0-2.86zM5.41 20L4 18.59l7.72-7.72 1.47 1.35L5.41 20z\"/>\n",
              "  </svg>\n",
              "      </button>\n",
              "      \n",
              "  <style>\n",
              "    .colab-df-container {\n",
              "      display:flex;\n",
              "      flex-wrap:wrap;\n",
              "      gap: 12px;\n",
              "    }\n",
              "\n",
              "    .colab-df-convert {\n",
              "      background-color: #E8F0FE;\n",
              "      border: none;\n",
              "      border-radius: 50%;\n",
              "      cursor: pointer;\n",
              "      display: none;\n",
              "      fill: #1967D2;\n",
              "      height: 32px;\n",
              "      padding: 0 0 0 0;\n",
              "      width: 32px;\n",
              "    }\n",
              "\n",
              "    .colab-df-convert:hover {\n",
              "      background-color: #E2EBFA;\n",
              "      box-shadow: 0px 1px 2px rgba(60, 64, 67, 0.3), 0px 1px 3px 1px rgba(60, 64, 67, 0.15);\n",
              "      fill: #174EA6;\n",
              "    }\n",
              "\n",
              "    [theme=dark] .colab-df-convert {\n",
              "      background-color: #3B4455;\n",
              "      fill: #D2E3FC;\n",
              "    }\n",
              "\n",
              "    [theme=dark] .colab-df-convert:hover {\n",
              "      background-color: #434B5C;\n",
              "      box-shadow: 0px 1px 3px 1px rgba(0, 0, 0, 0.15);\n",
              "      filter: drop-shadow(0px 1px 2px rgba(0, 0, 0, 0.3));\n",
              "      fill: #FFFFFF;\n",
              "    }\n",
              "  </style>\n",
              "\n",
              "      <script>\n",
              "        const buttonEl =\n",
              "          document.querySelector('#df-e9f1c53e-3197-47d4-b751-942ac25bbeeb button.colab-df-convert');\n",
              "        buttonEl.style.display =\n",
              "          google.colab.kernel.accessAllowed ? 'block' : 'none';\n",
              "\n",
              "        async function convertToInteractive(key) {\n",
              "          const element = document.querySelector('#df-e9f1c53e-3197-47d4-b751-942ac25bbeeb');\n",
              "          const dataTable =\n",
              "            await google.colab.kernel.invokeFunction('convertToInteractive',\n",
              "                                                     [key], {});\n",
              "          if (!dataTable) return;\n",
              "\n",
              "          const docLinkHtml = 'Like what you see? Visit the ' +\n",
              "            '<a target=\"_blank\" href=https://colab.research.google.com/notebooks/data_table.ipynb>data table notebook</a>'\n",
              "            + ' to learn more about interactive tables.';\n",
              "          element.innerHTML = '';\n",
              "          dataTable['output_type'] = 'display_data';\n",
              "          await google.colab.output.renderOutput(dataTable, element);\n",
              "          const docLink = document.createElement('div');\n",
              "          docLink.innerHTML = docLinkHtml;\n",
              "          element.appendChild(docLink);\n",
              "        }\n",
              "      </script>\n",
              "    </div>\n",
              "  </div>\n",
              "  "
            ]
          },
          "metadata": {},
          "execution_count": 159
        }
      ]
    },
    {
      "cell_type": "markdown",
      "source": [
        "Calculate treated group based who visit our platform, treated or not"
      ],
      "metadata": {
        "id": "LvNtBo_-nnPi"
      }
    },
    {
      "cell_type": "code",
      "source": [
        "auuc_metrics"
      ],
      "metadata": {
        "colab": {
          "base_uri": "https://localhost:8080/"
        },
        "id": "KBO3rnjtno8w",
        "outputId": "5012b554-4283-4f08-8238-591b23eaf85f"
      },
      "execution_count": null,
      "outputs": [
        {
          "output_type": "execute_result",
          "data": {
            "text/plain": [
              "     is_treated  event  uplift_tree\n",
              "0             0      0    -0.079015\n",
              "1             0      0    -0.071075\n",
              "2             0      1    -0.031653\n",
              "3             0      0     0.070588\n",
              "4             1      0     0.034553\n",
              "..          ...    ...          ...\n",
              "560           0      0     0.057228\n",
              "561           0      0    -0.039095\n",
              "562           1      1     0.070750\n",
              "563           1      1     0.021018\n",
              "564           0      1     0.100931\n",
              "\n",
              "[447 rows x 3 columns]"
            ],
            "text/html": [
              "\n",
              "  <div id=\"df-f90ed715-af48-44ad-8d03-abba86a2a3e6\">\n",
              "    <div class=\"colab-df-container\">\n",
              "      <div>\n",
              "<style scoped>\n",
              "    .dataframe tbody tr th:only-of-type {\n",
              "        vertical-align: middle;\n",
              "    }\n",
              "\n",
              "    .dataframe tbody tr th {\n",
              "        vertical-align: top;\n",
              "    }\n",
              "\n",
              "    .dataframe thead th {\n",
              "        text-align: right;\n",
              "    }\n",
              "</style>\n",
              "<table border=\"1\" class=\"dataframe\">\n",
              "  <thead>\n",
              "    <tr style=\"text-align: right;\">\n",
              "      <th></th>\n",
              "      <th>is_treated</th>\n",
              "      <th>event</th>\n",
              "      <th>uplift_tree</th>\n",
              "    </tr>\n",
              "  </thead>\n",
              "  <tbody>\n",
              "    <tr>\n",
              "      <th>0</th>\n",
              "      <td>0</td>\n",
              "      <td>0</td>\n",
              "      <td>-0.079015</td>\n",
              "    </tr>\n",
              "    <tr>\n",
              "      <th>1</th>\n",
              "      <td>0</td>\n",
              "      <td>0</td>\n",
              "      <td>-0.071075</td>\n",
              "    </tr>\n",
              "    <tr>\n",
              "      <th>2</th>\n",
              "      <td>0</td>\n",
              "      <td>1</td>\n",
              "      <td>-0.031653</td>\n",
              "    </tr>\n",
              "    <tr>\n",
              "      <th>3</th>\n",
              "      <td>0</td>\n",
              "      <td>0</td>\n",
              "      <td>0.070588</td>\n",
              "    </tr>\n",
              "    <tr>\n",
              "      <th>4</th>\n",
              "      <td>1</td>\n",
              "      <td>0</td>\n",
              "      <td>0.034553</td>\n",
              "    </tr>\n",
              "    <tr>\n",
              "      <th>...</th>\n",
              "      <td>...</td>\n",
              "      <td>...</td>\n",
              "      <td>...</td>\n",
              "    </tr>\n",
              "    <tr>\n",
              "      <th>560</th>\n",
              "      <td>0</td>\n",
              "      <td>0</td>\n",
              "      <td>0.057228</td>\n",
              "    </tr>\n",
              "    <tr>\n",
              "      <th>561</th>\n",
              "      <td>0</td>\n",
              "      <td>0</td>\n",
              "      <td>-0.039095</td>\n",
              "    </tr>\n",
              "    <tr>\n",
              "      <th>562</th>\n",
              "      <td>1</td>\n",
              "      <td>1</td>\n",
              "      <td>0.070750</td>\n",
              "    </tr>\n",
              "    <tr>\n",
              "      <th>563</th>\n",
              "      <td>1</td>\n",
              "      <td>1</td>\n",
              "      <td>0.021018</td>\n",
              "    </tr>\n",
              "    <tr>\n",
              "      <th>564</th>\n",
              "      <td>0</td>\n",
              "      <td>1</td>\n",
              "      <td>0.100931</td>\n",
              "    </tr>\n",
              "  </tbody>\n",
              "</table>\n",
              "<p>447 rows × 3 columns</p>\n",
              "</div>\n",
              "      <button class=\"colab-df-convert\" onclick=\"convertToInteractive('df-f90ed715-af48-44ad-8d03-abba86a2a3e6')\"\n",
              "              title=\"Convert this dataframe to an interactive table.\"\n",
              "              style=\"display:none;\">\n",
              "        \n",
              "  <svg xmlns=\"http://www.w3.org/2000/svg\" height=\"24px\"viewBox=\"0 0 24 24\"\n",
              "       width=\"24px\">\n",
              "    <path d=\"M0 0h24v24H0V0z\" fill=\"none\"/>\n",
              "    <path d=\"M18.56 5.44l.94 2.06.94-2.06 2.06-.94-2.06-.94-.94-2.06-.94 2.06-2.06.94zm-11 1L8.5 8.5l.94-2.06 2.06-.94-2.06-.94L8.5 2.5l-.94 2.06-2.06.94zm10 10l.94 2.06.94-2.06 2.06-.94-2.06-.94-.94-2.06-.94 2.06-2.06.94z\"/><path d=\"M17.41 7.96l-1.37-1.37c-.4-.4-.92-.59-1.43-.59-.52 0-1.04.2-1.43.59L10.3 9.45l-7.72 7.72c-.78.78-.78 2.05 0 2.83L4 21.41c.39.39.9.59 1.41.59.51 0 1.02-.2 1.41-.59l7.78-7.78 2.81-2.81c.8-.78.8-2.07 0-2.86zM5.41 20L4 18.59l7.72-7.72 1.47 1.35L5.41 20z\"/>\n",
              "  </svg>\n",
              "      </button>\n",
              "      \n",
              "  <style>\n",
              "    .colab-df-container {\n",
              "      display:flex;\n",
              "      flex-wrap:wrap;\n",
              "      gap: 12px;\n",
              "    }\n",
              "\n",
              "    .colab-df-convert {\n",
              "      background-color: #E8F0FE;\n",
              "      border: none;\n",
              "      border-radius: 50%;\n",
              "      cursor: pointer;\n",
              "      display: none;\n",
              "      fill: #1967D2;\n",
              "      height: 32px;\n",
              "      padding: 0 0 0 0;\n",
              "      width: 32px;\n",
              "    }\n",
              "\n",
              "    .colab-df-convert:hover {\n",
              "      background-color: #E2EBFA;\n",
              "      box-shadow: 0px 1px 2px rgba(60, 64, 67, 0.3), 0px 1px 3px 1px rgba(60, 64, 67, 0.15);\n",
              "      fill: #174EA6;\n",
              "    }\n",
              "\n",
              "    [theme=dark] .colab-df-convert {\n",
              "      background-color: #3B4455;\n",
              "      fill: #D2E3FC;\n",
              "    }\n",
              "\n",
              "    [theme=dark] .colab-df-convert:hover {\n",
              "      background-color: #434B5C;\n",
              "      box-shadow: 0px 1px 3px 1px rgba(0, 0, 0, 0.15);\n",
              "      filter: drop-shadow(0px 1px 2px rgba(0, 0, 0, 0.3));\n",
              "      fill: #FFFFFF;\n",
              "    }\n",
              "  </style>\n",
              "\n",
              "      <script>\n",
              "        const buttonEl =\n",
              "          document.querySelector('#df-f90ed715-af48-44ad-8d03-abba86a2a3e6 button.colab-df-convert');\n",
              "        buttonEl.style.display =\n",
              "          google.colab.kernel.accessAllowed ? 'block' : 'none';\n",
              "\n",
              "        async function convertToInteractive(key) {\n",
              "          const element = document.querySelector('#df-f90ed715-af48-44ad-8d03-abba86a2a3e6');\n",
              "          const dataTable =\n",
              "            await google.colab.kernel.invokeFunction('convertToInteractive',\n",
              "                                                     [key], {});\n",
              "          if (!dataTable) return;\n",
              "\n",
              "          const docLinkHtml = 'Like what you see? Visit the ' +\n",
              "            '<a target=\"_blank\" href=https://colab.research.google.com/notebooks/data_table.ipynb>data table notebook</a>'\n",
              "            + ' to learn more about interactive tables.';\n",
              "          element.innerHTML = '';\n",
              "          dataTable['output_type'] = 'display_data';\n",
              "          await google.colab.output.renderOutput(dataTable, element);\n",
              "          const docLink = document.createElement('div');\n",
              "          docLink.innerHTML = docLinkHtml;\n",
              "          element.appendChild(docLink);\n",
              "        }\n",
              "      </script>\n",
              "    </div>\n",
              "  </div>\n",
              "  "
            ]
          },
          "metadata": {},
          "execution_count": 160
        }
      ]
    },
    {
      "cell_type": "markdown",
      "source": [
        "# **Model Evaluation**"
      ],
      "metadata": {
        "id": "gpGWPYVdntDv"
      }
    },
    {
      "cell_type": "markdown",
      "source": [
        "Cumulative Gain Plot"
      ],
      "metadata": {
        "id": "KZtucLoRnwIl"
      }
    },
    {
      "cell_type": "code",
      "source": [
        "metrics.plot_gain(auuc_metrics, outcome_col='event', treatment_col='is_treated')"
      ],
      "metadata": {
        "colab": {
          "base_uri": "https://localhost:8080/"
        },
        "id": "GZwevMVgnyem",
        "outputId": "c3bdf434-73e6-4cc0-b736-fa6c3cca44bc"
      },
      "execution_count": null,
      "outputs": [
        {
          "output_type": "display_data",
          "data": {
            "text/plain": [
              "<Figure size 576x576 with 1 Axes>"
            ],
            "image/png": "[encoded data removed]"
          },
          "metadata": {}
        }
      ]
    },
    {
      "cell_type": "markdown",
      "source": [
        "AUUC and Qini Score"
      ],
      "metadata": {
        "id": "3EWgNLFfn-EO"
      }
    },
    {
      "cell_type": "code",
      "source": [
        "metrics.auuc_score(auuc_metrics, outcome_col='event', treatment_col='is_treated')"
      ],
      "metadata": {
        "colab": {
          "base_uri": "https://localhost:8080/"
        },
        "id": "gSTlyxXqn7xO",
        "outputId": "d4a2509c-f3bc-4b83-d0c8-c74a542f1846"
      },
      "execution_count": null,
      "outputs": [
        {
          "output_type": "execute_result",
          "data": {
            "text/plain": [
              "uplift_tree   -0.367614\n",
              "Random        -0.683531\n",
              "dtype: float64"
            ]
          },
          "metadata": {},
          "execution_count": 162
        }
      ]
    },
    {
      "cell_type": "code",
      "source": [
        "metrics.qini_score(auuc_metrics, outcome_col='event', treatment_col='is_treated')"
      ],
      "metadata": {
        "colab": {
          "base_uri": "https://localhost:8080/"
        },
        "id": "hFHEHhovoGRD",
        "outputId": "f83e7d45-e95b-4767-a4f3-898974e46b46"
      },
      "execution_count": null,
      "outputs": [
        {
          "output_type": "execute_result",
          "data": {
            "text/plain": [
              "uplift_tree    0.289331\n",
              "Random         0.000000\n",
              "dtype: float64"
            ]
          },
          "metadata": {},
          "execution_count": 163
        }
      ]
    },
    {
      "cell_type": "markdown",
      "source": [
        "# Quantile Metrics"
      ],
      "metadata": {
        "id": "tq5YYaYOoNS5"
      }
    },
    {
      "cell_type": "markdown",
      "source": [
        "If the model is working well, we should see a larger positive difference in the highest decile, decreasing to a small or negative difference in the lowest decile (i.e. treatment rate similar to control rate, or lower than control rate). In other words, as predicted uplift increases, the true uplift from control to treatment group should increase as well.\n",
        "\n",
        "Create new dataframe object"
      ],
      "metadata": {
        "id": "SqF5dTNUoP-W"
      }
    },
    {
      "cell_type": "code",
      "source": [
        "valid_w_score = X_test.copy()\n",
        "valid_w_score['Uplift score'] = y_pred"
      ],
      "metadata": {
        "id": "QRzElmIYoSpp"
      },
      "execution_count": null,
      "outputs": []
    },
    {
      "cell_type": "markdown",
      "source": [
        " Check the first 5 rows"
      ],
      "metadata": {
        "id": "aLG2_SC4oW4W"
      }
    },
    {
      "cell_type": "code",
      "source": [
        "valid_w_score.head()"
      ],
      "metadata": {
        "colab": {
          "base_uri": "https://localhost:8080/"
        },
        "id": "onNx5scvoa-L",
        "outputId": "41a509bb-eb21-4f25-80c8-43217145c1ed"
      },
      "execution_count": null,
      "outputs": [
        {
          "output_type": "execute_result",
          "data": {
            "text/plain": [
              "          stag  event   age coach  gender_m  industry_Agriculture  \\\n",
              "301  27.236140      0  27.0    no         0                     0   \n",
              "415  36.599589      0  33.0    no         1                     0   \n",
              "154  79.868583      1  23.0    no         1                     0   \n",
              "734  32.328542      0  49.0    no         1                     0   \n",
              "550  46.948665      0  22.0   yes         0                     0   \n",
              "\n",
              "     industry_Banks  industry_Building  industry_Consult  industry_IT  ...  \\\n",
              "301               0                  0                 0            0  ...   \n",
              "415               0                  0                 0            0  ...   \n",
              "154               1                  0                 0            0  ...   \n",
              "734               0                  0                 0            0  ...   \n",
              "550               0                  0                 0            0  ...   \n",
              "\n",
              "     traffic_friends  traffic_rabrecNErab  traffic_recNErab  traffic_referal  \\\n",
              "301                0                    0                 0                0   \n",
              "415                0                    0                 0                0   \n",
              "154                0                    1                 0                0   \n",
              "734                1                    0                 0                0   \n",
              "550                0                    1                 0                0   \n",
              "\n",
              "     traffic_youjs  head_gender_m  greywage_white  way_car  way_foot  \\\n",
              "301              0              1               1        0         0   \n",
              "415              0              0               1        1         0   \n",
              "154              0              0               1        0         0   \n",
              "734              0              1               0        1         0   \n",
              "550              0              0               1        1         0   \n",
              "\n",
              "     Uplift score  \n",
              "301     -0.079015  \n",
              "415     -0.071075  \n",
              "154     -0.031653  \n",
              "734      0.070588  \n",
              "550      0.034553  \n",
              "\n",
              "[5 rows x 46 columns]"
            ],
            "text/html": [
              "\n",
              "  <div id=\"df-70d7261a-2bd2-49fa-a385-df49a12711ac\">\n",
              "    <div class=\"colab-df-container\">\n",
              "      <div>\n",
              "<style scoped>\n",
              "    .dataframe tbody tr th:only-of-type {\n",
              "        vertical-align: middle;\n",
              "    }\n",
              "\n",
              "    .dataframe tbody tr th {\n",
              "        vertical-align: top;\n",
              "    }\n",
              "\n",
              "    .dataframe thead th {\n",
              "        text-align: right;\n",
              "    }\n",
              "</style>\n",
              "<table border=\"1\" class=\"dataframe\">\n",
              "  <thead>\n",
              "    <tr style=\"text-align: right;\">\n",
              "      <th></th>\n",
              "      <th>stag</th>\n",
              "      <th>event</th>\n",
              "      <th>age</th>\n",
              "      <th>coach</th>\n",
              "      <th>gender_m</th>\n",
              "      <th>industry_Agriculture</th>\n",
              "      <th>industry_Banks</th>\n",
              "      <th>industry_Building</th>\n",
              "      <th>industry_Consult</th>\n",
              "      <th>industry_IT</th>\n",
              "      <th>...</th>\n",
              "      <th>traffic_friends</th>\n",
              "      <th>traffic_rabrecNErab</th>\n",
              "      <th>traffic_recNErab</th>\n",
              "      <th>traffic_referal</th>\n",
              "      <th>traffic_youjs</th>\n",
              "      <th>head_gender_m</th>\n",
              "      <th>greywage_white</th>\n",
              "      <th>way_car</th>\n",
              "      <th>way_foot</th>\n",
              "      <th>Uplift score</th>\n",
              "    </tr>\n",
              "  </thead>\n",
              "  <tbody>\n",
              "    <tr>\n",
              "      <th>301</th>\n",
              "      <td>27.236140</td>\n",
              "      <td>0</td>\n",
              "      <td>27.0</td>\n",
              "      <td>no</td>\n",
              "      <td>0</td>\n",
              "      <td>0</td>\n",
              "      <td>0</td>\n",
              "      <td>0</td>\n",
              "      <td>0</td>\n",
              "      <td>0</td>\n",
              "      <td>...</td>\n",
              "      <td>0</td>\n",
              "      <td>0</td>\n",
              "      <td>0</td>\n",
              "      <td>0</td>\n",
              "      <td>0</td>\n",
              "      <td>1</td>\n",
              "      <td>1</td>\n",
              "      <td>0</td>\n",
              "      <td>0</td>\n",
              "      <td>-0.079015</td>\n",
              "    </tr>\n",
              "    <tr>\n",
              "      <th>415</th>\n",
              "      <td>36.599589</td>\n",
              "      <td>0</td>\n",
              "      <td>33.0</td>\n",
              "      <td>no</td>\n",
              "      <td>1</td>\n",
              "      <td>0</td>\n",
              "      <td>0</td>\n",
              "      <td>0</td>\n",
              "      <td>0</td>\n",
              "      <td>0</td>\n",
              "      <td>...</td>\n",
              "      <td>0</td>\n",
              "      <td>0</td>\n",
              "      <td>0</td>\n",
              "      <td>0</td>\n",
              "      <td>0</td>\n",
              "      <td>0</td>\n",
              "      <td>1</td>\n",
              "      <td>1</td>\n",
              "      <td>0</td>\n",
              "      <td>-0.071075</td>\n",
              "    </tr>\n",
              "    <tr>\n",
              "      <th>154</th>\n",
              "      <td>79.868583</td>\n",
              "      <td>1</td>\n",
              "      <td>23.0</td>\n",
              "      <td>no</td>\n",
              "      <td>1</td>\n",
              "      <td>0</td>\n",
              "      <td>1</td>\n",
              "      <td>0</td>\n",
              "      <td>0</td>\n",
              "      <td>0</td>\n",
              "      <td>...</td>\n",
              "      <td>0</td>\n",
              "      <td>1</td>\n",
              "      <td>0</td>\n",
              "      <td>0</td>\n",
              "      <td>0</td>\n",
              "      <td>0</td>\n",
              "      <td>1</td>\n",
              "      <td>0</td>\n",
              "      <td>0</td>\n",
              "      <td>-0.031653</td>\n",
              "    </tr>\n",
              "    <tr>\n",
              "      <th>734</th>\n",
              "      <td>32.328542</td>\n",
              "      <td>0</td>\n",
              "      <td>49.0</td>\n",
              "      <td>no</td>\n",
              "      <td>1</td>\n",
              "      <td>0</td>\n",
              "      <td>0</td>\n",
              "      <td>0</td>\n",
              "      <td>0</td>\n",
              "      <td>0</td>\n",
              "      <td>...</td>\n",
              "      <td>1</td>\n",
              "      <td>0</td>\n",
              "      <td>0</td>\n",
              "      <td>0</td>\n",
              "      <td>0</td>\n",
              "      <td>1</td>\n",
              "      <td>0</td>\n",
              "      <td>1</td>\n",
              "      <td>0</td>\n",
              "      <td>0.070588</td>\n",
              "    </tr>\n",
              "    <tr>\n",
              "      <th>550</th>\n",
              "      <td>46.948665</td>\n",
              "      <td>0</td>\n",
              "      <td>22.0</td>\n",
              "      <td>yes</td>\n",
              "      <td>0</td>\n",
              "      <td>0</td>\n",
              "      <td>0</td>\n",
              "      <td>0</td>\n",
              "      <td>0</td>\n",
              "      <td>0</td>\n",
              "      <td>...</td>\n",
              "      <td>0</td>\n",
              "      <td>1</td>\n",
              "      <td>0</td>\n",
              "      <td>0</td>\n",
              "      <td>0</td>\n",
              "      <td>0</td>\n",
              "      <td>1</td>\n",
              "      <td>1</td>\n",
              "      <td>0</td>\n",
              "      <td>0.034553</td>\n",
              "    </tr>\n",
              "  </tbody>\n",
              "</table>\n",
              "<p>5 rows × 46 columns</p>\n",
              "</div>\n",
              "      <button class=\"colab-df-convert\" onclick=\"convertToInteractive('df-70d7261a-2bd2-49fa-a385-df49a12711ac')\"\n",
              "              title=\"Convert this dataframe to an interactive table.\"\n",
              "              style=\"display:none;\">\n",
              "        \n",
              "  <svg xmlns=\"http://www.w3.org/2000/svg\" height=\"24px\"viewBox=\"0 0 24 24\"\n",
              "       width=\"24px\">\n",
              "    <path d=\"M0 0h24v24H0V0z\" fill=\"none\"/>\n",
              "    <path d=\"M18.56 5.44l.94 2.06.94-2.06 2.06-.94-2.06-.94-.94-2.06-.94 2.06-2.06.94zm-11 1L8.5 8.5l.94-2.06 2.06-.94-2.06-.94L8.5 2.5l-.94 2.06-2.06.94zm10 10l.94 2.06.94-2.06 2.06-.94-2.06-.94-.94-2.06-.94 2.06-2.06.94z\"/><path d=\"M17.41 7.96l-1.37-1.37c-.4-.4-.92-.59-1.43-.59-.52 0-1.04.2-1.43.59L10.3 9.45l-7.72 7.72c-.78.78-.78 2.05 0 2.83L4 21.41c.39.39.9.59 1.41.59.51 0 1.02-.2 1.41-.59l7.78-7.78 2.81-2.81c.8-.78.8-2.07 0-2.86zM5.41 20L4 18.59l7.72-7.72 1.47 1.35L5.41 20z\"/>\n",
              "  </svg>\n",
              "      </button>\n",
              "      \n",
              "  <style>\n",
              "    .colab-df-container {\n",
              "      display:flex;\n",
              "      flex-wrap:wrap;\n",
              "      gap: 12px;\n",
              "    }\n",
              "\n",
              "    .colab-df-convert {\n",
              "      background-color: #E8F0FE;\n",
              "      border: none;\n",
              "      border-radius: 50%;\n",
              "      cursor: pointer;\n",
              "      display: none;\n",
              "      fill: #1967D2;\n",
              "      height: 32px;\n",
              "      padding: 0 0 0 0;\n",
              "      width: 32px;\n",
              "    }\n",
              "\n",
              "    .colab-df-convert:hover {\n",
              "      background-color: #E2EBFA;\n",
              "      box-shadow: 0px 1px 2px rgba(60, 64, 67, 0.3), 0px 1px 3px 1px rgba(60, 64, 67, 0.15);\n",
              "      fill: #174EA6;\n",
              "    }\n",
              "\n",
              "    [theme=dark] .colab-df-convert {\n",
              "      background-color: #3B4455;\n",
              "      fill: #D2E3FC;\n",
              "    }\n",
              "\n",
              "    [theme=dark] .colab-df-convert:hover {\n",
              "      background-color: #434B5C;\n",
              "      box-shadow: 0px 1px 3px 1px rgba(0, 0, 0, 0.15);\n",
              "      filter: drop-shadow(0px 1px 2px rgba(0, 0, 0, 0.3));\n",
              "      fill: #FFFFFF;\n",
              "    }\n",
              "  </style>\n",
              "\n",
              "      <script>\n",
              "        const buttonEl =\n",
              "          document.querySelector('#df-70d7261a-2bd2-49fa-a385-df49a12711ac button.colab-df-convert');\n",
              "        buttonEl.style.display =\n",
              "          google.colab.kernel.accessAllowed ? 'block' : 'none';\n",
              "\n",
              "        async function convertToInteractive(key) {\n",
              "          const element = document.querySelector('#df-70d7261a-2bd2-49fa-a385-df49a12711ac');\n",
              "          const dataTable =\n",
              "            await google.colab.kernel.invokeFunction('convertToInteractive',\n",
              "                                                     [key], {});\n",
              "          if (!dataTable) return;\n",
              "\n",
              "          const docLinkHtml = 'Like what you see? Visit the ' +\n",
              "            '<a target=\"_blank\" href=https://colab.research.google.com/notebooks/data_table.ipynb>data table notebook</a>'\n",
              "            + ' to learn more about interactive tables.';\n",
              "          element.innerHTML = '';\n",
              "          dataTable['output_type'] = 'display_data';\n",
              "          await google.colab.output.renderOutput(dataTable, element);\n",
              "          const docLink = document.createElement('div');\n",
              "          docLink.innerHTML = docLinkHtml;\n",
              "          element.appendChild(docLink);\n",
              "        }\n",
              "      </script>\n",
              "    </div>\n",
              "  </div>\n",
              "  "
            ]
          },
          "metadata": {},
          "execution_count": 165
        }
      ]
    },
    {
      "cell_type": "code",
      "source": [
        "valid_w_score['coach'].value_counts()"
      ],
      "metadata": {
        "colab": {
          "base_uri": "https://localhost:8080/"
        },
        "id": "_Sk1zi2koiL4",
        "outputId": "59770e4d-55d3-4e7f-ecef-a5b5748c7295"
      },
      "execution_count": null,
      "outputs": [
        {
          "output_type": "execute_result",
          "data": {
            "text/plain": [
              "no     345\n",
              "yes    220\n",
              "Name: coach, dtype: int64"
            ]
          },
          "metadata": {},
          "execution_count": 166
        }
      ]
    },
    {
      "cell_type": "markdown",
      "source": [
        "Bin uplift score by using quantile"
      ],
      "metadata": {
        "id": "1XijcDb6onC4"
      }
    },
    {
      "cell_type": "code",
      "source": [
        "score_quantiles, score_quantile_bins = pd.qcut(\n",
        "    x = valid_w_score['Uplift score'],\n",
        "    q = 10,\n",
        "    retbins = True,\n",
        "    duplicates = 'drop'\n",
        ")"
      ],
      "metadata": {
        "id": "W6qU3HttoozX"
      },
      "execution_count": null,
      "outputs": []
    },
    {
      "cell_type": "markdown",
      "source": [
        "Calculate number of users for each bin"
      ],
      "metadata": {
        "id": "qFVqP8i8osb7"
      }
    },
    {
      "cell_type": "code",
      "source": [
        "score_quantiles.value_counts()"
      ],
      "metadata": {
        "colab": {
          "base_uri": "https://localhost:8080/"
        },
        "id": "ZMZyKzmkouIX",
        "outputId": "3ce275a6-966e-40a7-bc4c-08925a637ac7"
      },
      "execution_count": null,
      "outputs": [
        {
          "output_type": "execute_result",
          "data": {
            "text/plain": [
              "(-0.103, -0.0644]      67\n",
              "(-0.0206, -0.00726]    65\n",
              "(-0.0459, -0.0206]     58\n",
              "(0.00701, 0.0159]      57\n",
              "(0.0327, 0.0637]       57\n",
              "(0.0637, 0.0849]       57\n",
              "(0.0849, 0.192]        56\n",
              "(0.0159, 0.0327]       55\n",
              "(-0.0644, -0.0459]     47\n",
              "(-0.00726, 0.00701]    46\n",
              "Name: Uplift score, dtype: int64"
            ]
          },
          "metadata": {},
          "execution_count": 168
        }
      ]
    },
    {
      "cell_type": "markdown",
      "source": [
        "Save quantile score as new column to valid_w_score"
      ],
      "metadata": {
        "id": "1JKQF7B6o0qx"
      }
    },
    {
      "cell_type": "code",
      "source": [
        "valid_w_score['Quantile bin'] = score_quantiles"
      ],
      "metadata": {
        "id": "7OjLiK3po2G7"
      },
      "execution_count": null,
      "outputs": []
    },
    {
      "cell_type": "markdown",
      "source": [
        "Check the first 5 rows"
      ],
      "metadata": {
        "id": "5ctIhXFuo4Z0"
      }
    },
    {
      "cell_type": "code",
      "source": [
        "valid_w_score[['coach', 'event', 'Uplift score', 'Quantile bin']].head(10)"
      ],
      "metadata": {
        "colab": {
          "base_uri": "https://localhost:8080/"
        },
        "id": "xamybz4bo6Wg",
        "outputId": "37462971-d320-4d3f-981a-07c9affe748a"
      },
      "execution_count": null,
      "outputs": [
        {
          "output_type": "execute_result",
          "data": {
            "text/plain": [
              "     coach  event  Uplift score         Quantile bin\n",
              "301     no      0     -0.079015    (-0.103, -0.0644]\n",
              "415     no      0     -0.071075    (-0.103, -0.0644]\n",
              "154     no      1     -0.031653   (-0.0459, -0.0206]\n",
              "734     no      0      0.070588     (0.0637, 0.0849]\n",
              "550    yes      0      0.034553     (0.0327, 0.0637]\n",
              "569    yes      1     -0.101841    (-0.103, -0.0644]\n",
              "308     no      0      0.020581     (0.0159, 0.0327]\n",
              "509    yes      0      0.015569    (0.00701, 0.0159]\n",
              "379     no      1     -0.011375  (-0.0206, -0.00726]\n",
              "1014   yes      0     -0.002245  (-0.00726, 0.00701]"
            ],
            "text/html": [
              "\n",
              "  <div id=\"df-ab1491e3-9866-4f3d-894f-17a6b5d75918\">\n",
              "    <div class=\"colab-df-container\">\n",
              "      <div>\n",
              "<style scoped>\n",
              "    .dataframe tbody tr th:only-of-type {\n",
              "        vertical-align: middle;\n",
              "    }\n",
              "\n",
              "    .dataframe tbody tr th {\n",
              "        vertical-align: top;\n",
              "    }\n",
              "\n",
              "    .dataframe thead th {\n",
              "        text-align: right;\n",
              "    }\n",
              "</style>\n",
              "<table border=\"1\" class=\"dataframe\">\n",
              "  <thead>\n",
              "    <tr style=\"text-align: right;\">\n",
              "      <th></th>\n",
              "      <th>coach</th>\n",
              "      <th>event</th>\n",
              "      <th>Uplift score</th>\n",
              "      <th>Quantile bin</th>\n",
              "    </tr>\n",
              "  </thead>\n",
              "  <tbody>\n",
              "    <tr>\n",
              "      <th>301</th>\n",
              "      <td>no</td>\n",
              "      <td>0</td>\n",
              "      <td>-0.079015</td>\n",
              "      <td>(-0.103, -0.0644]</td>\n",
              "    </tr>\n",
              "    <tr>\n",
              "      <th>415</th>\n",
              "      <td>no</td>\n",
              "      <td>0</td>\n",
              "      <td>-0.071075</td>\n",
              "      <td>(-0.103, -0.0644]</td>\n",
              "    </tr>\n",
              "    <tr>\n",
              "      <th>154</th>\n",
              "      <td>no</td>\n",
              "      <td>1</td>\n",
              "      <td>-0.031653</td>\n",
              "      <td>(-0.0459, -0.0206]</td>\n",
              "    </tr>\n",
              "    <tr>\n",
              "      <th>734</th>\n",
              "      <td>no</td>\n",
              "      <td>0</td>\n",
              "      <td>0.070588</td>\n",
              "      <td>(0.0637, 0.0849]</td>\n",
              "    </tr>\n",
              "    <tr>\n",
              "      <th>550</th>\n",
              "      <td>yes</td>\n",
              "      <td>0</td>\n",
              "      <td>0.034553</td>\n",
              "      <td>(0.0327, 0.0637]</td>\n",
              "    </tr>\n",
              "    <tr>\n",
              "      <th>569</th>\n",
              "      <td>yes</td>\n",
              "      <td>1</td>\n",
              "      <td>-0.101841</td>\n",
              "      <td>(-0.103, -0.0644]</td>\n",
              "    </tr>\n",
              "    <tr>\n",
              "      <th>308</th>\n",
              "      <td>no</td>\n",
              "      <td>0</td>\n",
              "      <td>0.020581</td>\n",
              "      <td>(0.0159, 0.0327]</td>\n",
              "    </tr>\n",
              "    <tr>\n",
              "      <th>509</th>\n",
              "      <td>yes</td>\n",
              "      <td>0</td>\n",
              "      <td>0.015569</td>\n",
              "      <td>(0.00701, 0.0159]</td>\n",
              "    </tr>\n",
              "    <tr>\n",
              "      <th>379</th>\n",
              "      <td>no</td>\n",
              "      <td>1</td>\n",
              "      <td>-0.011375</td>\n",
              "      <td>(-0.0206, -0.00726]</td>\n",
              "    </tr>\n",
              "    <tr>\n",
              "      <th>1014</th>\n",
              "      <td>yes</td>\n",
              "      <td>0</td>\n",
              "      <td>-0.002245</td>\n",
              "      <td>(-0.00726, 0.00701]</td>\n",
              "    </tr>\n",
              "  </tbody>\n",
              "</table>\n",
              "</div>\n",
              "      <button class=\"colab-df-convert\" onclick=\"convertToInteractive('df-ab1491e3-9866-4f3d-894f-17a6b5d75918')\"\n",
              "              title=\"Convert this dataframe to an interactive table.\"\n",
              "              style=\"display:none;\">\n",
              "        \n",
              "  <svg xmlns=\"http://www.w3.org/2000/svg\" height=\"24px\"viewBox=\"0 0 24 24\"\n",
              "       width=\"24px\">\n",
              "    <path d=\"M0 0h24v24H0V0z\" fill=\"none\"/>\n",
              "    <path d=\"M18.56 5.44l.94 2.06.94-2.06 2.06-.94-2.06-.94-.94-2.06-.94 2.06-2.06.94zm-11 1L8.5 8.5l.94-2.06 2.06-.94-2.06-.94L8.5 2.5l-.94 2.06-2.06.94zm10 10l.94 2.06.94-2.06 2.06-.94-2.06-.94-.94-2.06-.94 2.06-2.06.94z\"/><path d=\"M17.41 7.96l-1.37-1.37c-.4-.4-.92-.59-1.43-.59-.52 0-1.04.2-1.43.59L10.3 9.45l-7.72 7.72c-.78.78-.78 2.05 0 2.83L4 21.41c.39.39.9.59 1.41.59.51 0 1.02-.2 1.41-.59l7.78-7.78 2.81-2.81c.8-.78.8-2.07 0-2.86zM5.41 20L4 18.59l7.72-7.72 1.47 1.35L5.41 20z\"/>\n",
              "  </svg>\n",
              "      </button>\n",
              "      \n",
              "  <style>\n",
              "    .colab-df-container {\n",
              "      display:flex;\n",
              "      flex-wrap:wrap;\n",
              "      gap: 12px;\n",
              "    }\n",
              "\n",
              "    .colab-df-convert {\n",
              "      background-color: #E8F0FE;\n",
              "      border: none;\n",
              "      border-radius: 50%;\n",
              "      cursor: pointer;\n",
              "      display: none;\n",
              "      fill: #1967D2;\n",
              "      height: 32px;\n",
              "      padding: 0 0 0 0;\n",
              "      width: 32px;\n",
              "    }\n",
              "\n",
              "    .colab-df-convert:hover {\n",
              "      background-color: #E2EBFA;\n",
              "      box-shadow: 0px 1px 2px rgba(60, 64, 67, 0.3), 0px 1px 3px 1px rgba(60, 64, 67, 0.15);\n",
              "      fill: #174EA6;\n",
              "    }\n",
              "\n",
              "    [theme=dark] .colab-df-convert {\n",
              "      background-color: #3B4455;\n",
              "      fill: #D2E3FC;\n",
              "    }\n",
              "\n",
              "    [theme=dark] .colab-df-convert:hover {\n",
              "      background-color: #434B5C;\n",
              "      box-shadow: 0px 1px 3px 1px rgba(0, 0, 0, 0.15);\n",
              "      filter: drop-shadow(0px 1px 2px rgba(0, 0, 0, 0.3));\n",
              "      fill: #FFFFFF;\n",
              "    }\n",
              "  </style>\n",
              "\n",
              "      <script>\n",
              "        const buttonEl =\n",
              "          document.querySelector('#df-ab1491e3-9866-4f3d-894f-17a6b5d75918 button.colab-df-convert');\n",
              "        buttonEl.style.display =\n",
              "          google.colab.kernel.accessAllowed ? 'block' : 'none';\n",
              "\n",
              "        async function convertToInteractive(key) {\n",
              "          const element = document.querySelector('#df-ab1491e3-9866-4f3d-894f-17a6b5d75918');\n",
              "          const dataTable =\n",
              "            await google.colab.kernel.invokeFunction('convertToInteractive',\n",
              "                                                     [key], {});\n",
              "          if (!dataTable) return;\n",
              "\n",
              "          const docLinkHtml = 'Like what you see? Visit the ' +\n",
              "            '<a target=\"_blank\" href=https://colab.research.google.com/notebooks/data_table.ipynb>data table notebook</a>'\n",
              "            + ' to learn more about interactive tables.';\n",
              "          element.innerHTML = '';\n",
              "          dataTable['output_type'] = 'display_data';\n",
              "          await google.colab.output.renderOutput(dataTable, element);\n",
              "          const docLink = document.createElement('div');\n",
              "          docLink.innerHTML = docLinkHtml;\n",
              "          element.appendChild(docLink);\n",
              "        }\n",
              "      </script>\n",
              "    </div>\n",
              "  </div>\n",
              "  "
            ]
          },
          "metadata": {},
          "execution_count": 170
        }
      ]
    },
    {
      "cell_type": "markdown",
      "source": [
        "Calculate number of samples for each bins"
      ],
      "metadata": {
        "id": "kRRZm9QgpB-X"
      }
    },
    {
      "cell_type": "code",
      "source": [
        "count_by_quantile_and_treatment = valid_w_score.groupby(['Quantile bin', 'coach'])['coach'].count().unstack(-1)"
      ],
      "metadata": {
        "id": "vbE7cXWopDgN"
      },
      "execution_count": null,
      "outputs": []
    },
    {
      "cell_type": "code",
      "source": [
        "count_by_quantile_and_treatment"
      ],
      "metadata": {
        "colab": {
          "base_uri": "https://localhost:8080/"
        },
        "id": "iWHitYpWpJYg",
        "outputId": "fcb53119-036d-4fc0-8cce-9ef4bf1c7826"
      },
      "execution_count": null,
      "outputs": [
        {
          "output_type": "execute_result",
          "data": {
            "text/plain": [
              "coach                no  yes\n",
              "Quantile bin                \n",
              "(-0.103, -0.0644]    36   31\n",
              "(-0.0644, -0.0459]   25   22\n",
              "(-0.0459, -0.0206]   37   21\n",
              "(-0.0206, -0.00726]  38   27\n",
              "(-0.00726, 0.00701]  27   19\n",
              "(0.00701, 0.0159]    30   27\n",
              "(0.0159, 0.0327]     34   21\n",
              "(0.0327, 0.0637]     38   19\n",
              "(0.0637, 0.0849]     35   22\n",
              "(0.0849, 0.192]      45   11"
            ],
            "text/html": [
              "\n",
              "  <div id=\"df-c531e7f5-a4eb-4bdb-a00e-f38b7039b5b1\">\n",
              "    <div class=\"colab-df-container\">\n",
              "      <div>\n",
              "<style scoped>\n",
              "    .dataframe tbody tr th:only-of-type {\n",
              "        vertical-align: middle;\n",
              "    }\n",
              "\n",
              "    .dataframe tbody tr th {\n",
              "        vertical-align: top;\n",
              "    }\n",
              "\n",
              "    .dataframe thead th {\n",
              "        text-align: right;\n",
              "    }\n",
              "</style>\n",
              "<table border=\"1\" class=\"dataframe\">\n",
              "  <thead>\n",
              "    <tr style=\"text-align: right;\">\n",
              "      <th>coach</th>\n",
              "      <th>no</th>\n",
              "      <th>yes</th>\n",
              "    </tr>\n",
              "    <tr>\n",
              "      <th>Quantile bin</th>\n",
              "      <th></th>\n",
              "      <th></th>\n",
              "    </tr>\n",
              "  </thead>\n",
              "  <tbody>\n",
              "    <tr>\n",
              "      <th>(-0.103, -0.0644]</th>\n",
              "      <td>36</td>\n",
              "      <td>31</td>\n",
              "    </tr>\n",
              "    <tr>\n",
              "      <th>(-0.0644, -0.0459]</th>\n",
              "      <td>25</td>\n",
              "      <td>22</td>\n",
              "    </tr>\n",
              "    <tr>\n",
              "      <th>(-0.0459, -0.0206]</th>\n",
              "      <td>37</td>\n",
              "      <td>21</td>\n",
              "    </tr>\n",
              "    <tr>\n",
              "      <th>(-0.0206, -0.00726]</th>\n",
              "      <td>38</td>\n",
              "      <td>27</td>\n",
              "    </tr>\n",
              "    <tr>\n",
              "      <th>(-0.00726, 0.00701]</th>\n",
              "      <td>27</td>\n",
              "      <td>19</td>\n",
              "    </tr>\n",
              "    <tr>\n",
              "      <th>(0.00701, 0.0159]</th>\n",
              "      <td>30</td>\n",
              "      <td>27</td>\n",
              "    </tr>\n",
              "    <tr>\n",
              "      <th>(0.0159, 0.0327]</th>\n",
              "      <td>34</td>\n",
              "      <td>21</td>\n",
              "    </tr>\n",
              "    <tr>\n",
              "      <th>(0.0327, 0.0637]</th>\n",
              "      <td>38</td>\n",
              "      <td>19</td>\n",
              "    </tr>\n",
              "    <tr>\n",
              "      <th>(0.0637, 0.0849]</th>\n",
              "      <td>35</td>\n",
              "      <td>22</td>\n",
              "    </tr>\n",
              "    <tr>\n",
              "      <th>(0.0849, 0.192]</th>\n",
              "      <td>45</td>\n",
              "      <td>11</td>\n",
              "    </tr>\n",
              "  </tbody>\n",
              "</table>\n",
              "</div>\n",
              "      <button class=\"colab-df-convert\" onclick=\"convertToInteractive('df-c531e7f5-a4eb-4bdb-a00e-f38b7039b5b1')\"\n",
              "              title=\"Convert this dataframe to an interactive table.\"\n",
              "              style=\"display:none;\">\n",
              "        \n",
              "  <svg xmlns=\"http://www.w3.org/2000/svg\" height=\"24px\"viewBox=\"0 0 24 24\"\n",
              "       width=\"24px\">\n",
              "    <path d=\"M0 0h24v24H0V0z\" fill=\"none\"/>\n",
              "    <path d=\"M18.56 5.44l.94 2.06.94-2.06 2.06-.94-2.06-.94-.94-2.06-.94 2.06-2.06.94zm-11 1L8.5 8.5l.94-2.06 2.06-.94-2.06-.94L8.5 2.5l-.94 2.06-2.06.94zm10 10l.94 2.06.94-2.06 2.06-.94-2.06-.94-.94-2.06-.94 2.06-2.06.94z\"/><path d=\"M17.41 7.96l-1.37-1.37c-.4-.4-.92-.59-1.43-.59-.52 0-1.04.2-1.43.59L10.3 9.45l-7.72 7.72c-.78.78-.78 2.05 0 2.83L4 21.41c.39.39.9.59 1.41.59.51 0 1.02-.2 1.41-.59l7.78-7.78 2.81-2.81c.8-.78.8-2.07 0-2.86zM5.41 20L4 18.59l7.72-7.72 1.47 1.35L5.41 20z\"/>\n",
              "  </svg>\n",
              "      </button>\n",
              "      \n",
              "  <style>\n",
              "    .colab-df-container {\n",
              "      display:flex;\n",
              "      flex-wrap:wrap;\n",
              "      gap: 12px;\n",
              "    }\n",
              "\n",
              "    .colab-df-convert {\n",
              "      background-color: #E8F0FE;\n",
              "      border: none;\n",
              "      border-radius: 50%;\n",
              "      cursor: pointer;\n",
              "      display: none;\n",
              "      fill: #1967D2;\n",
              "      height: 32px;\n",
              "      padding: 0 0 0 0;\n",
              "      width: 32px;\n",
              "    }\n",
              "\n",
              "    .colab-df-convert:hover {\n",
              "      background-color: #E2EBFA;\n",
              "      box-shadow: 0px 1px 2px rgba(60, 64, 67, 0.3), 0px 1px 3px 1px rgba(60, 64, 67, 0.15);\n",
              "      fill: #174EA6;\n",
              "    }\n",
              "\n",
              "    [theme=dark] .colab-df-convert {\n",
              "      background-color: #3B4455;\n",
              "      fill: #D2E3FC;\n",
              "    }\n",
              "\n",
              "    [theme=dark] .colab-df-convert:hover {\n",
              "      background-color: #434B5C;\n",
              "      box-shadow: 0px 1px 3px 1px rgba(0, 0, 0, 0.15);\n",
              "      filter: drop-shadow(0px 1px 2px rgba(0, 0, 0, 0.3));\n",
              "      fill: #FFFFFF;\n",
              "    }\n",
              "  </style>\n",
              "\n",
              "      <script>\n",
              "        const buttonEl =\n",
              "          document.querySelector('#df-c531e7f5-a4eb-4bdb-a00e-f38b7039b5b1 button.colab-df-convert');\n",
              "        buttonEl.style.display =\n",
              "          google.colab.kernel.accessAllowed ? 'block' : 'none';\n",
              "\n",
              "        async function convertToInteractive(key) {\n",
              "          const element = document.querySelector('#df-c531e7f5-a4eb-4bdb-a00e-f38b7039b5b1');\n",
              "          const dataTable =\n",
              "            await google.colab.kernel.invokeFunction('convertToInteractive',\n",
              "                                                     [key], {});\n",
              "          if (!dataTable) return;\n",
              "\n",
              "          const docLinkHtml = 'Like what you see? Visit the ' +\n",
              "            '<a target=\"_blank\" href=https://colab.research.google.com/notebooks/data_table.ipynb>data table notebook</a>'\n",
              "            + ' to learn more about interactive tables.';\n",
              "          element.innerHTML = '';\n",
              "          dataTable['output_type'] = 'display_data';\n",
              "          await google.colab.output.renderOutput(dataTable, element);\n",
              "          const docLink = document.createElement('div');\n",
              "          docLink.innerHTML = docLinkHtml;\n",
              "          element.appendChild(docLink);\n",
              "        }\n",
              "      </script>\n",
              "    </div>\n",
              "  </div>\n",
              "  "
            ]
          },
          "metadata": {},
          "execution_count": 172
        }
      ]
    },
    {
      "cell_type": "markdown",
      "source": [
        "Visualize the impact of treatment"
      ],
      "metadata": {
        "id": "nG4-q8COpP1K"
      }
    },
    {
      "cell_type": "code",
      "source": [
        "count_by_quantile_and_treatment[['yes', 'no']].plot.barh()\n",
        "plt.xlabel('Number of observations');"
      ],
      "metadata": {
        "colab": {
          "base_uri": "https://localhost:8080/"
        },
        "id": "eu72lbiwpSAo",
        "outputId": "72fc7818-16f2-4cf9-9b41-60ae8d29eec1"
      },
      "execution_count": null,
      "outputs": [
        {
          "output_type": "display_data",
          "data": {
            "text/plain": [
              "<Figure size 1296x648 with 1 Axes>"
            ],
            "image/png": "[encoded data removed]"
          },
          "metadata": {}
        }
      ]
    },
    {
      "cell_type": "markdown",
      "source": [
        "# **Uplift Quantile Chart**"
      ],
      "metadata": {
        "id": "rzL5HymAp_b2"
      }
    },
    {
      "cell_type": "code",
      "source": [
        "validation_treatment_mask = valid_w_score['coach'] == \"no\""
      ],
      "metadata": {
        "id": "dDORyzi7qBoH"
      },
      "execution_count": null,
      "outputs": []
    },
    {
      "cell_type": "markdown",
      "source": [
        "Get the conversion rates within uplift score quantiles for both groups"
      ],
      "metadata": {
        "id": "MRSfII-HqJYX"
      }
    },
    {
      "cell_type": "code",
      "source": [
        "treatment_by_quantile = valid_w_score[validation_treatment_mask]\\\n",
        "    .groupby('Quantile bin')['event'].mean()\n",
        "control_by_quantile = valid_w_score[~validation_treatment_mask]\\\n",
        "    .groupby('Quantile bin')['event'].mean()"
      ],
      "metadata": {
        "id": "pkoiH2qlqLGf"
      },
      "execution_count": null,
      "outputs": []
    },
    {
      "cell_type": "code",
      "source": [
        "true_uplift_by_quantile = treatment_by_quantile - control_by_quantile"
      ],
      "metadata": {
        "id": "LaEQzssXqUfT"
      },
      "execution_count": null,
      "outputs": []
    },
    {
      "cell_type": "markdown",
      "source": [
        "Check the first 5 rows"
      ],
      "metadata": {
        "id": "Mh4-xO9zqWud"
      }
    },
    {
      "cell_type": "code",
      "source": [
        "true_uplift_by_quantile.head(5)"
      ],
      "metadata": {
        "colab": {
          "base_uri": "https://localhost:8080/"
        },
        "id": "-NSV20YTqYVC",
        "outputId": "a06b8c70-1679-46d7-9785-8a292d9be155"
      },
      "execution_count": null,
      "outputs": [
        {
          "output_type": "execute_result",
          "data": {
            "text/plain": [
              "Quantile bin\n",
              "(-0.103, -0.0644]     -0.007168\n",
              "(-0.0644, -0.0459]     0.441818\n",
              "(-0.0459, -0.0206]     0.077220\n",
              "(-0.0206, -0.00726]   -0.029240\n",
              "(-0.00726, 0.00701]   -0.066277\n",
              "Name: event, dtype: float64"
            ]
          },
          "metadata": {},
          "execution_count": 177
        }
      ]
    },
    {
      "cell_type": "markdown",
      "source": [
        "Visualize uplift quantile chart"
      ],
      "metadata": {
        "id": "fLdAjwZ0qbpl"
      }
    },
    {
      "cell_type": "code",
      "source": [
        "plt.rcParams[\"figure.figsize\"] = (5, 10)\n",
        "true_uplift_by_quantile.plot.barh()\n",
        "plt.xlabel('True uplift');"
      ],
      "metadata": {
        "colab": {
          "base_uri": "https://localhost:8080/",
          "height": 651
        },
        "id": "A4EnKlBfqddq",
        "outputId": "7ee2608e-8405-4d4b-def9-de3d395a0ab6"
      },
      "execution_count": null,
      "outputs": [
        {
          "output_type": "display_data",
          "data": {
            "text/plain": [
              "<Figure size 360x720 with 1 Axes>"
            ],
            "image/png": "[encoded data removed]"
          },
          "metadata": {}
        }
      ]
    },
    {
      "cell_type": "markdown",
      "source": [
        "{intrepretation}"
      ],
      "metadata": {
        "id": "ashqQNCmqnyy"
      }
    },
    {
      "cell_type": "markdown",
      "source": [
        "# **Model Interpretation**"
      ],
      "metadata": {
        "id": "R_G8m2w1qrsD"
      }
    },
    {
      "cell_type": "code",
      "source": [
        "pd.DataFrame(\n",
        "    {\n",
        "        \"Variable\": x_col,\n",
        "        \"importance\": uplift_model.feature_importances_\n",
        "    }\n",
        ").sort_values(by=\"importance\", ascending = False)"
      ],
      "metadata": {
        "colab": {
          "base_uri": "https://localhost:8080/",
          "height": 1000
        },
        "id": "T7qUZLhjqutB",
        "outputId": "7c30858d-1e22-49de-eb18-4f2ed4412c0e"
      },
      "execution_count": null,
      "outputs": [
        {
          "output_type": "execute_result",
          "data": {
            "text/plain": [
              "                          Variable  importance\n",
              "41                         way_car    0.223372\n",
              "1                              age    0.164706\n",
              "0                             stag    0.162723\n",
              "39                   head_gender_m    0.121416\n",
              "38                   traffic_youjs    0.105425\n",
              "33                   traffic_empjs    0.097467\n",
              "2                         gender_m    0.067849\n",
              "23                   profession_HR    0.042365\n",
              "35             traffic_rabrecNErab    0.014676\n",
              "37                 traffic_referal    0.000000\n",
              "36                traffic_recNErab    0.000000\n",
              "34                 traffic_friends    0.000000\n",
              "40                  greywage_white    0.000000\n",
              "31               profession_manage    0.000000\n",
              "30                  profession_etc    0.000000\n",
              "29             profession_Teaching    0.000000\n",
              "28                profession_Sales    0.000000\n",
              "27                   profession_PR    0.000000\n",
              "26            profession_Marketing    0.000000\n",
              "25                  profession_Law    0.000000\n",
              "24                   profession_IT    0.000000\n",
              "32                  traffic_advert    0.000000\n",
              "21             profession_Engineer    0.000000\n",
              "22              profession_Finanñe    0.000000\n",
              "20              profession_Consult    0.000000\n",
              "3             industry_Agriculture    0.000000\n",
              "4                   industry_Banks    0.000000\n",
              "5                industry_Building    0.000000\n",
              "6                 industry_Consult    0.000000\n",
              "7                      industry_IT    0.000000\n",
              "8                  industry_Mining    0.000000\n",
              "9                  industry_Pharma    0.000000\n",
              "10        industry_PowerGeneration    0.000000\n",
              "11             industry_RealEstate    0.000000\n",
              "12                 industry_Retail    0.000000\n",
              "13                  industry_State    0.000000\n",
              "14                industry_Telecom    0.000000\n",
              "15                    industry_etc    0.000000\n",
              "16            industry_manufacture    0.000000\n",
              "17              industry_transport    0.000000\n",
              "18  profession_BusinessDevelopment    0.000000\n",
              "19           profession_Commercial    0.000000\n",
              "42                        way_foot    0.000000"
            ],
            "text/html": [
              "\n",
              "  <div id=\"df-141832f6-fb21-4a30-acf1-6f5ff20d5725\">\n",
              "    <div class=\"colab-df-container\">\n",
              "      <div>\n",
              "<style scoped>\n",
              "    .dataframe tbody tr th:only-of-type {\n",
              "        vertical-align: middle;\n",
              "    }\n",
              "\n",
              "    .dataframe tbody tr th {\n",
              "        vertical-align: top;\n",
              "    }\n",
              "\n",
              "    .dataframe thead th {\n",
              "        text-align: right;\n",
              "    }\n",
              "</style>\n",
              "<table border=\"1\" class=\"dataframe\">\n",
              "  <thead>\n",
              "    <tr style=\"text-align: right;\">\n",
              "      <th></th>\n",
              "      <th>Variable</th>\n",
              "      <th>importance</th>\n",
              "    </tr>\n",
              "  </thead>\n",
              "  <tbody>\n",
              "    <tr>\n",
              "      <th>41</th>\n",
              "      <td>way_car</td>\n",
              "      <td>0.223372</td>\n",
              "    </tr>\n",
              "    <tr>\n",
              "      <th>1</th>\n",
              "      <td>age</td>\n",
              "      <td>0.164706</td>\n",
              "    </tr>\n",
              "    <tr>\n",
              "      <th>0</th>\n",
              "      <td>stag</td>\n",
              "      <td>0.162723</td>\n",
              "    </tr>\n",
              "    <tr>\n",
              "      <th>39</th>\n",
              "      <td>head_gender_m</td>\n",
              "      <td>0.121416</td>\n",
              "    </tr>\n",
              "    <tr>\n",
              "      <th>38</th>\n",
              "      <td>traffic_youjs</td>\n",
              "      <td>0.105425</td>\n",
              "    </tr>\n",
              "    <tr>\n",
              "      <th>33</th>\n",
              "      <td>traffic_empjs</td>\n",
              "      <td>0.097467</td>\n",
              "    </tr>\n",
              "    <tr>\n",
              "      <th>2</th>\n",
              "      <td>gender_m</td>\n",
              "      <td>0.067849</td>\n",
              "    </tr>\n",
              "    <tr>\n",
              "      <th>23</th>\n",
              "      <td>profession_HR</td>\n",
              "      <td>0.042365</td>\n",
              "    </tr>\n",
              "    <tr>\n",
              "      <th>35</th>\n",
              "      <td>traffic_rabrecNErab</td>\n",
              "      <td>0.014676</td>\n",
              "    </tr>\n",
              "    <tr>\n",
              "      <th>37</th>\n",
              "      <td>traffic_referal</td>\n",
              "      <td>0.000000</td>\n",
              "    </tr>\n",
              "    <tr>\n",
              "      <th>36</th>\n",
              "      <td>traffic_recNErab</td>\n",
              "      <td>0.000000</td>\n",
              "    </tr>\n",
              "    <tr>\n",
              "      <th>34</th>\n",
              "      <td>traffic_friends</td>\n",
              "      <td>0.000000</td>\n",
              "    </tr>\n",
              "    <tr>\n",
              "      <th>40</th>\n",
              "      <td>greywage_white</td>\n",
              "      <td>0.000000</td>\n",
              "    </tr>\n",
              "    <tr>\n",
              "      <th>31</th>\n",
              "      <td>profession_manage</td>\n",
              "      <td>0.000000</td>\n",
              "    </tr>\n",
              "    <tr>\n",
              "      <th>30</th>\n",
              "      <td>profession_etc</td>\n",
              "      <td>0.000000</td>\n",
              "    </tr>\n",
              "    <tr>\n",
              "      <th>29</th>\n",
              "      <td>profession_Teaching</td>\n",
              "      <td>0.000000</td>\n",
              "    </tr>\n",
              "    <tr>\n",
              "      <th>28</th>\n",
              "      <td>profession_Sales</td>\n",
              "      <td>0.000000</td>\n",
              "    </tr>\n",
              "    <tr>\n",
              "      <th>27</th>\n",
              "      <td>profession_PR</td>\n",
              "      <td>0.000000</td>\n",
              "    </tr>\n",
              "    <tr>\n",
              "      <th>26</th>\n",
              "      <td>profession_Marketing</td>\n",
              "      <td>0.000000</td>\n",
              "    </tr>\n",
              "    <tr>\n",
              "      <th>25</th>\n",
              "      <td>profession_Law</td>\n",
              "      <td>0.000000</td>\n",
              "    </tr>\n",
              "    <tr>\n",
              "      <th>24</th>\n",
              "      <td>profession_IT</td>\n",
              "      <td>0.000000</td>\n",
              "    </tr>\n",
              "    <tr>\n",
              "      <th>32</th>\n",
              "      <td>traffic_advert</td>\n",
              "      <td>0.000000</td>\n",
              "    </tr>\n",
              "    <tr>\n",
              "      <th>21</th>\n",
              "      <td>profession_Engineer</td>\n",
              "      <td>0.000000</td>\n",
              "    </tr>\n",
              "    <tr>\n",
              "      <th>22</th>\n",
              "      <td>profession_Finanñe</td>\n",
              "      <td>0.000000</td>\n",
              "    </tr>\n",
              "    <tr>\n",
              "      <th>20</th>\n",
              "      <td>profession_Consult</td>\n",
              "      <td>0.000000</td>\n",
              "    </tr>\n",
              "    <tr>\n",
              "      <th>3</th>\n",
              "      <td>industry_Agriculture</td>\n",
              "      <td>0.000000</td>\n",
              "    </tr>\n",
              "    <tr>\n",
              "      <th>4</th>\n",
              "      <td>industry_Banks</td>\n",
              "      <td>0.000000</td>\n",
              "    </tr>\n",
              "    <tr>\n",
              "      <th>5</th>\n",
              "      <td>industry_Building</td>\n",
              "      <td>0.000000</td>\n",
              "    </tr>\n",
              "    <tr>\n",
              "      <th>6</th>\n",
              "      <td>industry_Consult</td>\n",
              "      <td>0.000000</td>\n",
              "    </tr>\n",
              "    <tr>\n",
              "      <th>7</th>\n",
              "      <td>industry_IT</td>\n",
              "      <td>0.000000</td>\n",
              "    </tr>\n",
              "    <tr>\n",
              "      <th>8</th>\n",
              "      <td>industry_Mining</td>\n",
              "      <td>0.000000</td>\n",
              "    </tr>\n",
              "    <tr>\n",
              "      <th>9</th>\n",
              "      <td>industry_Pharma</td>\n",
              "      <td>0.000000</td>\n",
              "    </tr>\n",
              "    <tr>\n",
              "      <th>10</th>\n",
              "      <td>industry_PowerGeneration</td>\n",
              "      <td>0.000000</td>\n",
              "    </tr>\n",
              "    <tr>\n",
              "      <th>11</th>\n",
              "      <td>industry_RealEstate</td>\n",
              "      <td>0.000000</td>\n",
              "    </tr>\n",
              "    <tr>\n",
              "      <th>12</th>\n",
              "      <td>industry_Retail</td>\n",
              "      <td>0.000000</td>\n",
              "    </tr>\n",
              "    <tr>\n",
              "      <th>13</th>\n",
              "      <td>industry_State</td>\n",
              "      <td>0.000000</td>\n",
              "    </tr>\n",
              "    <tr>\n",
              "      <th>14</th>\n",
              "      <td>industry_Telecom</td>\n",
              "      <td>0.000000</td>\n",
              "    </tr>\n",
              "    <tr>\n",
              "      <th>15</th>\n",
              "      <td>industry_etc</td>\n",
              "      <td>0.000000</td>\n",
              "    </tr>\n",
              "    <tr>\n",
              "      <th>16</th>\n",
              "      <td>industry_manufacture</td>\n",
              "      <td>0.000000</td>\n",
              "    </tr>\n",
              "    <tr>\n",
              "      <th>17</th>\n",
              "      <td>industry_transport</td>\n",
              "      <td>0.000000</td>\n",
              "    </tr>\n",
              "    <tr>\n",
              "      <th>18</th>\n",
              "      <td>profession_BusinessDevelopment</td>\n",
              "      <td>0.000000</td>\n",
              "    </tr>\n",
              "    <tr>\n",
              "      <th>19</th>\n",
              "      <td>profession_Commercial</td>\n",
              "      <td>0.000000</td>\n",
              "    </tr>\n",
              "    <tr>\n",
              "      <th>42</th>\n",
              "      <td>way_foot</td>\n",
              "      <td>0.000000</td>\n",
              "    </tr>\n",
              "  </tbody>\n",
              "</table>\n",
              "</div>\n",
              "      <button class=\"colab-df-convert\" onclick=\"convertToInteractive('df-141832f6-fb21-4a30-acf1-6f5ff20d5725')\"\n",
              "              title=\"Convert this dataframe to an interactive table.\"\n",
              "              style=\"display:none;\">\n",
              "        \n",
              "  <svg xmlns=\"http://www.w3.org/2000/svg\" height=\"24px\"viewBox=\"0 0 24 24\"\n",
              "       width=\"24px\">\n",
              "    <path d=\"M0 0h24v24H0V0z\" fill=\"none\"/>\n",
              "    <path d=\"M18.56 5.44l.94 2.06.94-2.06 2.06-.94-2.06-.94-.94-2.06-.94 2.06-2.06.94zm-11 1L8.5 8.5l.94-2.06 2.06-.94-2.06-.94L8.5 2.5l-.94 2.06-2.06.94zm10 10l.94 2.06.94-2.06 2.06-.94-2.06-.94-.94-2.06-.94 2.06-2.06.94z\"/><path d=\"M17.41 7.96l-1.37-1.37c-.4-.4-.92-.59-1.43-.59-.52 0-1.04.2-1.43.59L10.3 9.45l-7.72 7.72c-.78.78-.78 2.05 0 2.83L4 21.41c.39.39.9.59 1.41.59.51 0 1.02-.2 1.41-.59l7.78-7.78 2.81-2.81c.8-.78.8-2.07 0-2.86zM5.41 20L4 18.59l7.72-7.72 1.47 1.35L5.41 20z\"/>\n",
              "  </svg>\n",
              "      </button>\n",
              "      \n",
              "  <style>\n",
              "    .colab-df-container {\n",
              "      display:flex;\n",
              "      flex-wrap:wrap;\n",
              "      gap: 12px;\n",
              "    }\n",
              "\n",
              "    .colab-df-convert {\n",
              "      background-color: #E8F0FE;\n",
              "      border: none;\n",
              "      border-radius: 50%;\n",
              "      cursor: pointer;\n",
              "      display: none;\n",
              "      fill: #1967D2;\n",
              "      height: 32px;\n",
              "      padding: 0 0 0 0;\n",
              "      width: 32px;\n",
              "    }\n",
              "\n",
              "    .colab-df-convert:hover {\n",
              "      background-color: #E2EBFA;\n",
              "      box-shadow: 0px 1px 2px rgba(60, 64, 67, 0.3), 0px 1px 3px 1px rgba(60, 64, 67, 0.15);\n",
              "      fill: #174EA6;\n",
              "    }\n",
              "\n",
              "    [theme=dark] .colab-df-convert {\n",
              "      background-color: #3B4455;\n",
              "      fill: #D2E3FC;\n",
              "    }\n",
              "\n",
              "    [theme=dark] .colab-df-convert:hover {\n",
              "      background-color: #434B5C;\n",
              "      box-shadow: 0px 1px 3px 1px rgba(0, 0, 0, 0.15);\n",
              "      filter: drop-shadow(0px 1px 2px rgba(0, 0, 0, 0.3));\n",
              "      fill: #FFFFFF;\n",
              "    }\n",
              "  </style>\n",
              "\n",
              "      <script>\n",
              "        const buttonEl =\n",
              "          document.querySelector('#df-141832f6-fb21-4a30-acf1-6f5ff20d5725 button.colab-df-convert');\n",
              "        buttonEl.style.display =\n",
              "          google.colab.kernel.accessAllowed ? 'block' : 'none';\n",
              "\n",
              "        async function convertToInteractive(key) {\n",
              "          const element = document.querySelector('#df-141832f6-fb21-4a30-acf1-6f5ff20d5725');\n",
              "          const dataTable =\n",
              "            await google.colab.kernel.invokeFunction('convertToInteractive',\n",
              "                                                     [key], {});\n",
              "          if (!dataTable) return;\n",
              "\n",
              "          const docLinkHtml = 'Like what you see? Visit the ' +\n",
              "            '<a target=\"_blank\" href=https://colab.research.google.com/notebooks/data_table.ipynb>data table notebook</a>'\n",
              "            + ' to learn more about interactive tables.';\n",
              "          element.innerHTML = '';\n",
              "          dataTable['output_type'] = 'display_data';\n",
              "          await google.colab.output.renderOutput(dataTable, element);\n",
              "          const docLink = document.createElement('div');\n",
              "          docLink.innerHTML = docLinkHtml;\n",
              "          element.appendChild(docLink);\n",
              "        }\n",
              "      </script>\n",
              "    </div>\n",
              "  </div>\n",
              "  "
            ]
          },
          "metadata": {},
          "execution_count": 179
        }
      ]
    },
    {
      "cell_type": "markdown",
      "source": [
        "penjelasan intrepretation"
      ],
      "metadata": {
        "id": "Vk2_ERxTrTLI"
      }
    },
    {
      "cell_type": "markdown",
      "source": [
        "# **LINK GITHUB**"
      ],
      "metadata": {
        "id": "6wka9SKnU62v"
      }
    },
    {
      "cell_type": "markdown",
      "source": [
        "[Git Hub agung](https://)"
      ],
      "metadata": {
        "id": "vlaqffKKU_wW"
      }
    }
  ]
}